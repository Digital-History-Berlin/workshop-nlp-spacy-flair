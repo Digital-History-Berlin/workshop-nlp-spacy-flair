{
 "cells": [
  {
   "cell_type": "markdown",
   "id": "7314e0ba-e379-4a19-9349-c073aeb7349d",
   "metadata": {},
   "source": [
    "# Flair Basics\n",
    "\n",
    "## Tutorials und Dokumentation\n",
    "\n",
    "https://github.com/flairNLP/flair\n",
    "\n",
    "## Seite an der HU mit Referenzen und Paper\n",
    "\n",
    "https://www.informatik.hu-berlin.de/de/forschung/gebiete/ml/Flair/flair"
   ]
  },
  {
   "cell_type": "markdown",
   "id": "4c90318f-cdd5-4cfc-9b40-6badace1f641",
   "metadata": {},
   "source": [
    "## Imports"
   ]
  },
  {
   "cell_type": "code",
   "execution_count": 1,
   "id": "fd87ba19-549d-45c8-bba5-194f634ecfff",
   "metadata": {},
   "outputs": [],
   "source": [
    "from flair.data import Sentence\n",
    "from flair.models import SequenceTagger\n",
    "from flair.models import MultiTagger\n",
    "from flair.tokenization import SegtokSentenceSplitter"
   ]
  },
  {
   "cell_type": "markdown",
   "id": "12643a28-87c5-4338-a761-7b8c306ca351",
   "metadata": {},
   "source": [
    "## Tokenisierung"
   ]
  },
  {
   "cell_type": "code",
   "execution_count": 49,
   "id": "4af2bfd2-6ba7-4908-9f28-a20a71c37955",
   "metadata": {},
   "outputs": [],
   "source": [
    "# create sentence\n",
    "sentence = Sentence('Die Gefahr eines russischen Einmarsches in die Ukraine schätzt US-Präsident Biden als \"sehr hoch\" ein.')"
   ]
  },
  {
   "cell_type": "code",
   "execution_count": 50,
   "id": "7b383db8-97e8-4099-ac8f-435ae3808291",
   "metadata": {},
   "outputs": [
    {
     "data": {
      "text/plain": [
       "flair.data.Sentence"
      ]
     },
     "execution_count": 50,
     "metadata": {},
     "output_type": "execute_result"
    }
   ],
   "source": [
    "type(sentence)"
   ]
  },
  {
   "cell_type": "code",
   "execution_count": 51,
   "id": "bc0affef-6841-410c-88f3-ff58cb1d2008",
   "metadata": {},
   "outputs": [
    {
     "name": "stdout",
     "output_type": "stream",
     "text": [
      "Sentence: \"Die Gefahr eines russischen Einmarsches in die Ukraine schätzt US-Präsident Biden als \" sehr hoch \" ein .\"   [− Tokens: 18]\n"
     ]
    }
   ],
   "source": [
    "print(sentence)"
   ]
  },
  {
   "cell_type": "code",
   "execution_count": 52,
   "id": "001ac189-80e6-4f42-8fdc-bd0acfcbb2df",
   "metadata": {},
   "outputs": [
    {
     "data": {
      "text/plain": [
       "[Token: 1 Die,\n",
       " Token: 2 Gefahr,\n",
       " Token: 3 eines,\n",
       " Token: 4 russischen,\n",
       " Token: 5 Einmarsches,\n",
       " Token: 6 in,\n",
       " Token: 7 die,\n",
       " Token: 8 Ukraine,\n",
       " Token: 9 schätzt,\n",
       " Token: 10 US-Präsident,\n",
       " Token: 11 Biden,\n",
       " Token: 12 als,\n",
       " Token: 13 \",\n",
       " Token: 14 sehr,\n",
       " Token: 15 hoch,\n",
       " Token: 16 \",\n",
       " Token: 17 ein,\n",
       " Token: 18 .]"
      ]
     },
     "execution_count": 52,
     "metadata": {},
     "output_type": "execute_result"
    }
   ],
   "source": [
    "# show all Tokens\n",
    "sentence.tokens"
   ]
  },
  {
   "cell_type": "code",
   "execution_count": 53,
   "id": "494aa1a1-04a2-4878-aa0d-a5f63bb316d2",
   "metadata": {},
   "outputs": [
    {
     "name": "stdout",
     "output_type": "stream",
     "text": [
      "None\n"
     ]
    }
   ],
   "source": [
    "print(sentence.language_code)"
   ]
  },
  {
   "cell_type": "code",
   "execution_count": 54,
   "id": "5fb2b3a5-9eb2-449a-9731-05d8a4ace767",
   "metadata": {},
   "outputs": [
    {
     "name": "stdout",
     "output_type": "stream",
     "text": [
      "Token: 2 Gefahr\n"
     ]
    }
   ],
   "source": [
    "print(sentence.get_token(2))"
   ]
  },
  {
   "cell_type": "code",
   "execution_count": 55,
   "id": "e84432ec-35ec-4364-82cf-84f203709a1e",
   "metadata": {},
   "outputs": [
    {
     "name": "stdout",
     "output_type": "stream",
     "text": [
      "Die 1\n",
      "Gefahr 2\n",
      "eines 3\n",
      "russischen 4\n",
      "Einmarsches 5\n",
      "in 6\n",
      "die 7\n",
      "Ukraine 8\n",
      "schätzt 9\n",
      "US-Präsident 10\n",
      "Biden 11\n",
      "als 12\n",
      "\" 13\n",
      "sehr 14\n",
      "hoch 15\n",
      "\" 16\n",
      "ein 17\n",
      ". 18\n"
     ]
    }
   ],
   "source": [
    "for token in sentence:\n",
    "    print(token.text, token.idx)    "
   ]
  },
  {
   "cell_type": "markdown",
   "id": "af922b07-24ee-4c2a-94fa-8c546a89d63f",
   "metadata": {},
   "source": [
    "## Tokens in einer Liste"
   ]
  },
  {
   "cell_type": "code",
   "execution_count": 56,
   "id": "6b7ee716-7250-4ba4-b80c-456b82a9b866",
   "metadata": {},
   "outputs": [],
   "source": [
    "token_list = [ token.text for token in sentence ]"
   ]
  },
  {
   "cell_type": "code",
   "execution_count": 36,
   "id": "7ce8e26d-53da-4596-96e2-0d70b5873ecd",
   "metadata": {},
   "outputs": [
    {
     "data": {
      "text/plain": [
       "['Die',\n",
       " 'Gefahr',\n",
       " 'eines',\n",
       " 'russischen',\n",
       " 'Einmarsches',\n",
       " 'in',\n",
       " 'die',\n",
       " 'Ukraine',\n",
       " 'schätzt',\n",
       " 'US-Präsident',\n",
       " 'Biden',\n",
       " 'als',\n",
       " '\"',\n",
       " 'sehr',\n",
       " 'hoch',\n",
       " '\"',\n",
       " 'ein',\n",
       " '.']"
      ]
     },
     "execution_count": 36,
     "metadata": {},
     "output_type": "execute_result"
    }
   ],
   "source": [
    "token_list"
   ]
  },
  {
   "cell_type": "markdown",
   "id": "71fb97b8-3925-41ea-a77a-56ff820d9b48",
   "metadata": {},
   "source": [
    "## Sätze mit einem Label versehen"
   ]
  },
  {
   "cell_type": "code",
   "execution_count": 57,
   "id": "0ff5300b-1744-4190-9d38-41c1150935a6",
   "metadata": {},
   "outputs": [
    {
     "data": {
      "text/plain": [
       "Sentence: \"Die Gefahr eines russischen Einmarsches in die Ukraine schätzt US-Präsident Biden als \" sehr hoch \" ein .\"   [− Tokens: 18  − Sentence-Labels: {'topic': [Ukraine-Konflikt (1.0)]}]"
      ]
     },
     "execution_count": 57,
     "metadata": {},
     "output_type": "execute_result"
    }
   ],
   "source": [
    "sentence.add_label('topic', 'Ukraine-Konflikt')"
   ]
  },
  {
   "cell_type": "code",
   "execution_count": 74,
   "id": "47433d14-5ece-483c-a5b4-4c104889b3f1",
   "metadata": {},
   "outputs": [
    {
     "data": {
      "text/plain": [
       "Sentence: \"Die Gefahr eines russischen Einmarsches in die Ukraine schätzt US-Präsident Biden als \" sehr hoch \" ein .\"   [− Tokens: 18  − Sentence-Labels: {'topic': [Ukraine-Konflikt (1.0)], 'category': [Kriegsgefahr (1.0)], 'language': [German (1.0)]}]"
      ]
     },
     "execution_count": 74,
     "metadata": {},
     "output_type": "execute_result"
    }
   ],
   "source": [
    "sentence.add_label('category', 'Kriegsgefahr')\n",
    "sentence.add_label('language', 'German')"
   ]
  },
  {
   "cell_type": "code",
   "execution_count": 75,
   "id": "0ba7e032-5fb8-441a-9884-5a8b7687b50b",
   "metadata": {},
   "outputs": [],
   "source": [
    "# sentence.remove_labels('language')"
   ]
  },
  {
   "cell_type": "code",
   "execution_count": 76,
   "id": "e8e9b268-ea0c-423a-b94e-43d884a536c9",
   "metadata": {},
   "outputs": [
    {
     "name": "stdout",
     "output_type": "stream",
     "text": [
      "Ukraine-Konflikt (1.0)\n",
      "Kriegsgefahr (1.0)\n",
      "German (1.0)\n"
     ]
    }
   ],
   "source": [
    "for label in sentence.labels:\n",
    "    print(label)"
   ]
  },
  {
   "cell_type": "code",
   "execution_count": 77,
   "id": "eed650b9-bf0e-4de4-8121-e9ec9f7627c5",
   "metadata": {},
   "outputs": [
    {
     "name": "stdout",
     "output_type": "stream",
     "text": [
      "Die Gefahr eines russischen Einmarsches in die Ukraine schätzt US-Präsident Biden als \"sehr hoch\" ein.\n",
      " - classified as \"Ukraine-Konflikt\" with score 1.0\n",
      " - classified as \"Kriegsgefahr\" with score 1.0\n",
      " - classified as \"German\" with score 1.0\n"
     ]
    }
   ],
   "source": [
    "print(sentence.to_plain_string())\n",
    "for label in sentence.labels:\n",
    "    print(f' - classified as \"{label.value}\" with score {label.score}')"
   ]
  },
  {
   "cell_type": "code",
   "execution_count": 78,
   "id": "9b4c9e46-55a9-490c-8c74-e29f9fc3cec1",
   "metadata": {},
   "outputs": [
    {
     "name": "stdout",
     "output_type": "stream",
     "text": [
      "Ukraine-Konflikt (1.0)\n"
     ]
    }
   ],
   "source": [
    "for label in sentence.get_labels('topic'):\n",
    "    print(label)"
   ]
  },
  {
   "cell_type": "code",
   "execution_count": 79,
   "id": "b3bd5995-43da-4dcd-a4aa-0d1634621a5f",
   "metadata": {},
   "outputs": [
    {
     "name": "stdout",
     "output_type": "stream",
     "text": [
      "Kriegsgefahr (1.0)\n"
     ]
    }
   ],
   "source": [
    "for label in sentence.get_labels('category'):\n",
    "    print(label)"
   ]
  },
  {
   "cell_type": "markdown",
   "id": "3b0e31d7-913a-4bed-9062-e1caefd85f74",
   "metadata": {},
   "source": [
    "## Laden des NER-Taggers"
   ]
  },
  {
   "cell_type": "code",
   "execution_count": 80,
   "id": "717784fb-821f-4275-8820-fff0dadfe6ab",
   "metadata": {},
   "outputs": [
    {
     "name": "stdout",
     "output_type": "stream",
     "text": [
      "2022-02-22 11:05:40,231 --------------------------------------------------------------------------------\n",
      "2022-02-22 11:05:40,232 The model key 'de-ner' now maps to 'https://huggingface.co/flair/ner-german' on the HuggingFace ModelHub\n",
      "2022-02-22 11:05:40,233  - The most current version of the model is automatically downloaded from there.\n",
      "2022-02-22 11:05:40,233  - (you can alternatively manually download the original model at https://nlp.informatik.hu-berlin.de/resources/models/de-ner/de-ner-conll03-v0.4.pt)\n",
      "2022-02-22 11:05:40,234 --------------------------------------------------------------------------------\n",
      "2022-02-22 11:05:40,738 loading file C:\\Users\\nitra\\.flair\\models\\ner-german\\a125be40445295f7e94d0afdb742cc9ac40ec4e93259dc30f35220ffad9bf1f6.f46c4c5cfa5e34baa838983373e30051cd1cf1e933499408a49e451e784b0a11\n"
     ]
    }
   ],
   "source": [
    "# load the NER tagger\n",
    "tagger = SequenceTagger.load('de-ner')\n",
    "\n",
    "# run NER over sentence\n",
    "tagger.predict(sentence)"
   ]
  },
  {
   "cell_type": "code",
   "execution_count": 81,
   "id": "9b1191a9-ddd1-406f-9ce8-cce215a90cb3",
   "metadata": {},
   "outputs": [
    {
     "name": "stdout",
     "output_type": "stream",
     "text": [
      "Sentence: \"Die Gefahr eines russischen Einmarsches in die Ukraine schätzt US-Präsident Biden als \" sehr hoch \" ein .\"   [− Tokens: 18  − Token-Labels: \"Die Gefahr eines russischen Einmarsches in die Ukraine <S-LOC> schätzt US-Präsident Biden <S-PER> als \" sehr hoch \" ein .\"  − Sentence-Labels: {'topic': [Ukraine-Konflikt (1.0)], 'category': [Kriegsgefahr (1.0)], 'language': [German (1.0)]}]\n"
     ]
    }
   ],
   "source": [
    "print(sentence)"
   ]
  },
  {
   "cell_type": "code",
   "execution_count": 98,
   "id": "b4dc049c-511b-4ffa-b8c9-a4d69854c490",
   "metadata": {},
   "outputs": [
    {
     "name": "stdout",
     "output_type": "stream",
     "text": [
      "Die O (1.0)\n",
      "Gefahr O (1.0)\n",
      "eines O (1.0)\n",
      "russischen O (1.0)\n",
      "Einmarsches O (1.0)\n",
      "in O (1.0)\n",
      "die O (1.0)\n",
      "Ukraine S-LOC (1.0)\n",
      "schätzt O (1.0)\n",
      "US-Präsident O (0.9999)\n",
      "Biden S-PER (0.999)\n",
      "als O (1.0)\n",
      "\" O (1.0)\n",
      "sehr O (1.0)\n",
      "hoch O (1.0)\n",
      "\" O (1.0)\n",
      "ein O (1.0)\n",
      ". O (1.0)\n"
     ]
    }
   ],
   "source": [
    "for token in sentence:\n",
    "    print(token.text, token.get_tag('ner'))"
   ]
  },
  {
   "cell_type": "code",
   "execution_count": 83,
   "id": "194f66af-f8d6-4bf1-8ce8-13e3d694c65a",
   "metadata": {},
   "outputs": [
    {
     "name": "stdout",
     "output_type": "stream",
     "text": [
      "Die Gefahr eines russischen Einmarsches in die Ukraine <S-LOC> schätzt US-Präsident Biden <S-PER> als \" sehr hoch \" ein .\n"
     ]
    }
   ],
   "source": [
    "print(sentence.to_tagged_string())"
   ]
  },
  {
   "cell_type": "code",
   "execution_count": 84,
   "id": "db8ac62e-72e3-4d3d-96c4-190c3b159aaf",
   "metadata": {},
   "outputs": [
    {
     "name": "stdout",
     "output_type": "stream",
     "text": [
      "Span [8]: \"Ukraine\"   [− Labels: LOC (1.0)]\n",
      "Span [11]: \"Biden\"   [− Labels: PER (0.999)]\n"
     ]
    }
   ],
   "source": [
    "for entity in sentence.get_spans('ner'):\n",
    "    print(entity)"
   ]
  },
  {
   "cell_type": "code",
   "execution_count": 96,
   "id": "f28663c6-c368-4130-9a32-e51f8659973e",
   "metadata": {},
   "outputs": [
    {
     "data": {
      "text/plain": [
       "{'text': 'Die Gefahr eines russischen Einmarsches in die Ukraine schätzt US-Präsident Biden als \"sehr hoch\" ein.',\n",
       " 'labels': [{'value': 'Ukraine-Konflikt', 'confidence': 1.0},\n",
       "  {'value': 'Kriegsgefahr', 'confidence': 1.0},\n",
       "  {'value': 'German', 'confidence': 1.0}],\n",
       " 'entities': [{'text': 'Ukraine',\n",
       "   'start_pos': 47,\n",
       "   'end_pos': 54,\n",
       "   'labels': [LOC (1.0)]},\n",
       "  {'text': 'Biden', 'start_pos': 76, 'end_pos': 81, 'labels': [PER (0.999)]}]}"
      ]
     },
     "execution_count": 96,
     "metadata": {},
     "output_type": "execute_result"
    }
   ],
   "source": [
    "sentence.to_dict(tag_type='ner')"
   ]
  },
  {
   "cell_type": "markdown",
   "id": "060360db-8716-4576-b031-9d6bc1798af8",
   "metadata": {},
   "source": [
    "## Multi-Tagging von NER und POS\n",
    "\n",
    "[Liste von Pre-Trained Sequence Tagger Models](https://github.com/flairNLP/flair/blob/master/resources/docs/TUTORIAL_2_TAGGING.md#list-of-pre-trained-sequence-tagger-models)"
   ]
  },
  {
   "cell_type": "code",
   "execution_count": 87,
   "id": "c7bb32fb-19bb-4656-871b-dcaf7c334559",
   "metadata": {},
   "outputs": [],
   "source": [
    "# create sentence\n",
    "sentence_multi_tagged = Sentence('Die Gefahr eines russischen Einmarsches in die Ukraine schätzt US-Präsident Biden als \"sehr hoch\" ein.')"
   ]
  },
  {
   "cell_type": "code",
   "execution_count": 88,
   "id": "5ff88797-75e1-4c3f-8299-2b4ad18035ce",
   "metadata": {},
   "outputs": [
    {
     "name": "stdout",
     "output_type": "stream",
     "text": [
      "2022-02-22 11:19:15,450 loading file C:\\Users\\nitra\\.flair\\models\\de-pos-ud-hdt-v0.5.pt\n",
      "2022-02-22 11:19:15,896 --------------------------------------------------------------------------------\n",
      "2022-02-22 11:19:15,897 The model key 'de-ner' now maps to 'https://huggingface.co/flair/ner-german' on the HuggingFace ModelHub\n",
      "2022-02-22 11:19:15,897  - The most current version of the model is automatically downloaded from there.\n",
      "2022-02-22 11:19:15,898  - (you can alternatively manually download the original model at https://nlp.informatik.hu-berlin.de/resources/models/de-ner/de-ner-conll03-v0.4.pt)\n",
      "2022-02-22 11:19:15,898 --------------------------------------------------------------------------------\n",
      "2022-02-22 11:19:16,482 loading file C:\\Users\\nitra\\.flair\\models\\ner-german\\a125be40445295f7e94d0afdb742cc9ac40ec4e93259dc30f35220ffad9bf1f6.f46c4c5cfa5e34baa838983373e30051cd1cf1e933499408a49e451e784b0a11\n"
     ]
    }
   ],
   "source": [
    "multi_tagger = MultiTagger.load(['de-pos', 'de-ner'])"
   ]
  },
  {
   "cell_type": "code",
   "execution_count": 89,
   "id": "a0cf2e7c-ff53-425e-b4e1-4f9c4abb26d6",
   "metadata": {},
   "outputs": [],
   "source": [
    "multi_tagger.predict(sentence_multi_tagged)"
   ]
  },
  {
   "cell_type": "code",
   "execution_count": 91,
   "id": "6427f2ff-571d-4ae0-b88f-10e0d94ebed8",
   "metadata": {},
   "outputs": [
    {
     "name": "stdout",
     "output_type": "stream",
     "text": [
      "Sentence: \"Die Gefahr eines russischen Einmarsches in die Ukraine schätzt US-Präsident Biden als \" sehr hoch \" ein .\"   [− Tokens: 18  − Token-Labels: \"Die <ART> Gefahr <NN> eines <ART> russischen <ADJA> Einmarsches <NN> in <APPR> die <ART> Ukraine <NE/S-LOC> schätzt <VVFIN> US-Präsident <NN> Biden <NE/S-PER> als <KOKOM> \" <$(> sehr <ADV> hoch <ADJD> \" <$(> ein <PTKVZ> . <$.>\"]\n"
     ]
    }
   ],
   "source": [
    "print(sentence_multi_tagged)"
   ]
  },
  {
   "cell_type": "code",
   "execution_count": 94,
   "id": "eaba0a5e-f42b-4a16-8332-439b99ac732a",
   "metadata": {},
   "outputs": [
    {
     "data": {
      "text/plain": [
       "{'text': 'Die Gefahr eines russischen Einmarsches in die Ukraine schätzt US-Präsident Biden als \"sehr hoch\" ein.',\n",
       " 'labels': [],\n",
       " 'entities': [{'text': 'Die',\n",
       "   'start_pos': 0,\n",
       "   'end_pos': 3,\n",
       "   'labels': [ART (1.0)]},\n",
       "  {'text': 'Gefahr', 'start_pos': 4, 'end_pos': 10, 'labels': [NN (1.0)]},\n",
       "  {'text': 'eines', 'start_pos': 11, 'end_pos': 16, 'labels': [ART (1.0)]},\n",
       "  {'text': 'russischen',\n",
       "   'start_pos': 17,\n",
       "   'end_pos': 27,\n",
       "   'labels': [ADJA (1.0)]},\n",
       "  {'text': 'Einmarsches',\n",
       "   'start_pos': 28,\n",
       "   'end_pos': 39,\n",
       "   'labels': [NN (1.0)]},\n",
       "  {'text': 'in', 'start_pos': 40, 'end_pos': 42, 'labels': [APPR (1.0)]},\n",
       "  {'text': 'die', 'start_pos': 43, 'end_pos': 46, 'labels': [ART (1.0)]},\n",
       "  {'text': 'Ukraine', 'start_pos': 47, 'end_pos': 54, 'labels': [NE (0.9601)]},\n",
       "  {'text': 'schätzt', 'start_pos': 55, 'end_pos': 62, 'labels': [VVFIN (1.0)]},\n",
       "  {'text': 'US-Präsident',\n",
       "   'start_pos': 63,\n",
       "   'end_pos': 75,\n",
       "   'labels': [NN (0.9999)]},\n",
       "  {'text': 'Biden', 'start_pos': 76, 'end_pos': 81, 'labels': [NE (0.9902)]},\n",
       "  {'text': 'als', 'start_pos': 82, 'end_pos': 85, 'labels': [KOKOM (1.0)]},\n",
       "  {'text': '\"', 'start_pos': 86, 'end_pos': 87, 'labels': [$( (1.0)]},\n",
       "  {'text': 'sehr', 'start_pos': 87, 'end_pos': 91, 'labels': [ADV (0.9999)]},\n",
       "  {'text': 'hoch', 'start_pos': 92, 'end_pos': 96, 'labels': [ADJD (0.9998)]},\n",
       "  {'text': '\"', 'start_pos': 96, 'end_pos': 97, 'labels': [$( (1.0)]},\n",
       "  {'text': 'ein', 'start_pos': 98, 'end_pos': 101, 'labels': [PTKVZ (1.0)]},\n",
       "  {'text': '.', 'start_pos': 101, 'end_pos': 102, 'labels': [$. (1.0)]}]}"
      ]
     },
     "execution_count": 94,
     "metadata": {},
     "output_type": "execute_result"
    }
   ],
   "source": [
    "sentence_multi_tagged.to_dict(tag_type='de-pos')"
   ]
  },
  {
   "cell_type": "markdown",
   "id": "a262e1c5-2120-4217-92d6-944391525345",
   "metadata": {},
   "source": [
    "### Taggen eines arabischen Satzes"
   ]
  },
  {
   "cell_type": "code",
   "execution_count": 99,
   "id": "a1b25586-77b5-4910-97bb-e6b2f2fc817f",
   "metadata": {},
   "outputs": [
    {
     "name": "stdout",
     "output_type": "stream",
     "text": [
      "2022-02-22 11:22:51,800 --------------------------------------------------------------------------------\n",
      "2022-02-22 11:22:51,800 The model key 'ar-ner' now maps to 'https://huggingface.co/megantosh/flair-arabic-multi-ner' on the HuggingFace ModelHub\n",
      "2022-02-22 11:22:51,801  - The most current version of the model is automatically downloaded from there.\n",
      "2022-02-22 11:22:51,801 --------------------------------------------------------------------------------\n"
     ]
    },
    {
     "data": {
      "application/vnd.jupyter.widget-view+json": {
       "model_id": "3fc07cf614294f13a8349cf336489842",
       "version_major": 2,
       "version_minor": 0
      },
      "text/plain": [
       "Downloading:   0%|          | 0.00/550M [00:00<?, ?B/s]"
      ]
     },
     "metadata": {},
     "output_type": "display_data"
    },
    {
     "name": "stdout",
     "output_type": "stream",
     "text": [
      "2022-02-22 11:24:13,539 loading file C:\\Users\\nitra\\.flair\\models\\flair-arabic-multi-ner\\c7af7ddef4fdcc681fcbe1f37719348afd2862b12aa1cfd4f3b93bd2d77282c7.242d030cb106124f7f9f6a88fb9af8e390f581d42eeca013367a86d585ee6dd6\n",
      "LOC [برلين (2)] (0.9803)\n"
     ]
    }
   ],
   "source": [
    "# load model\n",
    "tagger_ar = SequenceTagger.load('ar-ner')\n",
    "\n",
    "# make Arabic sentence\n",
    "sentence_ar = Sentence(\"احب برلين\")\n",
    "\n",
    "# predict NER tags\n",
    "tagger_ar.predict(sentence_ar)\n",
    "\n",
    "# print sentence with predicted tags\n",
    "for entity in sentence_ar.get_labels('ner'):\n",
    "    print(entity)"
   ]
  },
  {
   "cell_type": "markdown",
   "id": "9bf748da-4b2f-44c7-8342-386fceca93c2",
   "metadata": {},
   "source": [
    "## Tagging von Multilingualen Texten\n",
    "\n"
   ]
  },
  {
   "cell_type": "code",
   "execution_count": 101,
   "id": "1f228354-d311-4aaf-b59b-ea42d6b950ff",
   "metadata": {},
   "outputs": [
    {
     "name": "stdout",
     "output_type": "stream",
     "text": [
      "2022-02-22 11:35:09,156 --------------------------------------------------------------------------------\n",
      "2022-02-22 11:35:09,156 The model key 'pos-multi' now maps to 'https://huggingface.co/flair/upos-multi' on the HuggingFace ModelHub\n",
      "2022-02-22 11:35:09,157  - The most current version of the model is automatically downloaded from there.\n",
      "2022-02-22 11:35:09,158  - (you can alternatively manually download the original model at https://nlp.informatik.hu-berlin.de/resources/models/multi-pos/pos-multi-v0.1.pt)\n",
      "2022-02-22 11:35:09,158 --------------------------------------------------------------------------------\n",
      "2022-02-22 11:35:09,655 loading file C:\\Users\\nitra\\.flair\\models\\upos-multi\\1a44f168663182024fd3ea6d7dcaeee47fe5bcb537cc737ad058b64ad4db9736.5f899f25846741510a6567b89027d988bd6f634b2776a7c3e834fea4629367cb\n"
     ]
    }
   ],
   "source": [
    "sentence_multilingual = Sentence('''Die Gefahr eines russischen Einmarsches \n",
    "                                    in die Ukraine schätzt US-Präsident Biden \n",
    "                                    als \"sehr hoch\" ein.\n",
    "                                    The danger of a Russian invasion Ukraine \n",
    "                                    is \"very high\" in the view of U.S. President Biden.''')\n",
    "\n",
    "tagger_multilingual = SequenceTagger.load('pos-multi')\n",
    "\n",
    "tagger_multilingual.predict(sentence_multilingual)"
   ]
  },
  {
   "cell_type": "code",
   "execution_count": 103,
   "id": "f4f24e49-f462-4f41-b927-e506f94109b3",
   "metadata": {},
   "outputs": [
    {
     "name": "stdout",
     "output_type": "stream",
     "text": [
      "Die <DET> Gefahr <NOUN> eines <DET> russischen <ADJ> Einmarsches <NOUN> in <ADP> die <DET> Ukraine <PROPN> schätzt <VERB> US-Präsident <NOUN> Biden <PROPN> als <ADP> \" <PUNCT> sehr <ADV> hoch <ADJ> \" <PUNCT> ein <ADV> . <PUNCT> The <DET> danger <NOUN> of <ADP> a <PROPN> Russian <PROPN> invasion <PROPN> Ukraine <PROPN> is <AUX> \" <PUNCT> very <ADV> high <ADJ> \" <PUNCT> in <ADP> the <DET> view <NOUN> of <ADP> U.S. <PROPN> President <PROPN> Biden <PROPN> . <PUNCT>\n"
     ]
    }
   ],
   "source": [
    "print(sentence_multilingual.to_tagged_string())"
   ]
  },
  {
   "cell_type": "markdown",
   "id": "386884e7-ec5d-4f64-a4a2-078c6a96c241",
   "metadata": {},
   "source": [
    "## Taggen einer Liste mit mehreren Sätzen\n",
    "\n",
    "\n",
    "* Ist das überhaupt nötig? Oder kann ein Text mit mehreren Sätzen auch ein Sentence sein? >> Testen"
   ]
  },
  {
   "cell_type": "code",
   "execution_count": 104,
   "id": "21bd3b88-4216-4f25-96ac-9cd8b9e210d2",
   "metadata": {},
   "outputs": [],
   "source": [
    "text = '''Biden befürchtet Einmarsch \"in den nächsten Tagen\"\n",
    "            Stand: 18.02.2022 06:01 Uhr\n",
    "            Die Gefahr eines russischen Einmarsches in die Ukraine schätzt US-Präsident Biden als \"sehr hoch\" ein - schon in den kommenden Tagen könne es dazu kommen. Die russische Regierung wies den Vize-US-Botschafter in Moskau aus.\n",
    "            US-Präsident Joe Biden befürchtet trotz aller Beteuerungen aus Moskau einen russischen Einmarsch in die Ukraine in den kommenden Tagen. Biden sagte, die Gefahr einer Invasion sei \"sehr hoch\". Nach seiner Einschätzung könne es \"in den nächsten paar Tagen\" dazu kommen. Es gebe keine Pläne dafür, dass er mit dem russischen Präsidenten Wladimir Putin telefonieren werde, fügte er hinzu.\n",
    "            Der Kreml erklärte laut der russischen Agentur RIA, Bidens Warnung verstärke die Spannungen noch. Der stellvertretende Außenminister Sergej Werschinin wies vor dem UN-Sicherheitsrat die Befürchtungen des Westens vor einem bevorstehenden Einmarsch erneut zurück. \"Ich denke, wir haben genug darüber spekuliert\", sagte er. Eine Invasion sei entgegen der Warnungen ausgeblieben. In Richtung der USA und ihrer westlichen Verbündeten sagte Werschinin: \"Mein Rat an Sie ist, sich nicht in eine unangenehme Situation zu begeben.\"\n",
    "            Biden will am heutigen Freitag mit Verbündeten über das weitere Vorgehen beraten. Themen der Telefonschalte am Nachmittag (Ortszeit) sollten unter anderem die Aufstockung der russischen Truppen an der Grenze zur Ukraine und weitere diplomatische Bemühungen sein, hieß es aus dem Weißen Haus. Neben Kanadas Premierminister Justin Trudeau sollen führende Politiker aus Deutschland, Frankreich, Großbritannien, Italien, Polen und Rumänien an dem Gespräch teilnehmen, teilte Trudeaus Büro am Donnerstagabend (Ortszeit) mit. Auch die Europäische Union und die NATO seien vertreten.\n",
    "            US-Außenminister Antony Blinken will sich nächste Woche mit seinem russischen Kollegen Sergej Lawrow treffen - solange Russland nicht in der Ukraine einmarschiert. Blinken habe vorgeschlagen, sich mit Lawrow \"nächste Woche in Europa zu treffen. Die Russen haben mit Terminvorschlägen für Ende nächster Woche geantwortet, was wir unter der Bedingung akzeptiert haben, dass es keine russische Invasion der Ukraine gibt\", erklärte der Sprecher des Außenministeriums, Ned Price, am Abend.\n",
    "            Zuvor hatte Blinken vor dem UN-Sicherheitsrat ebenfalls gewarnt, Russland bereite sich auf einen Angriff in den kommenden Tagen vor. Russlands Plan sei, dafür einen Vorwand zu schaffen. \"Dies könnte ein gewaltsames Ereignis sein, das Russland gegen die Ukraine vorbringen wird, oder eine unerhörte Anschuldigung, die Russland gegen die ukrainische Regierung erheben wird\", sagte er. Möglich wären ihm zufolge ein vermeintlicher Terroranschlag in Russland, die \"erfundene Entdeckung eines Massengrabes\" und Vorwürfe eines Völkermordes, ein inszenierter Drohnenangriff auf Zivilisten oder ein vorgetäuschter oder echter Angriff mit Chemiewaffen.\n",
    "            Russische Medien würden bereits \"falsche Alarme\" verbreiten, so Blinken. Ein russischer Angriff könne auch die ukrainische Hauptstadt Kiew einbeziehen. Der US-Außenminister betonte, Diplomatie sei weiter der wichtigste Weg zur Lösung der Krise. Er habe daher seinem russischen Amtskollegen Sergej Lawrow ein persönliches Treffen in der kommenden Woche vorgeschlagen. \n",
    "            '''"
   ]
  },
  {
   "cell_type": "markdown",
   "id": "a7f06156-5b58-46b1-9fa0-7344a62385ce",
   "metadata": {},
   "source": [
    "### Tokenisierung und Tagging"
   ]
  },
  {
   "cell_type": "code",
   "execution_count": 106,
   "id": "9f2091b9-4ad6-474c-b4d9-596e1e4c3ebe",
   "metadata": {},
   "outputs": [
    {
     "name": "stdout",
     "output_type": "stream",
     "text": [
      "2022-02-22 11:39:44,892 Warning: An empty Sentence was created! Are there empty strings in your dataset?\n",
      "2022-02-22 11:39:44,894 loading file C:\\Users\\nitra\\.flair\\models\\de-pos-ud-hdt-v0.5.pt\n",
      "2022-02-22 11:39:45,343 --------------------------------------------------------------------------------\n",
      "2022-02-22 11:39:45,343 The model key 'de-ner' now maps to 'https://huggingface.co/flair/ner-german' on the HuggingFace ModelHub\n",
      "2022-02-22 11:39:45,343  - The most current version of the model is automatically downloaded from there.\n",
      "2022-02-22 11:39:45,343  - (you can alternatively manually download the original model at https://nlp.informatik.hu-berlin.de/resources/models/de-ner/de-ner-conll03-v0.4.pt)\n",
      "2022-02-22 11:39:45,343 --------------------------------------------------------------------------------\n",
      "2022-02-22 11:39:45,841 loading file C:\\Users\\nitra\\.flair\\models\\ner-german\\a125be40445295f7e94d0afdb742cc9ac40ec4e93259dc30f35220ffad9bf1f6.f46c4c5cfa5e34baa838983373e30051cd1cf1e933499408a49e451e784b0a11\n",
      "2022-02-22 11:39:55,763 Ignore 1 sentence(s) with no tokens.\n",
      "2022-02-22 11:40:00,372 Ignore 1 sentence(s) with no tokens.\n"
     ]
    }
   ],
   "source": [
    "splitter = SegtokSentenceSplitter()\n",
    "\n",
    "sentences = splitter.split(text)\n",
    "\n",
    "multi_tagger = MultiTagger.load(['de-pos', 'de-ner'])\n",
    "\n",
    "multi_tagger.predict(sentences)"
   ]
  },
  {
   "cell_type": "markdown",
   "id": "54b52079-43d5-4c3f-9cc6-9274819e81c6",
   "metadata": {},
   "source": [
    "### Ausgabe des Resultats"
   ]
  },
  {
   "cell_type": "code",
   "execution_count": 108,
   "id": "f411b5b7-45fd-4e11-a634-56800e07a787",
   "metadata": {},
   "outputs": [
    {
     "name": "stdout",
     "output_type": "stream",
     "text": [
      "Biden <NE/S-PER> befürchtet <VVFIN> Einmarsch <NN> \" <$(> in <APPR> den <ART> nächsten <ADJA> Tagen <NN> \" <$(> Stand <NN> : <$.> 18.02.2022 <NN> 06:01 <CARD> Uhr <NN> Die <ART> Gefahr <NN> eines <ART> russischen <ADJA> Einmarsches <NN> in <APPR> die <ART> Ukraine <NE/S-LOC> schätzt <VVFIN> US-Präsident <NN> Biden <NE/S-PER> als <KOKOM> \" <$(> sehr <ADV> hoch <ADJD> \" <$(> ein <PTKVZ> - <$(> schon <ADV> in <APPR> den <ART> kommenden <ADJA> Tagen <NN> könne <VMFIN> es <PPER> dazu <PROAV> kommen <VVINF> . <$.>\n",
      "Die <ART> russische <ADJA> Regierung <NN> wies <VVFIN> den <ART> Vize-US-Botschafter <NN> in <APPR> Moskau <NE/S-LOC> aus <PTKVZ> . <$.>\n",
      "US-Präsident <NN> Joe <NE/B-PER> Biden <NE/E-PER> befürchtet <VVFIN> trotz <APPR> aller <PIDAT> Beteuerungen <NN> aus <APPR> Moskau <NE/S-LOC> einen <ART> russischen <ADJA> Einmarsch <NN> in <APPR> die <ART> Ukraine <NE/S-LOC> in <APPR> den <ART> kommenden <ADJA> Tagen <NN> . <$.>\n",
      "Biden <NN/S-PER> sagte <VVFIN> , <$,> die <ART> Gefahr <NN> einer <ART> Invasion <NN> sei <VAFIN> \" <$(> sehr <ADV> hoch <ADJD> \" <$(> . <$.>\n",
      "Nach <APPR> seiner <PPOSAT> Einschätzung <NN> könne <VMFIN> es <PPER> \" <$(> in <APPR> den <ART> nächsten <ADJA> paar <PIDAT> Tagen <NN> \" <$(> dazu <PROAV> kommen <VVINF> . <$.>\n"
     ]
    }
   ],
   "source": [
    "for sentence in sentences[:5]:\n",
    "    print(sentence.to_tagged_string())"
   ]
  },
  {
   "cell_type": "code",
   "execution_count": 159,
   "id": "4178b59d-3a24-43d8-971d-40c85db80d05",
   "metadata": {},
   "outputs": [
    {
     "name": "stdout",
     "output_type": "stream",
     "text": [
      "Biden S-PER (0.9938) NE (0.5766)\n",
      "befürchtet O (1.0) VVFIN (1.0)\n",
      "Einmarsch O (0.9999) NN (0.9996)\n",
      "\" O (1.0) $( (1.0)\n",
      "in O (1.0) APPR (1.0)\n",
      "den O (1.0) ART (1.0)\n",
      "nächsten O (1.0) ADJA (1.0)\n",
      "Tagen O (0.9999) NN (1.0)\n",
      "\" O (1.0) $( (1.0)\n",
      "Stand O (0.9995) NN (0.9999)\n",
      ": O (1.0) $. (1.0)\n",
      "18.02.2022 O (1.0) NN (0.7352)\n",
      "06:01 O (1.0) CARD (0.9994)\n",
      "Uhr O (1.0) NN (1.0)\n",
      "Die O (1.0) ART (1.0)\n",
      "Gefahr O (1.0) NN (1.0)\n",
      "eines O (1.0) ART (1.0)\n",
      "russischen O (1.0) ADJA (1.0)\n",
      "Einmarsches O (1.0) NN (1.0)\n",
      "in O (1.0) APPR (1.0)\n",
      "die O (1.0) ART (1.0)\n",
      "Ukraine S-LOC (1.0) NE (0.9372)\n",
      "schätzt O (1.0) VVFIN (1.0)\n",
      "US-Präsident O (0.9999) NN (0.9999)\n",
      "Biden S-PER (0.999) NE (0.986)\n",
      "als O (1.0) KOKOM (1.0)\n",
      "\" O (1.0) $( (1.0)\n",
      "sehr O (1.0) ADV (0.9999)\n",
      "hoch O (1.0) ADJD (0.9998)\n",
      "\" O (1.0) $( (1.0)\n",
      "ein O (1.0) PTKVZ (0.9999)\n",
      "- O (1.0) $( (1.0)\n",
      "schon O (1.0) ADV (1.0)\n",
      "in O (1.0) APPR (1.0)\n",
      "den O (1.0) ART (1.0)\n",
      "kommenden O (1.0) ADJA (1.0)\n",
      "Tagen O (1.0) NN (1.0)\n",
      "könne O (1.0) VMFIN (1.0)\n",
      "es O (1.0) PPER (1.0)\n",
      "dazu O (1.0) PROAV (0.9993)\n",
      "kommen O (1.0) VVINF (1.0)\n",
      ". O (1.0) $. (1.0)\n",
      "Die O (1.0) ART (1.0)\n",
      "russische O (1.0) ADJA (1.0)\n",
      "Regierung O (1.0) NN (1.0)\n",
      "wies O (1.0) VVFIN (1.0)\n",
      "den O (1.0) ART (1.0)\n",
      "Vize-US-Botschafter O (0.9933) NN (1.0)\n",
      "in O (1.0) APPR (1.0)\n",
      "Moskau S-LOC (0.9999) NE (0.9999)\n",
      "aus O (1.0) PTKVZ (1.0)\n",
      ". O (1.0) $. (1.0)\n",
      "US-Präsident O (1.0) NN (1.0)\n",
      "Joe B-PER (1.0) NE (1.0)\n",
      "Biden E-PER (1.0) NE (0.9991)\n",
      "befürchtet O (1.0) VVFIN (1.0)\n",
      "trotz O (1.0) APPR (1.0)\n",
      "aller O (1.0) PIDAT (0.9998)\n",
      "Beteuerungen O (1.0) NN (1.0)\n",
      "aus O (1.0) APPR (1.0)\n",
      "Moskau S-LOC (1.0) NE (0.9994)\n",
      "einen O (1.0) ART (1.0)\n",
      "russischen O (1.0) ADJA (1.0)\n",
      "Einmarsch O (1.0) NN (1.0)\n",
      "in O (1.0) APPR (1.0)\n",
      "die O (1.0) ART (1.0)\n",
      "Ukraine S-LOC (1.0) NE (0.9513)\n",
      "in O (1.0) APPR (1.0)\n",
      "den O (1.0) ART (1.0)\n",
      "kommenden O (1.0) ADJA (1.0)\n",
      "Tagen O (1.0) NN (1.0)\n",
      ". O (1.0) $. (1.0)\n"
     ]
    }
   ],
   "source": [
    "# results for first three sentences\n",
    "\n",
    "for sentence in sentences[:3]:\n",
    "    for token in sentence:\n",
    "        print(token.text, token.get_tag('de-ner'), token.get_tag('de-pos'))"
   ]
  },
  {
   "cell_type": "markdown",
   "id": "6b52c3b6-e077-48fb-a138-260a37f7fec7",
   "metadata": {},
   "source": [
    "### Named Entities: Person"
   ]
  },
  {
   "cell_type": "code",
   "execution_count": 186,
   "id": "02073275-ae91-4edc-8f17-5bd3a697167d",
   "metadata": {},
   "outputs": [],
   "source": [
    "list_all_per = []\n",
    "\n",
    "for sentence in sentences:\n",
    "    \n",
    "    list_per = [ token.text for token in sentence if str(token.get_tag('de-ner')).split(' ')[0][-3:] == 'PER' ]\n",
    "    \n",
    "    # or if **** == x-PER\n",
    "    list_all_per.append(list_per)"
   ]
  },
  {
   "cell_type": "code",
   "execution_count": 187,
   "id": "7274836e-e39d-468b-b688-5a5553a05bcb",
   "metadata": {},
   "outputs": [
    {
     "data": {
      "text/plain": [
       "[['Biden', 'Biden'],\n",
       " [],\n",
       " ['Joe', 'Biden'],\n",
       " ['Biden'],\n",
       " [],\n",
       " ['Wladimir', 'Putin'],\n",
       " ['Bidens'],\n",
       " ['Sergej', 'Werschinin'],\n",
       " [],\n",
       " [],\n",
       " ['Werschinin'],\n",
       " ['Biden'],\n",
       " [],\n",
       " ['Justin', 'Trudeau', 'Trudeaus'],\n",
       " [],\n",
       " ['Antony', 'Blinken', 'Sergej', 'Lawrow'],\n",
       " ['Lawrow'],\n",
       " ['Ned', 'Price'],\n",
       " [],\n",
       " [],\n",
       " [],\n",
       " [],\n",
       " [],\n",
       " [],\n",
       " [],\n",
       " ['Sergej', 'Lawrow'],\n",
       " []]"
      ]
     },
     "execution_count": 187,
     "metadata": {},
     "output_type": "execute_result"
    }
   ],
   "source": [
    "list_all_per"
   ]
  },
  {
   "cell_type": "markdown",
   "id": "2abbb642-36ad-42d0-85f9-7edc9b1e4772",
   "metadata": {},
   "source": [
    "### Named Entities\n",
    "\n",
    "abgefragt über POS == NE"
   ]
  },
  {
   "cell_type": "code",
   "execution_count": 176,
   "id": "4090811f-9f12-4040-b7da-b70e0dacff3c",
   "metadata": {},
   "outputs": [],
   "source": [
    "list_all_NE = []\n",
    "\n",
    "for sentence in sentences:\n",
    "    \n",
    "    list_ne = [ (token.text, token.get_labels()) for token in sentence if str(token.get_tag('de-pos')).split(' ')[0] == 'NE' ]\n",
    "    \n",
    "    list_all_NE.append(list_ne)"
   ]
  },
  {
   "cell_type": "code",
   "execution_count": 177,
   "id": "a8114a31-65d6-4352-aeaf-10bd6839a1bc",
   "metadata": {},
   "outputs": [
    {
     "data": {
      "text/plain": [
       "[[('Biden', [NE (0.5766), S-PER (0.9938)]),\n",
       "  ('Ukraine', [NE (0.9372), S-LOC (1.0)]),\n",
       "  ('Biden', [NE (0.986), S-PER (0.999)])],\n",
       " [('Moskau', [NE (0.9999), S-LOC (0.9999)])],\n",
       " [('Joe', [NE (1.0), B-PER (1.0)]),\n",
       "  ('Biden', [NE (0.9991), E-PER (1.0)]),\n",
       "  ('Moskau', [NE (0.9994), S-LOC (1.0)]),\n",
       "  ('Ukraine', [NE (0.9513), S-LOC (1.0)])],\n",
       " [],\n",
       " [],\n",
       " [('Wladimir', [NE (0.9996), B-PER (0.9999)]),\n",
       "  ('Putin', [NE (0.9997), E-PER (0.9998)])],\n",
       " [('RIA', [NE (0.9996), S-ORG (1.0)]),\n",
       "  ('Bidens', [NE (0.9991), S-PER (0.9999)])],\n",
       " [('Sergej', [NE (1.0), B-PER (0.9999)]),\n",
       "  ('Werschinin', [NE (0.9999), E-PER (0.9999)])],\n",
       " [],\n",
       " [],\n",
       " [('USA', [NE (1.0), S-LOC (1.0)]),\n",
       "  ('Werschinin', [NE (0.7708), S-PER (0.9998)])],\n",
       " [('Biden', [NE (0.6464), S-PER (0.9995)])],\n",
       " [('Ukraine', [NE (0.8791), S-LOC (1.0)])],\n",
       " [('Kanadas', [NE (0.9998), S-LOC (1.0)]),\n",
       "  ('Justin', [NE (1.0), B-PER (1.0)]),\n",
       "  ('Trudeau', [NE (0.9999), E-PER (0.9999)]),\n",
       "  ('Deutschland', [NE (1.0), S-LOC (0.9999)]),\n",
       "  ('Frankreich', [NE (1.0), S-LOC (1.0)]),\n",
       "  ('Großbritannien', [NE (0.9999), S-LOC (1.0)]),\n",
       "  ('Italien', [NE (1.0), S-LOC (1.0)]),\n",
       "  ('Polen', [NE (0.9999), S-LOC (1.0)]),\n",
       "  ('Rumänien', [NE (0.9998), S-LOC (1.0)]),\n",
       "  ('Trudeaus', [NE (0.9972), S-PER (0.6395)])],\n",
       " [('NATO', [NE (0.9915), S-ORG (0.9999)])],\n",
       " [('Antony', [NE (1.0), B-PER (0.9997)]),\n",
       "  ('Blinken', [NE (0.9992), E-PER (1.0)]),\n",
       "  ('Sergej', [NE (1.0), B-PER (1.0)]),\n",
       "  ('Lawrow', [NE (0.9998), E-PER (1.0)]),\n",
       "  ('Russland', [NE (1.0), S-LOC (1.0)]),\n",
       "  ('Ukraine', [NE (0.9892), S-LOC (1.0)])],\n",
       " [('Lawrow', [NE (0.9944), S-PER (1.0)]),\n",
       "  ('Europa', [NE (1.0), S-LOC (0.9999)])],\n",
       " [('Ukraine', [NE (0.8933), S-LOC (1.0)]),\n",
       "  ('Ned', [NE (0.9624), B-PER (0.9662)]),\n",
       "  ('Price', [NE (0.8896), E-PER (0.9926)])],\n",
       " [('Blinken', [NE (0.63), O (0.9677)]),\n",
       "  ('Russland', [NE (0.9999), S-LOC (1.0)])],\n",
       " [('Russlands', [NE (0.9999), S-LOC (1.0)])],\n",
       " [('Russland', [NE (0.9995), S-LOC (1.0)]),\n",
       "  ('Ukraine', [NE (0.9349), S-LOC (1.0)]),\n",
       "  ('Russland', [NE (0.9997), S-LOC (1.0)])],\n",
       " [('Russland', [NE (0.9999), S-LOC (1.0)])],\n",
       " [],\n",
       " [('Kiew', [NE (0.9982), S-LOC (0.9999)])],\n",
       " [],\n",
       " [('Sergej', [NE (0.9999), B-PER (1.0)]),\n",
       "  ('Lawrow', [NE (0.9999), E-PER (1.0)])],\n",
       " []]"
      ]
     },
     "execution_count": 177,
     "metadata": {},
     "output_type": "execute_result"
    }
   ],
   "source": [
    "list_all_NE"
   ]
  },
  {
   "cell_type": "code",
   "execution_count": null,
   "id": "9501fe20-c41c-4e43-b5ed-7b2ef15c83f4",
   "metadata": {},
   "outputs": [],
   "source": []
  },
  {
   "cell_type": "markdown",
   "id": "5b85c737-5f35-412c-b24f-ac87be53957b",
   "metadata": {},
   "source": [
    "#### Test"
   ]
  },
  {
   "cell_type": "code",
   "execution_count": 132,
   "id": "396314c7-ffad-4bf1-b90d-f1cb04f81c34",
   "metadata": {},
   "outputs": [],
   "source": [
    "biden = sentences[0].get_token(1)"
   ]
  },
  {
   "cell_type": "code",
   "execution_count": 135,
   "id": "5c8fe12e-bfb6-4eda-88c0-e71f4ad829f6",
   "metadata": {},
   "outputs": [
    {
     "data": {
      "text/plain": [
       "S-PER (0.9938)"
      ]
     },
     "execution_count": 135,
     "metadata": {},
     "output_type": "execute_result"
    }
   ],
   "source": [
    "biden.get_tag('de-ner')"
   ]
  },
  {
   "cell_type": "code",
   "execution_count": 137,
   "id": "b9a07565-de37-4bc0-b108-96ddc0f52f8e",
   "metadata": {},
   "outputs": [
    {
     "data": {
      "text/plain": [
       "[NE (0.5766), S-PER (0.9938)]"
      ]
     },
     "execution_count": 137,
     "metadata": {},
     "output_type": "execute_result"
    }
   ],
   "source": [
    "biden.get_labels()"
   ]
  },
  {
   "cell_type": "code",
   "execution_count": 168,
   "id": "8b7d1105-8879-403b-95a3-3c40f666d718",
   "metadata": {},
   "outputs": [
    {
     "data": {
      "text/plain": [
       "'US-Präsident Joe <B-PER> Biden <E-PER> befürchtet trotz aller Beteuerungen aus Moskau <S-LOC> einen russischen Einmarsch in die Ukraine <S-LOC> in den kommenden Tagen .'"
      ]
     },
     "execution_count": 168,
     "metadata": {},
     "output_type": "execute_result"
    }
   ],
   "source": [
    "sentence.to_tagged_string('de-ner')"
   ]
  },
  {
   "cell_type": "code",
   "execution_count": null,
   "id": "4ac71c93-0138-4491-b599-095530416467",
   "metadata": {},
   "outputs": [],
   "source": []
  }
 ],
 "metadata": {
  "kernelspec": {
   "display_name": "Python 3 (ipykernel)",
   "language": "python",
   "name": "python3"
  },
  "language_info": {
   "codemirror_mode": {
    "name": "ipython",
    "version": 3
   },
   "file_extension": ".py",
   "mimetype": "text/x-python",
   "name": "python",
   "nbconvert_exporter": "python",
   "pygments_lexer": "ipython3",
   "version": "3.8.12"
  }
 },
 "nbformat": 4,
 "nbformat_minor": 5
}
