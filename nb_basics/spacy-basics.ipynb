{
 "cells": [
  {
   "cell_type": "markdown",
   "id": "c0ce7041-55e4-4c10-b894-2979ae08c7da",
   "metadata": {
    "slideshow": {
     "slide_type": "slide"
    },
    "tags": []
   },
   "source": [
    "# spaCy Basics"
   ]
  },
  {
   "cell_type": "markdown",
   "id": "59cde3ad-0aaa-4c66-8c98-9dba75914eaf",
   "metadata": {
    "slideshow": {
     "slide_type": "subslide"
    },
    "tags": []
   },
   "source": [
    "## Ressourcen\n",
    "\n",
    "https://spacy.io/\n",
    "\n",
    "### Docs und Tutorials\n",
    "\n",
    "https://spacy.io/usage\n",
    "\n",
    "### Sprachmodelle\n",
    "\n",
    "https://spacy.io/models\n",
    "\n",
    "https://spacy.io/models/de\n",
    "\n",
    "### API\n",
    "\n",
    "https://spacy.io/api\n",
    "\n",
    "### Kurs\n",
    "\n",
    "https://course.spacy.io/de\n",
    "\n",
    "### Video Tutorials\n",
    "\n",
    "https://www.youtube.com/c/ExplosionAI\n",
    "\n",
    "### Jupyter Book NER mit SpaCy\n",
    "\n",
    "http://ner.pythonhumanities.com/intro.html\n",
    "\n",
    "### Sammlung von Ressourcen zu SpaCy\n",
    "\n",
    "https://spacy.io/universe"
   ]
  },
  {
   "cell_type": "markdown",
   "id": "53703bfe-7a0f-43dd-952c-538047d9be05",
   "metadata": {
    "slideshow": {
     "slide_type": "subslide"
    },
    "tags": []
   },
   "source": [
    "## Installation mit pip und conda"
   ]
  },
  {
   "cell_type": "code",
   "execution_count": 1,
   "id": "cd9cf049-9c75-4bcf-9d7a-f968b8ec7bb2",
   "metadata": {},
   "outputs": [],
   "source": [
    "# !pip install spacy==3.2.1\n",
    "# conda install spacy==3.2.1"
   ]
  },
  {
   "cell_type": "markdown",
   "id": "49d17088-4ccc-4c09-bb64-b63400e6c39c",
   "metadata": {
    "slideshow": {
     "slide_type": "subslide"
    },
    "tags": []
   },
   "source": [
    "## Herunterladen des deutschen Sprachmodells (Language Model, LM)\n",
    "\n",
    "Es gibt drei verschiedene Größen:\n",
    "* small: de_core_news_sm, 18MB\n",
    "* medium: de_core_news_md, 46MB\n",
    "* large: de_core_news_lg, 545MB\n",
    "* **neu** transformer-based: de_dep_news_trf, 348MB"
   ]
  },
  {
   "cell_type": "code",
   "execution_count": null,
   "id": "cc48ddd5-5b57-4e15-b594-066fa49c3fce",
   "metadata": {},
   "outputs": [],
   "source": [
    "# !python -m spacy download de_core_news_md"
   ]
  },
  {
   "cell_type": "markdown",
   "id": "37b55d1f-371d-42a5-896f-bed5250debc3",
   "metadata": {
    "slideshow": {
     "slide_type": "subslide"
    },
    "tags": []
   },
   "source": [
    "## Import"
   ]
  },
  {
   "cell_type": "code",
   "execution_count": 2,
   "id": "1f03bc33-1447-4e77-a1e8-e753abdc845b",
   "metadata": {},
   "outputs": [],
   "source": [
    "import spacy"
   ]
  },
  {
   "cell_type": "code",
   "execution_count": 4,
   "id": "a03912ad-03a1-40d9-adca-fdcfe3f4d7bd",
   "metadata": {},
   "outputs": [
    {
     "name": "stdout",
     "output_type": "stream",
     "text": [
      "3.2.1\n"
     ]
    }
   ],
   "source": [
    "# check version\n",
    "print(spacy.__version__)"
   ]
  },
  {
   "cell_type": "markdown",
   "id": "89c21d64-8c1c-4820-a75d-42f2f43ab003",
   "metadata": {
    "slideshow": {
     "slide_type": "subslide"
    },
    "tags": []
   },
   "source": [
    "## Laden des Sprachmodells"
   ]
  },
  {
   "cell_type": "code",
   "execution_count": 99,
   "id": "288afd5e-2aac-4024-9e14-92c08519d720",
   "metadata": {},
   "outputs": [],
   "source": [
    "nlp = spacy.load('de_core_news_md') \n",
    "\n",
    "# zum Ausschalten einzelner Komponenten\n",
    "# nlp = spacy.load('de_core_news_md', disable=['parser', 'tagger'])"
   ]
  },
  {
   "cell_type": "markdown",
   "id": "d5626c8a-2c72-4cab-9a78-9e5e55c63b55",
   "metadata": {},
   "source": [
    "## geladene Komponenten checken"
   ]
  },
  {
   "cell_type": "code",
   "execution_count": 98,
   "id": "5b78b125-838b-403c-a3ee-f79d65401167",
   "metadata": {},
   "outputs": [
    {
     "data": {
      "text/plain": [
       "[('tok2vec', <spacy.pipeline.tok2vec.Tok2Vec at 0x244dd0c5940>),\n",
       " ('tagger', <spacy.pipeline.tagger.Tagger at 0x244dd1c95e0>),\n",
       " ('morphologizer',\n",
       "  <spacy.pipeline.morphologizer.Morphologizer at 0x244dd1c9340>),\n",
       " ('parser', <spacy.pipeline.dep_parser.DependencyParser at 0x244dd081c10>),\n",
       " ('attribute_ruler',\n",
       "  <spacy.pipeline.attributeruler.AttributeRuler at 0x244dd270c80>),\n",
       " ('lemmatizer', <spacy.pipeline.lemmatizer.Lemmatizer at 0x244dd2778c0>),\n",
       " ('ner', <spacy.pipeline.ner.EntityRecognizer at 0x244dd2a4040>)]"
      ]
     },
     "execution_count": 98,
     "metadata": {},
     "output_type": "execute_result"
    }
   ],
   "source": [
    "nlp.pipeline"
   ]
  },
  {
   "cell_type": "markdown",
   "id": "377d818f-b0d1-4c6b-90db-58cc611523c8",
   "metadata": {},
   "source": [
    "## Textdaten einlesen"
   ]
  },
  {
   "cell_type": "markdown",
   "id": "f71dae96-0027-4923-b745-0ec668a2c916",
   "metadata": {},
   "source": [
    "entnommen von:\n",
    "\n",
    "https://www.tagesschau.de/ausland/amerika/russland-ukraine-157.html"
   ]
  },
  {
   "cell_type": "code",
   "execution_count": 6,
   "id": "95a4dbd3-2245-418a-af71-d3a10abccf03",
   "metadata": {},
   "outputs": [],
   "source": [
    "text = '''Biden befürchtet Einmarsch \"in den nächsten Tagen\"\n",
    "            Stand: 18.02.2022 06:01 Uhr\n",
    "            Die Gefahr eines russischen Einmarsches in die Ukraine schätzt US-Präsident Biden als \"sehr hoch\" ein - schon in den kommenden Tagen könne es dazu kommen. Die russische Regierung wies den Vize-US-Botschafter in Moskau aus.\n",
    "            US-Präsident Joe Biden befürchtet trotz aller Beteuerungen aus Moskau einen russischen Einmarsch in die Ukraine in den kommenden Tagen. Biden sagte, die Gefahr einer Invasion sei \"sehr hoch\". Nach seiner Einschätzung könne es \"in den nächsten paar Tagen\" dazu kommen. Es gebe keine Pläne dafür, dass er mit dem russischen Präsidenten Wladimir Putin telefonieren werde, fügte er hinzu.\n",
    "            Der Kreml erklärte laut der russischen Agentur RIA, Bidens Warnung verstärke die Spannungen noch. Der stellvertretende Außenminister Sergej Werschinin wies vor dem UN-Sicherheitsrat die Befürchtungen des Westens vor einem bevorstehenden Einmarsch erneut zurück. \"Ich denke, wir haben genug darüber spekuliert\", sagte er. Eine Invasion sei entgegen der Warnungen ausgeblieben. In Richtung der USA und ihrer westlichen Verbündeten sagte Werschinin: \"Mein Rat an Sie ist, sich nicht in eine unangenehme Situation zu begeben.\"\n",
    "            Biden will am heutigen Freitag mit Verbündeten über das weitere Vorgehen beraten. Themen der Telefonschalte am Nachmittag (Ortszeit) sollten unter anderem die Aufstockung der russischen Truppen an der Grenze zur Ukraine und weitere diplomatische Bemühungen sein, hieß es aus dem Weißen Haus. Neben Kanadas Premierminister Justin Trudeau sollen führende Politiker aus Deutschland, Frankreich, Großbritannien, Italien, Polen und Rumänien an dem Gespräch teilnehmen, teilte Trudeaus Büro am Donnerstagabend (Ortszeit) mit. Auch die Europäische Union und die NATO seien vertreten.\n",
    "            US-Außenminister Antony Blinken will sich nächste Woche mit seinem russischen Kollegen Sergej Lawrow treffen - solange Russland nicht in der Ukraine einmarschiert. Blinken habe vorgeschlagen, sich mit Lawrow \"nächste Woche in Europa zu treffen. Die Russen haben mit Terminvorschlägen für Ende nächster Woche geantwortet, was wir unter der Bedingung akzeptiert haben, dass es keine russische Invasion der Ukraine gibt\", erklärte der Sprecher des Außenministeriums, Ned Price, am Abend.\n",
    "            Zuvor hatte Blinken vor dem UN-Sicherheitsrat ebenfalls gewarnt, Russland bereite sich auf einen Angriff in den kommenden Tagen vor. Russlands Plan sei, dafür einen Vorwand zu schaffen. \"Dies könnte ein gewaltsames Ereignis sein, das Russland gegen die Ukraine vorbringen wird, oder eine unerhörte Anschuldigung, die Russland gegen die ukrainische Regierung erheben wird\", sagte er. Möglich wären ihm zufolge ein vermeintlicher Terroranschlag in Russland, die \"erfundene Entdeckung eines Massengrabes\" und Vorwürfe eines Völkermordes, ein inszenierter Drohnenangriff auf Zivilisten oder ein vorgetäuschter oder echter Angriff mit Chemiewaffen.\n",
    "            Russische Medien würden bereits \"falsche Alarme\" verbreiten, so Blinken. Ein russischer Angriff könne auch die ukrainische Hauptstadt Kiew einbeziehen. Der US-Außenminister betonte, Diplomatie sei weiter der wichtigste Weg zur Lösung der Krise. Er habe daher seinem russischen Amtskollegen Sergej Lawrow ein persönliches Treffen in der kommenden Woche vorgeschlagen. \n",
    "            '''"
   ]
  },
  {
   "cell_type": "markdown",
   "id": "f18a78bb-c4a9-4e3b-a606-603af6543c1e",
   "metadata": {
    "slideshow": {
     "slide_type": "subslide"
    },
    "tags": []
   },
   "source": [
    "## Doc-Objekt erstellen"
   ]
  },
  {
   "cell_type": "code",
   "execution_count": 75,
   "id": "5bc52de7-d8f0-436c-9577-694b902dfc27",
   "metadata": {},
   "outputs": [],
   "source": [
    "# This is were the magic happens!\n",
    "doc = nlp(text)"
   ]
  },
  {
   "cell_type": "markdown",
   "id": "e50f756e-7692-4084-84a1-670809b7d380",
   "metadata": {},
   "source": [
    "## Im Token-Objekt hinterlegte Informationen\n",
    "\n",
    "https://spacy.io/api/token#attributes"
   ]
  },
  {
   "cell_type": "code",
   "execution_count": 101,
   "id": "00b466fb-24eb-49be-8655-ad628a819e73",
   "metadata": {
    "collapsed": true,
    "jupyter": {
     "outputs_hidden": true
    },
    "tags": []
   },
   "outputs": [
    {
     "name": "stdout",
     "output_type": "stream",
     "text": [
      "Token: Biden  \n",
      "              Lemmata: Biden \n",
      "              POS: PROPN\n",
      "              explain POS: proper noun\n",
      "              TAG: NE\n",
      "              explain TAG: proper noun\n",
      "              Dependency: sb\n",
      "              explain Dependency: subject\n",
      "              Entity: PER\n",
      "Token: befürchtet  \n",
      "              Lemmata: befürchten \n",
      "              POS: VERB\n",
      "              explain POS: verb\n",
      "              TAG: VVFIN\n",
      "              explain TAG: finite verb, full\n",
      "              Dependency: ROOT\n",
      "              explain Dependency: None\n",
      "              Entity: \n",
      "Token: Einmarsch  \n",
      "              Lemmata: Einmarsch \n",
      "              POS: NOUN\n",
      "              explain POS: noun\n",
      "              TAG: NN\n",
      "              explain TAG: noun, singular or mass\n",
      "              Dependency: oa\n",
      "              explain Dependency: accusative object\n",
      "              Entity: \n",
      "Token: \"  \n",
      "              Lemmata: \" \n",
      "              POS: PUNCT\n",
      "              explain POS: punctuation\n",
      "              TAG: $(\n",
      "              explain TAG: other sentence-internal punctuation mark\n",
      "              Dependency: punct\n",
      "              explain Dependency: punctuation\n",
      "              Entity: \n",
      "Token: in  \n",
      "              Lemmata: in \n",
      "              POS: ADP\n",
      "              explain POS: adposition\n",
      "              TAG: APPR\n",
      "              explain TAG: preposition; circumposition left\n",
      "              Dependency: mo\n",
      "              explain Dependency: modifier\n",
      "              Entity: \n",
      "Token: den  \n",
      "              Lemmata: der \n",
      "              POS: DET\n",
      "              explain POS: determiner\n",
      "              TAG: ART\n",
      "              explain TAG: definite or indefinite article\n",
      "              Dependency: nk\n",
      "              explain Dependency: noun kernel element\n",
      "              Entity: \n",
      "Token: nächsten  \n",
      "              Lemmata: nächst \n",
      "              POS: ADJ\n",
      "              explain POS: adjective\n",
      "              TAG: ADJA\n",
      "              explain TAG: adjective, attributive\n",
      "              Dependency: nk\n",
      "              explain Dependency: noun kernel element\n",
      "              Entity: \n",
      "Token: Tagen  \n",
      "              Lemmata: Tag \n",
      "              POS: NOUN\n",
      "              explain POS: noun\n",
      "              TAG: NN\n",
      "              explain TAG: noun, singular or mass\n",
      "              Dependency: nk\n",
      "              explain Dependency: noun kernel element\n",
      "              Entity: \n",
      "Token: \"  \n",
      "              Lemmata: \" \n",
      "              POS: PUNCT\n",
      "              explain POS: punctuation\n",
      "              TAG: $(\n",
      "              explain TAG: other sentence-internal punctuation mark\n",
      "              Dependency: punct\n",
      "              explain Dependency: punctuation\n",
      "              Entity: \n",
      "Token: \n",
      "              \n",
      "              Lemmata: \n",
      "             \n",
      "              POS: SPACE\n",
      "              explain POS: space\n",
      "              TAG: _SP\n",
      "              explain TAG: whitespace\n",
      "              Dependency: dep\n",
      "              explain Dependency: unclassified dependent\n",
      "              Entity: \n",
      "Token: Stand  \n",
      "              Lemmata: Stand \n",
      "              POS: NOUN\n",
      "              explain POS: noun\n",
      "              TAG: NN\n",
      "              explain TAG: noun, singular or mass\n",
      "              Dependency: ROOT\n",
      "              explain Dependency: None\n",
      "              Entity: \n",
      "Token: :  \n",
      "              Lemmata: : \n",
      "              POS: PUNCT\n",
      "              explain POS: punctuation\n",
      "              TAG: $.\n",
      "              explain TAG: sentence-final punctuation mark\n",
      "              Dependency: punct\n",
      "              explain Dependency: punctuation\n",
      "              Entity: \n",
      "Token: 18.02.2022  \n",
      "              Lemmata: 18.02.2022 \n",
      "              POS: X\n",
      "              explain POS: other\n",
      "              TAG: NN\n",
      "              explain TAG: noun, singular or mass\n",
      "              Dependency: nk\n",
      "              explain Dependency: noun kernel element\n",
      "              Entity: \n",
      "Token: 06:01  \n",
      "              Lemmata: 06:01 \n",
      "              POS: NUM\n",
      "              explain POS: numeral\n",
      "              TAG: CARD\n",
      "              explain TAG: cardinal number\n",
      "              Dependency: nk\n",
      "              explain Dependency: noun kernel element\n",
      "              Entity: \n",
      "Token: Uhr  \n",
      "              Lemmata: Uhr \n",
      "              POS: NOUN\n",
      "              explain POS: noun\n",
      "              TAG: NN\n",
      "              explain TAG: noun, singular or mass\n",
      "              Dependency: mnr\n",
      "              explain Dependency: postnominal modifier\n",
      "              Entity: \n",
      "Token: \n",
      "              \n",
      "              Lemmata: \n",
      "             \n",
      "              POS: SPACE\n",
      "              explain POS: space\n",
      "              TAG: _SP\n",
      "              explain TAG: whitespace\n",
      "              Dependency: dep\n",
      "              explain Dependency: unclassified dependent\n",
      "              Entity: \n",
      "Token: Die  \n",
      "              Lemmata: der \n",
      "              POS: DET\n",
      "              explain POS: determiner\n",
      "              TAG: ART\n",
      "              explain TAG: definite or indefinite article\n",
      "              Dependency: nk\n",
      "              explain Dependency: noun kernel element\n",
      "              Entity: \n",
      "Token: Gefahr  \n",
      "              Lemmata: Gefahr \n",
      "              POS: NOUN\n",
      "              explain POS: noun\n",
      "              TAG: NN\n",
      "              explain TAG: noun, singular or mass\n",
      "              Dependency: oa\n",
      "              explain Dependency: accusative object\n",
      "              Entity: \n",
      "Token: eines  \n",
      "              Lemmata: ein \n",
      "              POS: DET\n",
      "              explain POS: determiner\n",
      "              TAG: ART\n",
      "              explain TAG: definite or indefinite article\n",
      "              Dependency: nk\n",
      "              explain Dependency: noun kernel element\n",
      "              Entity: \n",
      "Token: russischen  \n",
      "              Lemmata: russisch \n",
      "              POS: ADJ\n",
      "              explain POS: adjective\n",
      "              TAG: ADJA\n",
      "              explain TAG: adjective, attributive\n",
      "              Dependency: nk\n",
      "              explain Dependency: noun kernel element\n",
      "              Entity: MISC\n"
     ]
    }
   ],
   "source": [
    "for token in doc[:20]:\n",
    "    print(f'''Token: {token}  \n",
    "              Lemmata: {token.lemma_} \n",
    "              POS: {token.pos_}\n",
    "              explain POS: {spacy.explain(token.pos_)}\n",
    "              TAG: {token.tag_}\n",
    "              explain TAG: {spacy.explain(token.tag_)}\n",
    "              Dependency: {token.dep_}\n",
    "              explain Dependency: {spacy.explain(token.dep_)}\n",
    "              Entity: {token.ent_type_}''')"
   ]
  },
  {
   "cell_type": "markdown",
   "id": "1ef8306b-e898-444a-93e7-ad3a9848edd1",
   "metadata": {
    "slideshow": {
     "slide_type": "subslide"
    },
    "tags": []
   },
   "source": [
    "## Im Doc-Objekt hinterlegte Informationen\n",
    "\n",
    "https://spacy.io/api/doc"
   ]
  },
  {
   "cell_type": "code",
   "execution_count": 19,
   "id": "39380514-28b4-4a30-969f-2e85e90b7682",
   "metadata": {},
   "outputs": [
    {
     "data": {
      "text/plain": [
       "spacy.tokens.doc.Doc"
      ]
     },
     "execution_count": 19,
     "metadata": {},
     "output_type": "execute_result"
    }
   ],
   "source": [
    "type(doc)"
   ]
  },
  {
   "cell_type": "code",
   "execution_count": 72,
   "id": "29bbb8a8-0dbc-44e2-bfc2-f99bc8948ab7",
   "metadata": {},
   "outputs": [
    {
     "data": {
      "text/plain": [
       "'de'"
      ]
     },
     "execution_count": 72,
     "metadata": {},
     "output_type": "execute_result"
    }
   ],
   "source": [
    "doc.lang_"
   ]
  },
  {
   "cell_type": "markdown",
   "id": "0b7980d5-f44c-4cdf-9d74-037e3d6ecdae",
   "metadata": {
    "slideshow": {
     "slide_type": "subslide"
    },
    "tags": []
   },
   "source": [
    "### Entities"
   ]
  },
  {
   "cell_type": "code",
   "execution_count": 64,
   "id": "840398b6-2874-459d-b8eb-c6b751029040",
   "metadata": {},
   "outputs": [
    {
     "name": "stdout",
     "output_type": "stream",
     "text": [
      "<class 'tuple'>\n",
      "61\n",
      "(Biden, russischen, Ukraine, US-Präsident, Biden, russische Regierung, Vize-US-Botschafter, Moskau, US-Präsident, Joe Biden, Moskau, russischen, Ukraine, Biden, russischen, Wladimir Putin, russischen, RIA, Sergej Werschinin, UN-Sicherheitsrat, Invasion, USA, Telefonschalte, russischen, Grenze, Ukraine, Weißen Haus, Kanadas, Justin Trudeau, Deutschland, Frankreich, Großbritannien, Italien, Polen, Rumänien, Trudeaus, Europäische Union, NATO, Antony Blinken, russischen, Sergej Lawrow, Russland, Ukraine, Lawrow, Europa, Russen, russische, Außenministeriums, Ned Price,, Abend., Blinken, UN-Sicherheitsrat, Russland, Russlands Plan, Russland, Ukraine, Russland, ukrainische Regierung, Russland, Blinken., russischer, ukrainische, Kiew, US-Außenminister, russischen, Sergej Lawrow)\n"
     ]
    }
   ],
   "source": [
    "# Entities\n",
    "\n",
    "print(type(doc.ents))\n",
    "print(len(doc.ents))\n",
    "print(doc.ents)"
   ]
  },
  {
   "cell_type": "code",
   "execution_count": 108,
   "id": "d49cb59a-c9c6-4038-8aec-c673f98b6a3f",
   "metadata": {
    "slideshow": {
     "slide_type": "subslide"
    },
    "tags": []
   },
   "outputs": [
    {
     "name": "stdout",
     "output_type": "stream",
     "text": [
      "Biden PER\n",
      "Biden PER\n",
      "Joe PER\n",
      "Biden PER\n",
      "Biden PER\n",
      "Wladimir PER\n",
      "Putin PER\n",
      "Sergej PER\n",
      "Werschinin PER\n",
      "Telefonschalte PER\n",
      "Justin PER\n",
      "Trudeau PER\n",
      "Trudeaus PER\n",
      "Antony PER\n",
      "Blinken PER\n",
      "Sergej PER\n",
      "Lawrow PER\n",
      "Lawrow PER\n",
      "Blinken PER\n",
      "Sergej PER\n",
      "Lawrow PER\n"
     ]
    }
   ],
   "source": [
    "# prüfen des Token-Objekts\n",
    "\n",
    "for token in doc:\n",
    "\n",
    "    if token.ent_type_ == 'PER':\n",
    "        print(token, token.ent_type_)"
   ]
  },
  {
   "cell_type": "code",
   "execution_count": 107,
   "id": "122716f1-fc33-44cd-ba2e-dc8561e3d054",
   "metadata": {},
   "outputs": [
    {
     "name": "stdout",
     "output_type": "stream",
     "text": [
      "Vize-US-Botschafter ORG\n",
      "RIA ORG\n",
      "UN-Sicherheitsrat ORG\n",
      "Europäische Union ORG\n",
      "NATO ORG\n",
      "UN-Sicherheitsrat ORG\n",
      "ukrainische Regierung ORG\n",
      "US-Außenminister ORG\n"
     ]
    }
   ],
   "source": [
    "# Prüfen des Label der Entities im Doc-Objekt\n",
    "\n",
    "for ent in doc.ents:\n",
    "\n",
    "    if ent.label_ == 'ORG':\n",
    "        print(ent.text, ent.label_)"
   ]
  },
  {
   "cell_type": "code",
   "execution_count": 56,
   "id": "9b223352-b600-43a0-a33f-199cd141321e",
   "metadata": {},
   "outputs": [
    {
     "name": "stdout",
     "output_type": "stream",
     "text": [
      "{'Antony', 'Wladimir', 'Putin', 'Trudeau', 'Blinken', 'Telefonschalte', 'Lawrow', 'Justin', 'Trudeaus', 'Werschinin', 'Joe', 'Biden', 'Sergej'}\n"
     ]
    }
   ],
   "source": [
    "personen_liste = { str(token) for token in doc  if token.ent_type_ == 'PER' }\n",
    "print(personen_liste)"
   ]
  },
  {
   "cell_type": "code",
   "execution_count": 63,
   "id": "4999251c-451d-44fe-9cfb-8705d48d07a1",
   "metadata": {
    "slideshow": {
     "slide_type": "subslide"
    },
    "tags": []
   },
   "outputs": [
    {
     "name": "stdout",
     "output_type": "stream",
     "text": [
      "PER\n",
      "{'Antony', 'Wladimir', 'Putin', 'Trudeau', 'Blinken', 'Telefonschalte', 'Lawrow', 'Justin', 'Trudeaus', 'Werschinin', 'Joe', 'Biden', 'Sergej'}\n",
      "\n",
      "\n",
      "ORG\n",
      "{'Vize-US-Botschafter', 'NATO', 'Union', 'ukrainische', 'Regierung', 'Europäische', 'RIA', 'UN-Sicherheitsrat', 'US-Außenminister'}\n",
      "\n",
      "\n",
      "LOC\n",
      "{'Kanadas', 'russische', 'Haus', 'Deutschland', 'Frankreich', 'Kiew', 'Weißen', 'US-Präsident', 'USA', 'Italien', 'Russland', 'Großbritannien', 'Moskau', ',', 'Rumänien', 'Polen', 'Europa', 'Regierung', 'Ukraine'}\n",
      "\n",
      "\n",
      "MISC\n",
      "{'.', 'russische', 'Abend', 'Russen', 'Price', 'Invasion', 'Grenze', 'ukrainische', 'Plan', 'Außenministeriums', 'russischer', 'russischen', ',', 'Ned', 'Blinken', 'Russlands'}\n",
      "\n",
      "\n"
     ]
    }
   ],
   "source": [
    "for entity in ['PER', 'ORG', 'LOC', 'MISC']:\n",
    "    print(entity)\n",
    "    print({ str(token) for token in doc  if token.ent_type_ == entity })\n",
    "    print('\\n')\n",
    "    "
   ]
  },
  {
   "cell_type": "markdown",
   "id": "5f0b6dcf-5959-451e-87ec-22199972275d",
   "metadata": {
    "slideshow": {
     "slide_type": "subslide"
    },
    "tags": []
   },
   "source": [
    "## Visualisieren der Entities"
   ]
  },
  {
   "cell_type": "code",
   "execution_count": 95,
   "id": "6de0596d-eb6a-4786-bada-69522913771c",
   "metadata": {},
   "outputs": [],
   "source": [
    "from spacy import displacy"
   ]
  },
  {
   "cell_type": "code",
   "execution_count": 76,
   "id": "a54f0561-9327-49ce-9d21-416a5e7dc094",
   "metadata": {
    "slideshow": {
     "slide_type": "subslide"
    },
    "tags": []
   },
   "outputs": [
    {
     "data": {
      "text/html": [
       "<span class=\"tex2jax_ignore\"><div class=\"entities\" style=\"line-height: 2.5; direction: ltr\">\n",
       "<mark class=\"entity\" style=\"background: #ddd; padding: 0.45em 0.6em; margin: 0 0.25em; line-height: 1; border-radius: 0.35em;\">\n",
       "    Biden\n",
       "    <span style=\"font-size: 0.8em; font-weight: bold; line-height: 1; border-radius: 0.35em; vertical-align: middle; margin-left: 0.5rem\">PER</span>\n",
       "</mark>\n",
       " befürchtet Einmarsch &quot;in den nächsten Tagen&quot;</br>            Stand: 18.02.2022 06:01 Uhr</br>            Die Gefahr eines \n",
       "<mark class=\"entity\" style=\"background: #ddd; padding: 0.45em 0.6em; margin: 0 0.25em; line-height: 1; border-radius: 0.35em;\">\n",
       "    russischen\n",
       "    <span style=\"font-size: 0.8em; font-weight: bold; line-height: 1; border-radius: 0.35em; vertical-align: middle; margin-left: 0.5rem\">MISC</span>\n",
       "</mark>\n",
       " Einmarsches in die \n",
       "<mark class=\"entity\" style=\"background: #ff9561; padding: 0.45em 0.6em; margin: 0 0.25em; line-height: 1; border-radius: 0.35em;\">\n",
       "    Ukraine\n",
       "    <span style=\"font-size: 0.8em; font-weight: bold; line-height: 1; border-radius: 0.35em; vertical-align: middle; margin-left: 0.5rem\">LOC</span>\n",
       "</mark>\n",
       " schätzt \n",
       "<mark class=\"entity\" style=\"background: #ff9561; padding: 0.45em 0.6em; margin: 0 0.25em; line-height: 1; border-radius: 0.35em;\">\n",
       "    US-Präsident\n",
       "    <span style=\"font-size: 0.8em; font-weight: bold; line-height: 1; border-radius: 0.35em; vertical-align: middle; margin-left: 0.5rem\">LOC</span>\n",
       "</mark>\n",
       " \n",
       "<mark class=\"entity\" style=\"background: #ddd; padding: 0.45em 0.6em; margin: 0 0.25em; line-height: 1; border-radius: 0.35em;\">\n",
       "    Biden\n",
       "    <span style=\"font-size: 0.8em; font-weight: bold; line-height: 1; border-radius: 0.35em; vertical-align: middle; margin-left: 0.5rem\">PER</span>\n",
       "</mark>\n",
       " als &quot;sehr hoch&quot; ein - schon in den kommenden Tagen könne es dazu kommen. Die \n",
       "<mark class=\"entity\" style=\"background: #ff9561; padding: 0.45em 0.6em; margin: 0 0.25em; line-height: 1; border-radius: 0.35em;\">\n",
       "    russische Regierung\n",
       "    <span style=\"font-size: 0.8em; font-weight: bold; line-height: 1; border-radius: 0.35em; vertical-align: middle; margin-left: 0.5rem\">LOC</span>\n",
       "</mark>\n",
       " wies den \n",
       "<mark class=\"entity\" style=\"background: #7aecec; padding: 0.45em 0.6em; margin: 0 0.25em; line-height: 1; border-radius: 0.35em;\">\n",
       "    Vize-US-Botschafter\n",
       "    <span style=\"font-size: 0.8em; font-weight: bold; line-height: 1; border-radius: 0.35em; vertical-align: middle; margin-left: 0.5rem\">ORG</span>\n",
       "</mark>\n",
       " in \n",
       "<mark class=\"entity\" style=\"background: #ff9561; padding: 0.45em 0.6em; margin: 0 0.25em; line-height: 1; border-radius: 0.35em;\">\n",
       "    Moskau\n",
       "    <span style=\"font-size: 0.8em; font-weight: bold; line-height: 1; border-radius: 0.35em; vertical-align: middle; margin-left: 0.5rem\">LOC</span>\n",
       "</mark>\n",
       " aus.</br>            \n",
       "<mark class=\"entity\" style=\"background: #ff9561; padding: 0.45em 0.6em; margin: 0 0.25em; line-height: 1; border-radius: 0.35em;\">\n",
       "    US-Präsident\n",
       "    <span style=\"font-size: 0.8em; font-weight: bold; line-height: 1; border-radius: 0.35em; vertical-align: middle; margin-left: 0.5rem\">LOC</span>\n",
       "</mark>\n",
       " \n",
       "<mark class=\"entity\" style=\"background: #ddd; padding: 0.45em 0.6em; margin: 0 0.25em; line-height: 1; border-radius: 0.35em;\">\n",
       "    Joe Biden\n",
       "    <span style=\"font-size: 0.8em; font-weight: bold; line-height: 1; border-radius: 0.35em; vertical-align: middle; margin-left: 0.5rem\">PER</span>\n",
       "</mark>\n",
       " befürchtet trotz aller Beteuerungen aus \n",
       "<mark class=\"entity\" style=\"background: #ff9561; padding: 0.45em 0.6em; margin: 0 0.25em; line-height: 1; border-radius: 0.35em;\">\n",
       "    Moskau\n",
       "    <span style=\"font-size: 0.8em; font-weight: bold; line-height: 1; border-radius: 0.35em; vertical-align: middle; margin-left: 0.5rem\">LOC</span>\n",
       "</mark>\n",
       " einen \n",
       "<mark class=\"entity\" style=\"background: #ddd; padding: 0.45em 0.6em; margin: 0 0.25em; line-height: 1; border-radius: 0.35em;\">\n",
       "    russischen\n",
       "    <span style=\"font-size: 0.8em; font-weight: bold; line-height: 1; border-radius: 0.35em; vertical-align: middle; margin-left: 0.5rem\">MISC</span>\n",
       "</mark>\n",
       " Einmarsch in die \n",
       "<mark class=\"entity\" style=\"background: #ff9561; padding: 0.45em 0.6em; margin: 0 0.25em; line-height: 1; border-radius: 0.35em;\">\n",
       "    Ukraine\n",
       "    <span style=\"font-size: 0.8em; font-weight: bold; line-height: 1; border-radius: 0.35em; vertical-align: middle; margin-left: 0.5rem\">LOC</span>\n",
       "</mark>\n",
       " in den kommenden Tagen. \n",
       "<mark class=\"entity\" style=\"background: #ddd; padding: 0.45em 0.6em; margin: 0 0.25em; line-height: 1; border-radius: 0.35em;\">\n",
       "    Biden\n",
       "    <span style=\"font-size: 0.8em; font-weight: bold; line-height: 1; border-radius: 0.35em; vertical-align: middle; margin-left: 0.5rem\">PER</span>\n",
       "</mark>\n",
       " sagte, die Gefahr einer Invasion sei &quot;sehr hoch&quot;. Nach seiner Einschätzung könne es &quot;in den nächsten paar Tagen&quot; dazu kommen. Es gebe keine Pläne dafür, dass er mit dem \n",
       "<mark class=\"entity\" style=\"background: #ddd; padding: 0.45em 0.6em; margin: 0 0.25em; line-height: 1; border-radius: 0.35em;\">\n",
       "    russischen\n",
       "    <span style=\"font-size: 0.8em; font-weight: bold; line-height: 1; border-radius: 0.35em; vertical-align: middle; margin-left: 0.5rem\">MISC</span>\n",
       "</mark>\n",
       " Präsidenten \n",
       "<mark class=\"entity\" style=\"background: #ddd; padding: 0.45em 0.6em; margin: 0 0.25em; line-height: 1; border-radius: 0.35em;\">\n",
       "    Wladimir Putin\n",
       "    <span style=\"font-size: 0.8em; font-weight: bold; line-height: 1; border-radius: 0.35em; vertical-align: middle; margin-left: 0.5rem\">PER</span>\n",
       "</mark>\n",
       " telefonieren werde, fügte er hinzu.</br>            Der Kreml erklärte laut der \n",
       "<mark class=\"entity\" style=\"background: #ddd; padding: 0.45em 0.6em; margin: 0 0.25em; line-height: 1; border-radius: 0.35em;\">\n",
       "    russischen\n",
       "    <span style=\"font-size: 0.8em; font-weight: bold; line-height: 1; border-radius: 0.35em; vertical-align: middle; margin-left: 0.5rem\">MISC</span>\n",
       "</mark>\n",
       " Agentur \n",
       "<mark class=\"entity\" style=\"background: #7aecec; padding: 0.45em 0.6em; margin: 0 0.25em; line-height: 1; border-radius: 0.35em;\">\n",
       "    RIA\n",
       "    <span style=\"font-size: 0.8em; font-weight: bold; line-height: 1; border-radius: 0.35em; vertical-align: middle; margin-left: 0.5rem\">ORG</span>\n",
       "</mark>\n",
       ", Bidens Warnung verstärke die Spannungen noch. Der stellvertretende Außenminister \n",
       "<mark class=\"entity\" style=\"background: #ddd; padding: 0.45em 0.6em; margin: 0 0.25em; line-height: 1; border-radius: 0.35em;\">\n",
       "    Sergej Werschinin\n",
       "    <span style=\"font-size: 0.8em; font-weight: bold; line-height: 1; border-radius: 0.35em; vertical-align: middle; margin-left: 0.5rem\">PER</span>\n",
       "</mark>\n",
       " wies vor dem \n",
       "<mark class=\"entity\" style=\"background: #7aecec; padding: 0.45em 0.6em; margin: 0 0.25em; line-height: 1; border-radius: 0.35em;\">\n",
       "    UN-Sicherheitsrat\n",
       "    <span style=\"font-size: 0.8em; font-weight: bold; line-height: 1; border-radius: 0.35em; vertical-align: middle; margin-left: 0.5rem\">ORG</span>\n",
       "</mark>\n",
       " die Befürchtungen des Westens vor einem bevorstehenden Einmarsch erneut zurück. &quot;Ich denke, wir haben genug darüber spekuliert&quot;, sagte er. Eine \n",
       "<mark class=\"entity\" style=\"background: #ddd; padding: 0.45em 0.6em; margin: 0 0.25em; line-height: 1; border-radius: 0.35em;\">\n",
       "    Invasion\n",
       "    <span style=\"font-size: 0.8em; font-weight: bold; line-height: 1; border-radius: 0.35em; vertical-align: middle; margin-left: 0.5rem\">MISC</span>\n",
       "</mark>\n",
       " sei entgegen der Warnungen ausgeblieben. In Richtung der \n",
       "<mark class=\"entity\" style=\"background: #ff9561; padding: 0.45em 0.6em; margin: 0 0.25em; line-height: 1; border-radius: 0.35em;\">\n",
       "    USA\n",
       "    <span style=\"font-size: 0.8em; font-weight: bold; line-height: 1; border-radius: 0.35em; vertical-align: middle; margin-left: 0.5rem\">LOC</span>\n",
       "</mark>\n",
       " und ihrer westlichen Verbündeten sagte Werschinin: &quot;Mein Rat an Sie ist, sich nicht in eine unangenehme Situation zu begeben.&quot;</br>            Biden will am heutigen Freitag mit Verbündeten über das weitere Vorgehen beraten. Themen der \n",
       "<mark class=\"entity\" style=\"background: #ddd; padding: 0.45em 0.6em; margin: 0 0.25em; line-height: 1; border-radius: 0.35em;\">\n",
       "    Telefonschalte\n",
       "    <span style=\"font-size: 0.8em; font-weight: bold; line-height: 1; border-radius: 0.35em; vertical-align: middle; margin-left: 0.5rem\">PER</span>\n",
       "</mark>\n",
       " am Nachmittag (Ortszeit) sollten unter anderem die Aufstockung der \n",
       "<mark class=\"entity\" style=\"background: #ddd; padding: 0.45em 0.6em; margin: 0 0.25em; line-height: 1; border-radius: 0.35em;\">\n",
       "    russischen\n",
       "    <span style=\"font-size: 0.8em; font-weight: bold; line-height: 1; border-radius: 0.35em; vertical-align: middle; margin-left: 0.5rem\">MISC</span>\n",
       "</mark>\n",
       " Truppen an der \n",
       "<mark class=\"entity\" style=\"background: #ddd; padding: 0.45em 0.6em; margin: 0 0.25em; line-height: 1; border-radius: 0.35em;\">\n",
       "    Grenze\n",
       "    <span style=\"font-size: 0.8em; font-weight: bold; line-height: 1; border-radius: 0.35em; vertical-align: middle; margin-left: 0.5rem\">MISC</span>\n",
       "</mark>\n",
       " zur \n",
       "<mark class=\"entity\" style=\"background: #ff9561; padding: 0.45em 0.6em; margin: 0 0.25em; line-height: 1; border-radius: 0.35em;\">\n",
       "    Ukraine\n",
       "    <span style=\"font-size: 0.8em; font-weight: bold; line-height: 1; border-radius: 0.35em; vertical-align: middle; margin-left: 0.5rem\">LOC</span>\n",
       "</mark>\n",
       " und weitere diplomatische Bemühungen sein, hieß es aus dem \n",
       "<mark class=\"entity\" style=\"background: #ff9561; padding: 0.45em 0.6em; margin: 0 0.25em; line-height: 1; border-radius: 0.35em;\">\n",
       "    Weißen Haus\n",
       "    <span style=\"font-size: 0.8em; font-weight: bold; line-height: 1; border-radius: 0.35em; vertical-align: middle; margin-left: 0.5rem\">LOC</span>\n",
       "</mark>\n",
       ". Neben \n",
       "<mark class=\"entity\" style=\"background: #ff9561; padding: 0.45em 0.6em; margin: 0 0.25em; line-height: 1; border-radius: 0.35em;\">\n",
       "    Kanadas\n",
       "    <span style=\"font-size: 0.8em; font-weight: bold; line-height: 1; border-radius: 0.35em; vertical-align: middle; margin-left: 0.5rem\">LOC</span>\n",
       "</mark>\n",
       " Premierminister \n",
       "<mark class=\"entity\" style=\"background: #ddd; padding: 0.45em 0.6em; margin: 0 0.25em; line-height: 1; border-radius: 0.35em;\">\n",
       "    Justin Trudeau\n",
       "    <span style=\"font-size: 0.8em; font-weight: bold; line-height: 1; border-radius: 0.35em; vertical-align: middle; margin-left: 0.5rem\">PER</span>\n",
       "</mark>\n",
       " sollen führende Politiker aus \n",
       "<mark class=\"entity\" style=\"background: #ff9561; padding: 0.45em 0.6em; margin: 0 0.25em; line-height: 1; border-radius: 0.35em;\">\n",
       "    Deutschland, Frankreich, Großbritannien, Italien, Polen\n",
       "    <span style=\"font-size: 0.8em; font-weight: bold; line-height: 1; border-radius: 0.35em; vertical-align: middle; margin-left: 0.5rem\">LOC</span>\n",
       "</mark>\n",
       " und \n",
       "<mark class=\"entity\" style=\"background: #ff9561; padding: 0.45em 0.6em; margin: 0 0.25em; line-height: 1; border-radius: 0.35em;\">\n",
       "    Rumänien\n",
       "    <span style=\"font-size: 0.8em; font-weight: bold; line-height: 1; border-radius: 0.35em; vertical-align: middle; margin-left: 0.5rem\">LOC</span>\n",
       "</mark>\n",
       " an dem Gespräch teilnehmen, teilte \n",
       "<mark class=\"entity\" style=\"background: #ddd; padding: 0.45em 0.6em; margin: 0 0.25em; line-height: 1; border-radius: 0.35em;\">\n",
       "    Trudeaus\n",
       "    <span style=\"font-size: 0.8em; font-weight: bold; line-height: 1; border-radius: 0.35em; vertical-align: middle; margin-left: 0.5rem\">PER</span>\n",
       "</mark>\n",
       " Büro am Donnerstagabend (Ortszeit) mit. Auch die \n",
       "<mark class=\"entity\" style=\"background: #7aecec; padding: 0.45em 0.6em; margin: 0 0.25em; line-height: 1; border-radius: 0.35em;\">\n",
       "    Europäische Union\n",
       "    <span style=\"font-size: 0.8em; font-weight: bold; line-height: 1; border-radius: 0.35em; vertical-align: middle; margin-left: 0.5rem\">ORG</span>\n",
       "</mark>\n",
       " und die \n",
       "<mark class=\"entity\" style=\"background: #7aecec; padding: 0.45em 0.6em; margin: 0 0.25em; line-height: 1; border-radius: 0.35em;\">\n",
       "    NATO\n",
       "    <span style=\"font-size: 0.8em; font-weight: bold; line-height: 1; border-radius: 0.35em; vertical-align: middle; margin-left: 0.5rem\">ORG</span>\n",
       "</mark>\n",
       " seien vertreten.</br>            US-Außenminister \n",
       "<mark class=\"entity\" style=\"background: #ddd; padding: 0.45em 0.6em; margin: 0 0.25em; line-height: 1; border-radius: 0.35em;\">\n",
       "    Antony Blinken\n",
       "    <span style=\"font-size: 0.8em; font-weight: bold; line-height: 1; border-radius: 0.35em; vertical-align: middle; margin-left: 0.5rem\">PER</span>\n",
       "</mark>\n",
       " will sich nächste Woche mit seinem \n",
       "<mark class=\"entity\" style=\"background: #ddd; padding: 0.45em 0.6em; margin: 0 0.25em; line-height: 1; border-radius: 0.35em;\">\n",
       "    russischen\n",
       "    <span style=\"font-size: 0.8em; font-weight: bold; line-height: 1; border-radius: 0.35em; vertical-align: middle; margin-left: 0.5rem\">MISC</span>\n",
       "</mark>\n",
       " Kollegen \n",
       "<mark class=\"entity\" style=\"background: #ddd; padding: 0.45em 0.6em; margin: 0 0.25em; line-height: 1; border-radius: 0.35em;\">\n",
       "    Sergej Lawrow\n",
       "    <span style=\"font-size: 0.8em; font-weight: bold; line-height: 1; border-radius: 0.35em; vertical-align: middle; margin-left: 0.5rem\">PER</span>\n",
       "</mark>\n",
       " treffen - solange \n",
       "<mark class=\"entity\" style=\"background: #ff9561; padding: 0.45em 0.6em; margin: 0 0.25em; line-height: 1; border-radius: 0.35em;\">\n",
       "    Russland\n",
       "    <span style=\"font-size: 0.8em; font-weight: bold; line-height: 1; border-radius: 0.35em; vertical-align: middle; margin-left: 0.5rem\">LOC</span>\n",
       "</mark>\n",
       " nicht in der \n",
       "<mark class=\"entity\" style=\"background: #ff9561; padding: 0.45em 0.6em; margin: 0 0.25em; line-height: 1; border-radius: 0.35em;\">\n",
       "    Ukraine\n",
       "    <span style=\"font-size: 0.8em; font-weight: bold; line-height: 1; border-radius: 0.35em; vertical-align: middle; margin-left: 0.5rem\">LOC</span>\n",
       "</mark>\n",
       " einmarschiert. Blinken habe vorgeschlagen, sich mit \n",
       "<mark class=\"entity\" style=\"background: #ddd; padding: 0.45em 0.6em; margin: 0 0.25em; line-height: 1; border-radius: 0.35em;\">\n",
       "    Lawrow\n",
       "    <span style=\"font-size: 0.8em; font-weight: bold; line-height: 1; border-radius: 0.35em; vertical-align: middle; margin-left: 0.5rem\">PER</span>\n",
       "</mark>\n",
       " &quot;nächste Woche in \n",
       "<mark class=\"entity\" style=\"background: #ff9561; padding: 0.45em 0.6em; margin: 0 0.25em; line-height: 1; border-radius: 0.35em;\">\n",
       "    Europa\n",
       "    <span style=\"font-size: 0.8em; font-weight: bold; line-height: 1; border-radius: 0.35em; vertical-align: middle; margin-left: 0.5rem\">LOC</span>\n",
       "</mark>\n",
       " zu treffen. Die \n",
       "<mark class=\"entity\" style=\"background: #ddd; padding: 0.45em 0.6em; margin: 0 0.25em; line-height: 1; border-radius: 0.35em;\">\n",
       "    Russen\n",
       "    <span style=\"font-size: 0.8em; font-weight: bold; line-height: 1; border-radius: 0.35em; vertical-align: middle; margin-left: 0.5rem\">MISC</span>\n",
       "</mark>\n",
       " haben mit Terminvorschlägen für Ende nächster Woche geantwortet, was wir unter der Bedingung akzeptiert haben, dass es keine \n",
       "<mark class=\"entity\" style=\"background: #ddd; padding: 0.45em 0.6em; margin: 0 0.25em; line-height: 1; border-radius: 0.35em;\">\n",
       "    russische\n",
       "    <span style=\"font-size: 0.8em; font-weight: bold; line-height: 1; border-radius: 0.35em; vertical-align: middle; margin-left: 0.5rem\">MISC</span>\n",
       "</mark>\n",
       " Invasion der Ukraine gibt&quot;, erklärte der Sprecher des \n",
       "<mark class=\"entity\" style=\"background: #ddd; padding: 0.45em 0.6em; margin: 0 0.25em; line-height: 1; border-radius: 0.35em;\">\n",
       "    Außenministeriums, Ned Price,\n",
       "    <span style=\"font-size: 0.8em; font-weight: bold; line-height: 1; border-radius: 0.35em; vertical-align: middle; margin-left: 0.5rem\">MISC</span>\n",
       "</mark>\n",
       " am \n",
       "<mark class=\"entity\" style=\"background: #ddd; padding: 0.45em 0.6em; margin: 0 0.25em; line-height: 1; border-radius: 0.35em;\">\n",
       "    Abend.\n",
       "    <span style=\"font-size: 0.8em; font-weight: bold; line-height: 1; border-radius: 0.35em; vertical-align: middle; margin-left: 0.5rem\">MISC</span>\n",
       "</mark>\n",
       "</br>            Zuvor hatte \n",
       "<mark class=\"entity\" style=\"background: #ddd; padding: 0.45em 0.6em; margin: 0 0.25em; line-height: 1; border-radius: 0.35em;\">\n",
       "    Blinken\n",
       "    <span style=\"font-size: 0.8em; font-weight: bold; line-height: 1; border-radius: 0.35em; vertical-align: middle; margin-left: 0.5rem\">PER</span>\n",
       "</mark>\n",
       " vor dem \n",
       "<mark class=\"entity\" style=\"background: #7aecec; padding: 0.45em 0.6em; margin: 0 0.25em; line-height: 1; border-radius: 0.35em;\">\n",
       "    UN-Sicherheitsrat\n",
       "    <span style=\"font-size: 0.8em; font-weight: bold; line-height: 1; border-radius: 0.35em; vertical-align: middle; margin-left: 0.5rem\">ORG</span>\n",
       "</mark>\n",
       " ebenfalls gewarnt, \n",
       "<mark class=\"entity\" style=\"background: #ff9561; padding: 0.45em 0.6em; margin: 0 0.25em; line-height: 1; border-radius: 0.35em;\">\n",
       "    Russland\n",
       "    <span style=\"font-size: 0.8em; font-weight: bold; line-height: 1; border-radius: 0.35em; vertical-align: middle; margin-left: 0.5rem\">LOC</span>\n",
       "</mark>\n",
       " bereite sich auf einen Angriff in den kommenden Tagen vor. \n",
       "<mark class=\"entity\" style=\"background: #ddd; padding: 0.45em 0.6em; margin: 0 0.25em; line-height: 1; border-radius: 0.35em;\">\n",
       "    Russlands Plan\n",
       "    <span style=\"font-size: 0.8em; font-weight: bold; line-height: 1; border-radius: 0.35em; vertical-align: middle; margin-left: 0.5rem\">MISC</span>\n",
       "</mark>\n",
       " sei, dafür einen Vorwand zu schaffen. &quot;Dies könnte ein gewaltsames Ereignis sein, das \n",
       "<mark class=\"entity\" style=\"background: #ff9561; padding: 0.45em 0.6em; margin: 0 0.25em; line-height: 1; border-radius: 0.35em;\">\n",
       "    Russland\n",
       "    <span style=\"font-size: 0.8em; font-weight: bold; line-height: 1; border-radius: 0.35em; vertical-align: middle; margin-left: 0.5rem\">LOC</span>\n",
       "</mark>\n",
       " gegen die \n",
       "<mark class=\"entity\" style=\"background: #ff9561; padding: 0.45em 0.6em; margin: 0 0.25em; line-height: 1; border-radius: 0.35em;\">\n",
       "    Ukraine\n",
       "    <span style=\"font-size: 0.8em; font-weight: bold; line-height: 1; border-radius: 0.35em; vertical-align: middle; margin-left: 0.5rem\">LOC</span>\n",
       "</mark>\n",
       " vorbringen wird, oder eine unerhörte Anschuldigung, die \n",
       "<mark class=\"entity\" style=\"background: #ff9561; padding: 0.45em 0.6em; margin: 0 0.25em; line-height: 1; border-radius: 0.35em;\">\n",
       "    Russland\n",
       "    <span style=\"font-size: 0.8em; font-weight: bold; line-height: 1; border-radius: 0.35em; vertical-align: middle; margin-left: 0.5rem\">LOC</span>\n",
       "</mark>\n",
       " gegen die \n",
       "<mark class=\"entity\" style=\"background: #7aecec; padding: 0.45em 0.6em; margin: 0 0.25em; line-height: 1; border-radius: 0.35em;\">\n",
       "    ukrainische Regierung\n",
       "    <span style=\"font-size: 0.8em; font-weight: bold; line-height: 1; border-radius: 0.35em; vertical-align: middle; margin-left: 0.5rem\">ORG</span>\n",
       "</mark>\n",
       " erheben wird&quot;, sagte er. Möglich wären ihm zufolge ein vermeintlicher Terroranschlag in \n",
       "<mark class=\"entity\" style=\"background: #ff9561; padding: 0.45em 0.6em; margin: 0 0.25em; line-height: 1; border-radius: 0.35em;\">\n",
       "    Russland\n",
       "    <span style=\"font-size: 0.8em; font-weight: bold; line-height: 1; border-radius: 0.35em; vertical-align: middle; margin-left: 0.5rem\">LOC</span>\n",
       "</mark>\n",
       ", die &quot;erfundene Entdeckung eines Massengrabes&quot; und Vorwürfe eines Völkermordes, ein inszenierter Drohnenangriff auf Zivilisten oder ein vorgetäuschter oder echter Angriff mit Chemiewaffen.</br>            Russische Medien würden bereits &quot;falsche Alarme&quot; verbreiten, so \n",
       "<mark class=\"entity\" style=\"background: #ddd; padding: 0.45em 0.6em; margin: 0 0.25em; line-height: 1; border-radius: 0.35em;\">\n",
       "    Blinken.\n",
       "    <span style=\"font-size: 0.8em; font-weight: bold; line-height: 1; border-radius: 0.35em; vertical-align: middle; margin-left: 0.5rem\">MISC</span>\n",
       "</mark>\n",
       " Ein \n",
       "<mark class=\"entity\" style=\"background: #ddd; padding: 0.45em 0.6em; margin: 0 0.25em; line-height: 1; border-radius: 0.35em;\">\n",
       "    russischer\n",
       "    <span style=\"font-size: 0.8em; font-weight: bold; line-height: 1; border-radius: 0.35em; vertical-align: middle; margin-left: 0.5rem\">MISC</span>\n",
       "</mark>\n",
       " Angriff könne auch die \n",
       "<mark class=\"entity\" style=\"background: #ddd; padding: 0.45em 0.6em; margin: 0 0.25em; line-height: 1; border-radius: 0.35em;\">\n",
       "    ukrainische\n",
       "    <span style=\"font-size: 0.8em; font-weight: bold; line-height: 1; border-radius: 0.35em; vertical-align: middle; margin-left: 0.5rem\">MISC</span>\n",
       "</mark>\n",
       " Hauptstadt \n",
       "<mark class=\"entity\" style=\"background: #ff9561; padding: 0.45em 0.6em; margin: 0 0.25em; line-height: 1; border-radius: 0.35em;\">\n",
       "    Kiew\n",
       "    <span style=\"font-size: 0.8em; font-weight: bold; line-height: 1; border-radius: 0.35em; vertical-align: middle; margin-left: 0.5rem\">LOC</span>\n",
       "</mark>\n",
       " einbeziehen. Der \n",
       "<mark class=\"entity\" style=\"background: #7aecec; padding: 0.45em 0.6em; margin: 0 0.25em; line-height: 1; border-radius: 0.35em;\">\n",
       "    US-Außenminister\n",
       "    <span style=\"font-size: 0.8em; font-weight: bold; line-height: 1; border-radius: 0.35em; vertical-align: middle; margin-left: 0.5rem\">ORG</span>\n",
       "</mark>\n",
       " betonte, Diplomatie sei weiter der wichtigste Weg zur Lösung der Krise. Er habe daher seinem \n",
       "<mark class=\"entity\" style=\"background: #ddd; padding: 0.45em 0.6em; margin: 0 0.25em; line-height: 1; border-radius: 0.35em;\">\n",
       "    russischen\n",
       "    <span style=\"font-size: 0.8em; font-weight: bold; line-height: 1; border-radius: 0.35em; vertical-align: middle; margin-left: 0.5rem\">MISC</span>\n",
       "</mark>\n",
       " Amtskollegen \n",
       "<mark class=\"entity\" style=\"background: #ddd; padding: 0.45em 0.6em; margin: 0 0.25em; line-height: 1; border-radius: 0.35em;\">\n",
       "    Sergej Lawrow\n",
       "    <span style=\"font-size: 0.8em; font-weight: bold; line-height: 1; border-radius: 0.35em; vertical-align: middle; margin-left: 0.5rem\">PER</span>\n",
       "</mark>\n",
       " ein persönliches Treffen in der kommenden Woche vorgeschlagen. </br>            </div></span>"
      ],
      "text/plain": [
       "<IPython.core.display.HTML object>"
      ]
     },
     "metadata": {},
     "output_type": "display_data"
    }
   ],
   "source": [
    "displacy.render(doc, style='ent', jupyter=True)"
   ]
  },
  {
   "cell_type": "code",
   "execution_count": null,
   "id": "cae30c83-82c5-402e-a98e-50eaf0b0b841",
   "metadata": {},
   "outputs": [],
   "source": []
  },
  {
   "cell_type": "code",
   "execution_count": null,
   "id": "89015ede-53ac-49b3-abe2-7afe4eaa3c2f",
   "metadata": {},
   "outputs": [],
   "source": []
  },
  {
   "cell_type": "code",
   "execution_count": 97,
   "id": "9666a7f7-13f9-4988-a345-c3fcc50f88fd",
   "metadata": {},
   "outputs": [],
   "source": [
    "# html does not work\n",
    "\n",
    "# from pathlib import Path\n",
    "# html = displacy.render(doc, style='ent', page=True)\n",
    "# output_path = Path('../img/ents_v2.html')\n",
    "# output_path.open('w', encoding='utf8').write(html)"
   ]
  },
  {
   "cell_type": "code",
   "execution_count": null,
   "id": "a26413f9-a4b1-4f43-8b66-99e55ccb4fbf",
   "metadata": {},
   "outputs": [],
   "source": []
  }
 ],
 "metadata": {
  "kernelspec": {
   "display_name": "Python 3 (ipykernel)",
   "language": "python",
   "name": "python3"
  },
  "language_info": {
   "codemirror_mode": {
    "name": "ipython",
    "version": 3
   },
   "file_extension": ".py",
   "mimetype": "text/x-python",
   "name": "python",
   "nbconvert_exporter": "python",
   "pygments_lexer": "ipython3",
   "version": "3.8.12"
  }
 },
 "nbformat": 4,
 "nbformat_minor": 5
}
