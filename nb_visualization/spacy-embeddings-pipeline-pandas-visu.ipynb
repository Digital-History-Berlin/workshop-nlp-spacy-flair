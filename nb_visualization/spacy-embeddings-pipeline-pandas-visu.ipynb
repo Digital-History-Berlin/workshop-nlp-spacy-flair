{
 "cells": [
  {
   "cell_type": "markdown",
   "id": "1fd1fe74-0af9-4a14-ab25-32cc54bcfe7e",
   "metadata": {},
   "source": [
    "# Visualisierung eines Textkorpus mit Flair Embeddings, Pandas und Plotly"
   ]
  },
  {
   "cell_type": "markdown",
   "id": "29c9a709-2ed2-4da6-83f1-b04560fea180",
   "metadata": {},
   "source": [
    "## Import"
   ]
  },
  {
   "cell_type": "code",
   "execution_count": null,
   "id": "82777ec0-9337-4c3c-9c3a-d21da6847b4d",
   "metadata": {},
   "outputs": [],
   "source": [
    "import spacy\n",
    "import string\n",
    "import pickle\n",
    "\n",
    "from umap import UMAP\n",
    "\n",
    "import plotly.express as px\n",
    "import pandas as pd\n",
    "\n"
   ]
  },
  {
   "cell_type": "markdown",
   "id": "fb4ae237-903d-40cd-99d9-28ea4d9577de",
   "metadata": {},
   "source": [
    "## Daten einlesen"
   ]
  },
  {
   "cell_type": "code",
   "execution_count": null,
   "id": "bc3c3e31-66af-4db9-97a1-924c47c6d669",
   "metadata": {},
   "outputs": [],
   "source": [
    "df = pd.read_pickle('../data/reden-bundesregierung.p')"
   ]
  },
  {
   "cell_type": "code",
   "execution_count": null,
   "id": "6543610c-2741-4ddc-ba6b-8272142ee76c",
   "metadata": {},
   "outputs": [],
   "source": [
    "df.info()"
   ]
  },
  {
   "cell_type": "code",
   "execution_count": null,
   "id": "1e60c565-0342-46d5-92a6-6ac14eb242a9",
   "metadata": {},
   "outputs": [],
   "source": [
    "type(df.loc[0, 'doc_object'])"
   ]
  },
  {
   "cell_type": "markdown",
   "id": "8d29153d-9043-4e5d-91dc-7bd1f20f0c03",
   "metadata": {},
   "source": [
    "## Doc-Objekte in eine Liste"
   ]
  },
  {
   "cell_type": "code",
   "execution_count": null,
   "id": "44f4cf93-44cc-4cab-b1e9-3768db6f75be",
   "metadata": {},
   "outputs": [],
   "source": [
    "docs = df.loc[:, 'doc_object'].to_list()"
   ]
  },
  {
   "cell_type": "code",
   "execution_count": null,
   "id": "07473939-004b-4b31-8bed-7fcab6a2d0f6",
   "metadata": {},
   "outputs": [],
   "source": [
    "type(docs[0])"
   ]
  },
  {
   "cell_type": "code",
   "execution_count": null,
   "id": "1dd1d1b4-7d84-4fca-8a1d-2dcb64f6c7d8",
   "metadata": {},
   "outputs": [],
   "source": [
    "len(docs)"
   ]
  },
  {
   "cell_type": "markdown",
   "id": "56969c9c-5fcd-4e40-868c-9638adde8d90",
   "metadata": {},
   "source": [
    "## Erstellen der gefilterten Matrix"
   ]
  },
  {
   "cell_type": "code",
   "execution_count": null,
   "id": "04bb417d-1661-4e41-ad76-89988556ca8b",
   "metadata": {},
   "outputs": [],
   "source": [
    "with open('../data/stopwords.txt', 'r', encoding='utf-8') as f:\n",
    "        stopwords = f.read().splitlines()"
   ]
  },
  {
   "cell_type": "code",
   "execution_count": null,
   "id": "4a6630c1-d113-4d84-ac1b-50c353af8da5",
   "metadata": {},
   "outputs": [],
   "source": [
    "matrix = list()\n",
    "words = list()"
   ]
  },
  {
   "cell_type": "code",
   "execution_count": null,
   "id": "f8698f8c-ea20-4ed1-8f57-e3470b0d28bf",
   "metadata": {},
   "outputs": [],
   "source": [
    "%%time\n",
    "\n",
    "for doc in docs:\n",
    "    \n",
    "    for token in doc:\n",
    "        if token.text is not token.is_punct \\\n",
    "        and token.text.lower() not in stopwords \\\n",
    "        and token.text.lower() not in words:\n",
    "            embedding = token.tensor\n",
    "            matrix.append(embedding)\n",
    "            word = token.text.lower()\n",
    "            words.append(word)\n",
    "            \n",
    "# statt token.text.lower() könnte für die Word-Liste auch token.lemma_.lower() genommen werden\n",
    "# ferner NER der Worte mitnehmen, ggf. Tuples nutzen, die später wieder getrennt werden\n",
    "# ferner POS der Worte mitnehmen, ggf. Tuples nutzen, die später wieder getrennt werden"
   ]
  },
  {
   "cell_type": "code",
   "execution_count": null,
   "id": "91957e60-610f-48bb-88d8-b3e573ac57e3",
   "metadata": {},
   "outputs": [],
   "source": [
    "len(matrix)"
   ]
  },
  {
   "cell_type": "code",
   "execution_count": null,
   "id": "135dd70c-f31e-49cd-b37a-dfb07848e732",
   "metadata": {},
   "outputs": [],
   "source": [
    "matrix[0]"
   ]
  },
  {
   "cell_type": "code",
   "execution_count": null,
   "id": "34c229bb-602b-4eda-a2cb-8ede8efeb70e",
   "metadata": {},
   "outputs": [],
   "source": [
    "len(words)"
   ]
  },
  {
   "cell_type": "markdown",
   "id": "3854f786-2958-460e-9192-96be5b3463c6",
   "metadata": {
    "tags": []
   },
   "source": [
    "## 3D-Scatterplot"
   ]
  },
  {
   "cell_type": "code",
   "execution_count": null,
   "id": "db3d84a0-157c-4983-9853-bf0fe1b8c8de",
   "metadata": {},
   "outputs": [],
   "source": [
    "reducer_3d = UMAP(n_components=3, metric='cosine', n_neighbors=15, min_dist=0.1)"
   ]
  },
  {
   "cell_type": "code",
   "execution_count": null,
   "id": "2e4c7c63-834a-4ca5-9d30-a8d999006153",
   "metadata": {},
   "outputs": [],
   "source": [
    "%%time\n",
    "reduced_matrix_3d = reducer_3d.fit_transform(matrix)"
   ]
  },
  {
   "cell_type": "code",
   "execution_count": null,
   "id": "6a2f23d7-9116-4f1f-b068-85a5fec7d875",
   "metadata": {},
   "outputs": [],
   "source": [
    "reduced_matrix_3d.shape"
   ]
  },
  {
   "cell_type": "code",
   "execution_count": null,
   "id": "b3c883df-3327-43bf-8fa7-fef6cd61e4b5",
   "metadata": {
    "tags": []
   },
   "outputs": [],
   "source": [
    "df_3d = pd.DataFrame.from_records(reduced_matrix_3d, columns=['x', 'y', 'z'])"
   ]
  },
  {
   "cell_type": "code",
   "execution_count": null,
   "id": "c0b59e85-0496-4289-8b15-ebd23c583484",
   "metadata": {
    "tags": []
   },
   "outputs": [],
   "source": [
    "df_3d.loc[:, 'word'] = words"
   ]
  },
  {
   "cell_type": "code",
   "execution_count": null,
   "id": "f8438360-9257-4512-85f6-0a5b2d1067cc",
   "metadata": {},
   "outputs": [],
   "source": [
    "df_3d.head()"
   ]
  },
  {
   "cell_type": "code",
   "execution_count": null,
   "id": "cf057d1c-c8a7-42ea-a109-bfa45b3ac3f3",
   "metadata": {},
   "outputs": [],
   "source": [
    "# save to file\n",
    "df_3d.to_csv('../data/spacy-alle-worte-in-reden-umap-reduziert-3d-min-dist-01.csv', index=False)"
   ]
  },
  {
   "cell_type": "code",
   "execution_count": null,
   "id": "ccea2b26-ba52-4ca8-9860-8c981386b4a1",
   "metadata": {},
   "outputs": [],
   "source": [
    "params = {'hover_data': {c: False for c in df_3d.columns},\n",
    "          'hover_name': 'word'}"
   ]
  },
  {
   "cell_type": "code",
   "execution_count": null,
   "id": "fafa22a6-6792-4950-ae04-a0d736fcca47",
   "metadata": {},
   "outputs": [],
   "source": [
    "fig = px.scatter_3d(df_3d, x='x', y='y', z='z', opacity=0.3, size_max=3, width=1000, height=1000, **params)\n",
    "fig.show()\n",
    "fig.write_html('../img/spacy-alle-worte-in-reden-umap-reduziert-3d-min-dist-01.html')"
   ]
  },
  {
   "cell_type": "markdown",
   "id": "7f64a865-ca40-44ac-8a42-1a0ed245eea9",
   "metadata": {},
   "source": [
    "## Erstellen der gefilterten Matrix plus NER und POS"
   ]
  },
  {
   "cell_type": "code",
   "execution_count": null,
   "id": "0954a0a4-2d93-43f5-b2ba-c1b9e08558d7",
   "metadata": {},
   "outputs": [],
   "source": [
    "with open('../data/stopwords.txt', 'r', encoding='utf-8') as f:\n",
    "        stopwords = f.read().splitlines()"
   ]
  },
  {
   "cell_type": "code",
   "execution_count": null,
   "id": "8e61742f-acf2-4865-af0c-2981574a1450",
   "metadata": {},
   "outputs": [],
   "source": [
    "matrix_2 = list()\n",
    "lemmas = list()\n",
    "pos = list()\n",
    "ner = list()"
   ]
  },
  {
   "cell_type": "code",
   "execution_count": null,
   "id": "55d4be31-8566-42d2-8342-fb34c84bab9e",
   "metadata": {},
   "outputs": [],
   "source": [
    "%%time\n",
    "\n",
    "for doc in docs:\n",
    "    \n",
    "    for token in doc:\n",
    "        if token.text is not token.is_punct \\\n",
    "        and token.text.lower() not in stopwords \\\n",
    "        and token.lemma_.lower() not in lemmas:\n",
    "            embedding = token.tensor\n",
    "            matrix_2.append(embedding)\n",
    "            lemma = token.lemma_.lower()\n",
    "            lemmas.append(lemma)\n",
    "            \n",
    "            if token.ent_type_ in ['PER', 'ORG', 'LOC', 'MISC']:\n",
    "                ner.append(token.ent_type_)\n",
    "            else:\n",
    "                ner.append('NaN')\n",
    "            \n",
    "            if token.pos_ in ['NOUN', 'VERB', 'ADJ']:\n",
    "                pos.append(token.pos_)\n",
    "            else:\n",
    "                pos.append('NaN')\n"
   ]
  },
  {
   "cell_type": "code",
   "execution_count": null,
   "id": "7a644a81-b01d-4d77-a836-2342a7d8e810",
   "metadata": {},
   "outputs": [],
   "source": [
    "len(matrix_2),len(ner), len(lemmas), len(pos)"
   ]
  },
  {
   "cell_type": "code",
   "execution_count": null,
   "id": "6c1be73a-a758-4797-90f6-930c432ac5e7",
   "metadata": {},
   "outputs": [],
   "source": [
    "ner[0], lemmas[0], pos[0]"
   ]
  },
  {
   "cell_type": "code",
   "execution_count": null,
   "id": "3adbcad6-3216-4bdd-a0f9-4845545e64c1",
   "metadata": {},
   "outputs": [],
   "source": [
    "matrix_2[0]"
   ]
  },
  {
   "cell_type": "markdown",
   "id": "c952d66a-ddfb-4d46-b236-e27b2136589f",
   "metadata": {
    "tags": []
   },
   "source": [
    "## 3D-Scatterplot mit NER und POS"
   ]
  },
  {
   "cell_type": "code",
   "execution_count": null,
   "id": "18511f2d-e346-4a76-81a6-b0b2305bbae1",
   "metadata": {},
   "outputs": [],
   "source": [
    "reducer_3d = UMAP(n_components=3, metric='cosine', n_neighbors=15, min_dist=0.1)"
   ]
  },
  {
   "cell_type": "code",
   "execution_count": null,
   "id": "5947adad-9046-456c-83fc-99dc8c38dbcb",
   "metadata": {},
   "outputs": [],
   "source": [
    "%%time\n",
    "reduced_matrix_2_3d = reducer_3d.fit_transform(matrix_2)"
   ]
  },
  {
   "cell_type": "code",
   "execution_count": null,
   "id": "3c5cf543-13d7-4512-8398-59d774a7b99f",
   "metadata": {},
   "outputs": [],
   "source": [
    "reduced_matrix_2_3d.shape"
   ]
  },
  {
   "cell_type": "code",
   "execution_count": null,
   "id": "9765a54d-3bf6-4623-b266-8590cf29bada",
   "metadata": {
    "tags": []
   },
   "outputs": [],
   "source": [
    "df_ner_pos = pd.DataFrame.from_records(reduced_matrix_2_3d, columns=['x', 'y', 'z'])"
   ]
  },
  {
   "cell_type": "code",
   "execution_count": null,
   "id": "38df3011-8a96-4b39-b048-2a4867a21225",
   "metadata": {
    "tags": []
   },
   "outputs": [],
   "source": [
    "df_ner_pos.loc[:, 'lemma'] = lemmas"
   ]
  },
  {
   "cell_type": "code",
   "execution_count": null,
   "id": "94d4caaa-7eb1-4348-8906-200bfed7f754",
   "metadata": {},
   "outputs": [],
   "source": [
    "df_ner_pos.loc[:, 'ner'] = ner"
   ]
  },
  {
   "cell_type": "code",
   "execution_count": null,
   "id": "7f84f227-d6ff-4173-9ada-e3c0baa671c2",
   "metadata": {},
   "outputs": [],
   "source": [
    "df_ner_pos.loc[:, 'pos'] = pos"
   ]
  },
  {
   "cell_type": "code",
   "execution_count": null,
   "id": "a1d612ba-d3f0-4ae6-8b9c-80a4e59d61e3",
   "metadata": {},
   "outputs": [],
   "source": [
    "df_ner_pos.head()"
   ]
  },
  {
   "cell_type": "code",
   "execution_count": null,
   "id": "28e85f35-d04a-4547-9241-b992e646571d",
   "metadata": {},
   "outputs": [],
   "source": [
    "# save to file\n",
    "df_ner_pos.to_csv('../data/spacy-alle-worte-in-reden-umap-reduziert-3d-min-dist-01-ner-pos.csv', index=False)"
   ]
  },
  {
   "cell_type": "markdown",
   "id": "63a88d95-0c76-4986-98bc-8f884c316ff7",
   "metadata": {},
   "source": [
    "## Plot Lemmas mit NER und POS"
   ]
  },
  {
   "cell_type": "code",
   "execution_count": null,
   "id": "925bc524-a02c-48c8-aa76-90dca74b44f3",
   "metadata": {},
   "outputs": [],
   "source": [
    "params = {'hover_data': {c: False for c in df_ner_pos.columns},\n",
    "          'hover_name': 'lemma'}"
   ]
  },
  {
   "cell_type": "code",
   "execution_count": null,
   "id": "2cee46aa-8a85-4caa-9c45-f1f9c1cfafab",
   "metadata": {},
   "outputs": [],
   "source": [
    "fig = px.scatter_3d(df_ner_pos, x='x', y='y', z='z',\n",
    "                    color='pos',\n",
    "                 #   symbol='pos',\n",
    "                    opacity=0.3, \n",
    "                    size_max=3, \n",
    "                    width=1000, \n",
    "                    height=1000, **params)\n",
    "fig.show()\n",
    "fig.write_html('../img/spacy-alle-worte-in-reden-umap-reduziert-3d-min-dist-01-pos.html')"
   ]
  },
  {
   "cell_type": "code",
   "execution_count": null,
   "id": "a6415bed-d81c-48f2-8333-c0595d6450b4",
   "metadata": {},
   "outputs": [],
   "source": []
  },
  {
   "cell_type": "code",
   "execution_count": null,
   "id": "ede6acfc-cea7-4141-a7c0-1b588a47f5f2",
   "metadata": {},
   "outputs": [],
   "source": [
    "# plotly\n",
    "# Color = 'ner'\n",
    "# symbols = 'pos'"
   ]
  }
 ],
 "metadata": {
  "kernelspec": {
   "display_name": "Python 3 (ipykernel)",
   "language": "python",
   "name": "python3"
  },
  "language_info": {
   "codemirror_mode": {
    "name": "ipython",
    "version": 3
   },
   "file_extension": ".py",
   "mimetype": "text/x-python",
   "name": "python",
   "nbconvert_exporter": "python",
   "pygments_lexer": "ipython3",
   "version": "3.8.12"
  }
 },
 "nbformat": 4,
 "nbformat_minor": 5
}
