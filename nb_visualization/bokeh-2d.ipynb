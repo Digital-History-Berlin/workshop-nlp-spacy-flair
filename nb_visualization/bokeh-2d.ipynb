{
 "cells": [
  {
   "cell_type": "markdown",
   "id": "3f7c36ad-138c-43e3-8edf-4c840a63bb8c",
   "metadata": {},
   "source": [
    "# Bokeh 2D Scatterplot der Reden der Top 10 Redner"
   ]
  },
  {
   "cell_type": "markdown",
   "id": "4143a0ea-8a01-43a5-81a3-4449f4dd266f",
   "metadata": {},
   "source": [
    "## Import"
   ]
  },
  {
   "cell_type": "code",
   "execution_count": null,
   "id": "4f496a25-41ab-45e7-9bd0-a3256557b1ba",
   "metadata": {},
   "outputs": [],
   "source": [
    "import pandas as pd\n",
    "\n",
    "from bokeh.plotting import figure, output_file, output_notebook, show\n",
    "from bokeh.models import ColumnDataSource, CDSView, Legend \n",
    "from bokeh.models import CustomJS, Slider, OpenURL, TapTool, CustomJSFilter\n",
    "from bokeh.models import DatetimeTickFormatter\n",
    "from bokeh.models.tools import HoverTool, BoxZoomTool, ResetTool, PanTool\n",
    "from bokeh.transform import factor_cmap, factor_mark\n",
    "from bokeh.layouts import column, row \n",
    "from bokeh.io import show \n",
    "\n",
    "from umap import UMAP\n",
    "\n",
    "import plotly.express as px\n",
    "\n",
    "output_notebook()"
   ]
  },
  {
   "cell_type": "markdown",
   "id": "4c1f18e1-02c6-4489-9a2a-a610fd18f6fc",
   "metadata": {},
   "source": [
    "## Daten einlesen"
   ]
  },
  {
   "cell_type": "code",
   "execution_count": null,
   "id": "9a9a51b7-5c82-4c57-931f-1aaa61cc0af0",
   "metadata": {},
   "outputs": [],
   "source": [
    "df = pd.read_json('../data/reden-bundestag-doc-embeddings.json')"
   ]
  },
  {
   "cell_type": "code",
   "execution_count": null,
   "id": "1964f09c-885e-42a5-9866-dbc0bf520aeb",
   "metadata": {},
   "outputs": [],
   "source": [
    "# change dtype to datetime\n",
    "df.loc[:, 'datum'] = pd.to_datetime(df.loc[:, 'datum'])"
   ]
  },
  {
   "cell_type": "code",
   "execution_count": null,
   "id": "c75b4ba4-2aee-4bb4-a8f1-ea7856793147",
   "metadata": {},
   "outputs": [],
   "source": [
    "type(df.loc[0, 'doc_embedding'])"
   ]
  },
  {
   "cell_type": "markdown",
   "id": "6953f333-4522-4980-b063-a6aa86afc241",
   "metadata": {},
   "source": [
    "## Erstellen der Personenliste"
   ]
  },
  {
   "cell_type": "code",
   "execution_count": null,
   "id": "74acf627-d523-46ee-bf08-a663542b8ef8",
   "metadata": {},
   "outputs": [],
   "source": [
    "person_counts = pd.crosstab(index=df.loc[:, 'person'], columns='count')"
   ]
  },
  {
   "cell_type": "code",
   "execution_count": null,
   "id": "31fc2390-2946-4a1e-9996-5a28b2d7539a",
   "metadata": {},
   "outputs": [],
   "source": [
    "person_counts.sort_values(by='count', ascending=False).head(10)"
   ]
  },
  {
   "cell_type": "code",
   "execution_count": null,
   "id": "45ffa89d-7e5f-4eeb-a001-5e8f6d737249",
   "metadata": {},
   "outputs": [],
   "source": [
    "person_counts.sort_values(by='count', ascending=False).head(10).index"
   ]
  },
  {
   "cell_type": "code",
   "execution_count": null,
   "id": "115db6fa-5ab7-4322-bb93-d77f70d035e3",
   "metadata": {},
   "outputs": [],
   "source": [
    "personen_liste = [('Angela Merkel', 'Kanzler:in', 'CDU'),\n",
    "                  ('Gerhard Schröder', 'Kanzler:in', 'SPD'), \n",
    "                  ('Helmut Kohl', 'Kanzler:in', 'CDU'),\n",
    "                  ('Bernd Neumann', 'Kulturstaatsminister:in', 'CDU'),\n",
    "                  ('Monika Grütters', 'Kulturstaatsminister:in', 'CDU'),\n",
    "                  ('Christina Weiss', 'Kulturstaatsminister:in', 'parteilos'),\n",
    "                  ('Michael Naumann', 'Kulturstaatsminister:in', 'SPD'),\n",
    "                  ('Julian Nida-Rümelin', 'Kulturstaatsminister:in', 'SPD'), \n",
    "                  ('Thomas de Maizière', 'Inneres', 'CDU'),\n",
    "                  ('Hans Martin Bury', 'Bundeskanzleramt', 'SPD')]"
   ]
  },
  {
   "cell_type": "code",
   "execution_count": null,
   "id": "a749d6d0-6eeb-4b88-be2e-db06d4805d59",
   "metadata": {},
   "outputs": [],
   "source": [
    "df_top10 = df[(df.loc[:, 'person'] == 'Angela Merkel') | \\\n",
    "              (df.loc[:, 'person'] == 'Gerhard Schröder') |\\\n",
    "              (df.loc[:, 'person'] == 'Helmut Kohl') |\\\n",
    "              (df.loc[:, 'person'] == 'Bernd Neumann') |\\\n",
    "              (df.loc[:, 'person'] == 'Monika Grütters') |\\\n",
    "              (df.loc[:, 'person'] == 'Christina Weiss') |\\\n",
    "              (df.loc[:, 'person'] == 'Michael Naumann') |\\\n",
    "              (df.loc[:, 'person'] == 'Julian Nida-Rümelin') |\\\n",
    "              (df.loc[:, 'person'] == 'Thomas de Maizière') |\\\n",
    "              (df.loc[:, 'person'] == 'Hans Martin Bury') \n",
    "             ]"
   ]
  },
  {
   "cell_type": "code",
   "execution_count": null,
   "id": "6907202b-679b-4cfc-aa0e-88cada0e8485",
   "metadata": {},
   "outputs": [],
   "source": [
    "df_top10.shape"
   ]
  },
  {
   "cell_type": "markdown",
   "id": "be3e369f-55e7-438c-8e0c-0dc74f508f10",
   "metadata": {},
   "source": [
    "## Dimensionsreduktion"
   ]
  },
  {
   "cell_type": "code",
   "execution_count": null,
   "id": "60029a76-2f8e-42eb-b0ec-9883c95d11d2",
   "metadata": {},
   "outputs": [],
   "source": [
    "reducer = UMAP(n_components=2, metric='cosine', n_neighbors=15, min_dist=0.1)"
   ]
  },
  {
   "cell_type": "code",
   "execution_count": null,
   "id": "d9faa4c3-efb0-446f-b249-b96d8c909502",
   "metadata": {},
   "outputs": [],
   "source": [
    "reduced_matrix = reducer.fit_transform(df_top10.loc[:, 'doc_embedding'].to_list())"
   ]
  },
  {
   "cell_type": "code",
   "execution_count": null,
   "id": "7b45dafe-2d9c-4203-a105-e23d825f0b91",
   "metadata": {},
   "outputs": [],
   "source": [
    "reduced_matrix.shape"
   ]
  },
  {
   "cell_type": "code",
   "execution_count": null,
   "id": "f39c5869-facf-4b37-a6d9-cf22c96962e0",
   "metadata": {},
   "outputs": [],
   "source": [
    "reduced_matrix"
   ]
  },
  {
   "cell_type": "code",
   "execution_count": null,
   "id": "a97d077a-eb1e-4110-a8a6-c0a71ea90afb",
   "metadata": {},
   "outputs": [],
   "source": [
    "df_2d = pd.DataFrame.from_records(reduced_matrix, columns=['x', 'y'])"
   ]
  },
  {
   "cell_type": "code",
   "execution_count": null,
   "id": "9023a95f-b0d6-4203-9889-66adfe46cc4b",
   "metadata": {},
   "outputs": [],
   "source": [
    "df_2d.head()"
   ]
  },
  {
   "cell_type": "markdown",
   "id": "94fc04e8-ace8-47d1-a22f-7c614109abf6",
   "metadata": {},
   "source": [
    "## Zusammenführen aller Spalten"
   ]
  },
  {
   "cell_type": "code",
   "execution_count": null,
   "id": "47d605d3-e159-4edf-a091-f2d7242becc4",
   "metadata": {},
   "outputs": [],
   "source": [
    "df_all = df_top10.join(df_2d)"
   ]
  },
  {
   "cell_type": "code",
   "execution_count": null,
   "id": "518c26d0-9181-4f91-a81e-0e13725f9367",
   "metadata": {},
   "outputs": [],
   "source": [
    "print(df_all.shape)\n",
    "df_all.head()"
   ]
  },
  {
   "cell_type": "markdown",
   "id": "b2baa446-c6ea-4368-b47a-a5506ec138cf",
   "metadata": {},
   "source": [
    "### Ergänzen der Features Ressort und Partei"
   ]
  },
  {
   "cell_type": "code",
   "execution_count": null,
   "id": "a6163c15-b3de-4787-8be9-61aa2e8e1255",
   "metadata": {},
   "outputs": [],
   "source": [
    "for person in personen_liste:\n",
    "    mask = df_all.loc[:, 'person'] == person[0]\n",
    "    df_all.loc[mask, 'ressort'] = person[1]\n",
    "    df_all.loc[mask, 'partei'] = person[2]"
   ]
  },
  {
   "cell_type": "code",
   "execution_count": null,
   "id": "d57f7a85-15b9-4854-8be1-e6e52e24aebd",
   "metadata": {},
   "outputs": [],
   "source": [
    "print(df_all.shape)\n",
    "print(df_all.columns)\n",
    "df_all.head()"
   ]
  },
  {
   "cell_type": "code",
   "execution_count": null,
   "id": "80a45c11-76f8-42a9-bb99-a9e60032b4f0",
   "metadata": {},
   "outputs": [],
   "source": [
    "df_all.to_json('../data/reden-2d-aufbereitet-bokeh.json')"
   ]
  },
  {
   "cell_type": "markdown",
   "id": "ee710e7d-ce4b-4a30-bdf1-b504852aa851",
   "metadata": {},
   "source": [
    "## Visualisieren mit bokeh"
   ]
  },
  {
   "cell_type": "code",
   "execution_count": null,
   "id": "609277a2-efc1-48c5-a222-7a1127d9f8d3",
   "metadata": {},
   "outputs": [],
   "source": [
    "source = ColumnDataSource(df_all)"
   ]
  },
  {
   "cell_type": "code",
   "execution_count": null,
   "id": "dee1949b-67c8-47ef-a844-b00ddd5776f6",
   "metadata": {},
   "outputs": [],
   "source": [
    "PARTEI = ['SPD', 'CDU', 'parteilos']\n",
    "RESSORT = ['Kanzler:in', 'Kulturstaatsminister:in']\n",
    "MARKERS = ['hex', 'circle_x', 'triangle']"
   ]
  },
  {
   "cell_type": "code",
   "execution_count": null,
   "id": "b9d8b685-9383-4376-a760-02ad748c36f6",
   "metadata": {},
   "outputs": [],
   "source": [
    "p = figure(height=875, \n",
    "           width=875,\n",
    "           #sizing_mode=\"stretch_both\", # vergrößert die figure auf die Breite des Browsers\n",
    "           toolbar_location=\"above\", \n",
    "           tools= ['pan', 'wheel_zoom', 'box_zoom', 'save', 'reset', 'tap'])"
   ]
  },
  {
   "cell_type": "code",
   "execution_count": null,
   "id": "db43d3ed-507a-4018-bf9a-44a6550f92f4",
   "metadata": {},
   "outputs": [],
   "source": [
    "p.scatter(x='x', y='y', size=5, fill_alpha=0.8,\n",
    "         color=factor_cmap('partei', ['red', 'black', 'blue'], PARTEI),\n",
    "         marker=factor_mark('ressort', MARKERS, RESSORT),\n",
    "         source=source)"
   ]
  },
  {
   "cell_type": "code",
   "execution_count": null,
   "id": "cbf80e91-2068-4e80-b8f6-ef19fc895944",
   "metadata": {},
   "outputs": [],
   "source": [
    "# https://stackoverflow.com/questions/49601196/use-of-a-categorical-variable-to-define-colors-and-markers-in-bokeh-scatter-plot"
   ]
  },
  {
   "cell_type": "code",
   "execution_count": null,
   "id": "4162df5e-8e3a-4edd-bc1e-d4d434bb4daf",
   "metadata": {},
   "outputs": [],
   "source": [
    "# Verlinkung funtionier: Links funktionieren nicht!\n",
    "# >>> urls chekcen\n",
    "taptool = p.select(type=TapTool)\n",
    "taptool.callback = OpenURL(url='@url')"
   ]
  },
  {
   "cell_type": "code",
   "execution_count": null,
   "id": "159fe760-133a-4d6b-a421-26d01ce58998",
   "metadata": {},
   "outputs": [],
   "source": [
    "# add hover \n",
    "\n",
    "hover = HoverTool(tooltips=[ \n",
    "                            ('Name', '@person'),\n",
    "                            ('Datum', '@datum{%F %H:%M}'),\n",
    "                            ('Ressort', '@ressort'),\n",
    "                            ('Partei', '@partei'),\n",
    "                            ('Ort', '@ort'),\n",
    "                            ('Titel', '@titel')\n",
    "                            ], \n",
    "                  formatters={'@datum': 'datetime'})\n",
    "\n",
    "p.add_tools(hover)"
   ]
  },
  {
   "cell_type": "code",
   "execution_count": null,
   "id": "c940a5b2-c4bd-4e65-93d9-92f307424844",
   "metadata": {},
   "outputs": [],
   "source": [
    "# output to standalone HTML file\n",
    "output_file('../img/reden-2d-aufbereitet-bokeh.html')"
   ]
  },
  {
   "cell_type": "code",
   "execution_count": null,
   "id": "a61c01f7-edaf-478f-af7a-ef71724e8e26",
   "metadata": {},
   "outputs": [],
   "source": [
    "show(p)"
   ]
  },
  {
   "cell_type": "code",
   "execution_count": null,
   "id": "d6ae3108-bd32-40fc-9915-53d76aae4676",
   "metadata": {},
   "outputs": [],
   "source": []
  }
 ],
 "metadata": {
  "kernelspec": {
   "display_name": "Python 3 (ipykernel)",
   "language": "python",
   "name": "python3"
  },
  "language_info": {
   "codemirror_mode": {
    "name": "ipython",
    "version": 3
   },
   "file_extension": ".py",
   "mimetype": "text/x-python",
   "name": "python",
   "nbconvert_exporter": "python",
   "pygments_lexer": "ipython3",
   "version": "3.8.12"
  }
 },
 "nbformat": 4,
 "nbformat_minor": 5
}
