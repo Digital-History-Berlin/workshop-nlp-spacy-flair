{
 "cells": [
  {
   "cell_type": "markdown",
   "id": "9e403042-d055-4e5a-a01d-08dd2982042f",
   "metadata": {},
   "source": [
    "# Extraktion von Ukraine-Russland-Sätzen "
   ]
  },
  {
   "cell_type": "markdown",
   "id": "55b981a7-6b09-4988-bac6-ce09ae9d236a",
   "metadata": {},
   "source": [
    "## Import"
   ]
  },
  {
   "cell_type": "code",
   "execution_count": 44,
   "id": "264c53ce-9e7e-447a-98fb-060a903d35ef",
   "metadata": {},
   "outputs": [],
   "source": [
    "import spacy\n",
    "import pandas as pd\n",
    "import numpy as np\n",
    "import re\n",
    "\n",
    "import matplotlib.pyplot as plt\n",
    "\n",
    "%matplotlib inline"
   ]
  },
  {
   "cell_type": "markdown",
   "id": "84c0ba31-a745-4fae-8e79-6a2fedac5e8c",
   "metadata": {},
   "source": [
    "## Daten einlesen"
   ]
  },
  {
   "cell_type": "code",
   "execution_count": 20,
   "id": "a36caae4-5217-46e9-ab5a-967417432e77",
   "metadata": {},
   "outputs": [],
   "source": [
    "df = pd.read_pickle('../data/reden-bundesregierung.p')"
   ]
  },
  {
   "cell_type": "code",
   "execution_count": 21,
   "id": "4db90225-02a6-48cd-9916-1b77f58e8f63",
   "metadata": {},
   "outputs": [
    {
     "name": "stdout",
     "output_type": "stream",
     "text": [
      "<class 'pandas.core.frame.DataFrame'>\n",
      "RangeIndex: 2983 entries, 0 to 2982\n",
      "Data columns (total 9 columns):\n",
      " #   Column      Non-Null Count  Dtype         \n",
      "---  ------      --------------  -----         \n",
      " 0   person      2983 non-null   object        \n",
      " 1   titel       2982 non-null   object        \n",
      " 2   datum       2983 non-null   datetime64[ns]\n",
      " 3   untertitel  2088 non-null   object        \n",
      " 4   url         2983 non-null   object        \n",
      " 5   anrede      1447 non-null   object        \n",
      " 6   rohtext     2983 non-null   object        \n",
      " 7   ort         690 non-null    object        \n",
      " 8   doc_object  2983 non-null   object        \n",
      "dtypes: datetime64[ns](1), object(8)\n",
      "memory usage: 209.9+ KB\n"
     ]
    }
   ],
   "source": [
    "df.info()"
   ]
  },
  {
   "cell_type": "markdown",
   "id": "40d77cca-ae35-4e2b-9d8e-7a75b9221faf",
   "metadata": {},
   "source": [
    "## Funktion zum Auffinden der Sätze, die Ukraine und Russland zusammen erwähnen"
   ]
  },
  {
   "cell_type": "code",
   "execution_count": 22,
   "id": "0b233672-4f2f-480a-866f-3cf646507cd7",
   "metadata": {},
   "outputs": [],
   "source": [
    "def find_sentence(doc):\n",
    "    '''\n",
    "    '''\n",
    "    \n",
    "    temp_list = []\n",
    "    \n",
    "    for sent in doc.sents:\n",
    "        if 'Ukraine' in sent.text and any(i in sent.text for i in ['Russland', 'Rußland']): \n",
    "            temp_list.append(sent)    \n",
    "    # if len(temp_list) == 0:\n",
    "    #     return np.nan\n",
    "    # else:\n",
    "    return temp_list        "
   ]
  },
  {
   "cell_type": "code",
   "execution_count": 23,
   "id": "d69fc3c4-212c-4b18-b2b5-1a0f80121c2d",
   "metadata": {},
   "outputs": [
    {
     "name": "stdout",
     "output_type": "stream",
     "text": [
      "Wall time: 3.79 s\n"
     ]
    }
   ],
   "source": [
    "%%time\n",
    "\n",
    "# Suche durchgeführt für Russland und Rußland und Dataframes zusammengeführt\n",
    "# Regexeinsatz leider erfolgslos\n",
    "\n",
    "df.loc[:, 'matched_sents'] = df.loc[:, 'doc_object'].apply(lambda doc: find_sentence(doc)) #, term_1='Ukraine', term_2='Rußland'))"
   ]
  },
  {
   "cell_type": "code",
   "execution_count": 24,
   "id": "181edbd8-0dc9-4999-a143-8f1a3098e6fd",
   "metadata": {},
   "outputs": [],
   "source": [
    "df.loc[:, 'nsents'] = df.loc[:, 'doc_object'].apply(lambda doc: len([sent for sent in doc.sents]))"
   ]
  },
  {
   "cell_type": "code",
   "execution_count": 25,
   "id": "6f3c8eb3-366a-4d68-b5c6-f33ae4b04c81",
   "metadata": {},
   "outputs": [],
   "source": [
    "df.loc[:, 'nrelevant_sents'] = df.loc[:, 'matched_sents'].apply(lambda sents: len(sents))"
   ]
  },
  {
   "cell_type": "code",
   "execution_count": 26,
   "id": "6a7eccdb-bdd5-4eaa-941f-cd3ac9782d12",
   "metadata": {},
   "outputs": [
    {
     "data": {
      "text/plain": [
       "133"
      ]
     },
     "execution_count": 26,
     "metadata": {},
     "output_type": "execute_result"
    }
   ],
   "source": [
    "df.loc[:, 'nrelevant_sents'].sum()"
   ]
  },
  {
   "cell_type": "code",
   "execution_count": 28,
   "id": "cbd97c91-7b64-43b7-967d-852c48f77d26",
   "metadata": {},
   "outputs": [],
   "source": [
    "df.loc[:, 'ratio'] = df.loc[:, 'nrelevant_sents'] / df.loc[:, 'nsents'] * 100"
   ]
  },
  {
   "cell_type": "code",
   "execution_count": 29,
   "id": "f1625db4-19ab-4430-9845-b273c8f6b08f",
   "metadata": {},
   "outputs": [],
   "source": [
    "df.loc[:, 'year'] = df.loc[:, 'datum'].dt.year"
   ]
  },
  {
   "cell_type": "code",
   "execution_count": 43,
   "id": "c8cc83bd-b0f6-4dd4-bc1a-80209ef220be",
   "metadata": {},
   "outputs": [],
   "source": [
    "df = df.drop(['doc_object'], axis=1)"
   ]
  },
  {
   "cell_type": "code",
   "execution_count": 35,
   "id": "d7f3e35b-757f-4b82-a0d3-f4b4cc478805",
   "metadata": {},
   "outputs": [
    {
     "data": {
      "text/html": [
       "<div>\n",
       "<style scoped>\n",
       "    .dataframe tbody tr th:only-of-type {\n",
       "        vertical-align: middle;\n",
       "    }\n",
       "\n",
       "    .dataframe tbody tr th {\n",
       "        vertical-align: top;\n",
       "    }\n",
       "\n",
       "    .dataframe thead th {\n",
       "        text-align: right;\n",
       "    }\n",
       "</style>\n",
       "<table border=\"1\" class=\"dataframe\">\n",
       "  <thead>\n",
       "    <tr style=\"text-align: right;\">\n",
       "      <th></th>\n",
       "      <th>0</th>\n",
       "      <th>1</th>\n",
       "      <th>2</th>\n",
       "      <th>3</th>\n",
       "      <th>4</th>\n",
       "    </tr>\n",
       "  </thead>\n",
       "  <tbody>\n",
       "    <tr>\n",
       "      <th>person</th>\n",
       "      <td>Gerhard Schröder</td>\n",
       "      <td>Julian Nida-Rümelin</td>\n",
       "      <td>Gerhard Schröder</td>\n",
       "      <td>Gerhard Schröder</td>\n",
       "      <td>Gerhard Schröder</td>\n",
       "    </tr>\n",
       "    <tr>\n",
       "      <th>titel</th>\n",
       "      <td>Rede des Bundeskanzlers zur Eröffnung der 52. ...</td>\n",
       "      <td>Redebeitrag von Staatsminister Nida-Rümelin in...</td>\n",
       "      <td>Interview mit Bundeskanzler Schröder in 'Berli...</td>\n",
       "      <td>Rede von Bundeskanzler Gerhard Schröder bei de...</td>\n",
       "      <td>Rede von Bundeskanzler Gerhard Schröder auf de...</td>\n",
       "    </tr>\n",
       "    <tr>\n",
       "      <th>datum</th>\n",
       "      <td>2002-02-06 00:00:00</td>\n",
       "      <td>2002-02-01 00:00:00</td>\n",
       "      <td>2002-04-14 00:00:00</td>\n",
       "      <td>2005-03-08 00:00:00</td>\n",
       "      <td>2000-05-04 00:00:00</td>\n",
       "    </tr>\n",
       "    <tr>\n",
       "      <th>untertitel</th>\n",
       "      <td>Man kann diese Filmfestspiele nicht eröffnen, ...</td>\n",
       "      <td>\"Ich bin der Auffassung, wir müssen nicht nur ...</td>\n",
       "      <td>In dem Interview äußert sich Bundeskanzler Sch...</td>\n",
       "      <td>Der Kampf gegen die Arbeitslosigkeit ist eine ...</td>\n",
       "      <td>NaN</td>\n",
       "    </tr>\n",
       "    <tr>\n",
       "      <th>url</th>\n",
       "      <td>http://archiv.bundesregierung.de/bpaexport/red...</td>\n",
       "      <td>http://archiv.bundesregierung.de/bpaexport/red...</td>\n",
       "      <td>http://archiv.bundesregierung.de/bpaexport/red...</td>\n",
       "      <td>http://archiv.bundesregierung.de/bpaexport/red...</td>\n",
       "      <td>http://archiv.bundesregierung.de/bpaexport/red...</td>\n",
       "    </tr>\n",
       "    <tr>\n",
       "      <th>anrede</th>\n",
       "      <td>Sehr geehrte Frau Nair, liebe Mitglieder der J...</td>\n",
       "      <td>Meine sehr geehrten Damen und Herren!</td>\n",
       "      <td>NaN</td>\n",
       "      <td>Herr Ministerpräsident! Lieber Herr Dr. Bernot...</td>\n",
       "      <td>Sehr geehrter Herr Professor Landfried,  sehr ...</td>\n",
       "    </tr>\n",
       "    <tr>\n",
       "      <th>rohtext</th>\n",
       "      <td>es ist angekündigt worden, man sollte im Beruf...</td>\n",
       "      <td>Frau Präsidentin!  An Sie gerichtet, Herr Börn...</td>\n",
       "      <td>Frage (Peter Hahne): Bevor wir uns über den Au...</td>\n",
       "      <td>Einen Satz von Ihnen, Herr Dr. Bernotat, habe ...</td>\n",
       "      <td>diese Jahresversammlung der Hochschulrektorenk...</td>\n",
       "    </tr>\n",
       "    <tr>\n",
       "      <th>ort</th>\n",
       "      <td>None</td>\n",
       "      <td>None</td>\n",
       "      <td>None</td>\n",
       "      <td>None</td>\n",
       "      <td>None</td>\n",
       "    </tr>\n",
       "    <tr>\n",
       "      <th>matched_sents</th>\n",
       "      <td>[]</td>\n",
       "      <td>[]</td>\n",
       "      <td>[]</td>\n",
       "      <td>[]</td>\n",
       "      <td>[]</td>\n",
       "    </tr>\n",
       "    <tr>\n",
       "      <th>nsents</th>\n",
       "      <td>96</td>\n",
       "      <td>83</td>\n",
       "      <td>77</td>\n",
       "      <td>164</td>\n",
       "      <td>61</td>\n",
       "    </tr>\n",
       "    <tr>\n",
       "      <th>nrelevant_sents</th>\n",
       "      <td>0</td>\n",
       "      <td>0</td>\n",
       "      <td>0</td>\n",
       "      <td>0</td>\n",
       "      <td>0</td>\n",
       "    </tr>\n",
       "    <tr>\n",
       "      <th>ratio</th>\n",
       "      <td>0.0</td>\n",
       "      <td>0.0</td>\n",
       "      <td>0.0</td>\n",
       "      <td>0.0</td>\n",
       "      <td>0.0</td>\n",
       "    </tr>\n",
       "    <tr>\n",
       "      <th>year</th>\n",
       "      <td>2002</td>\n",
       "      <td>2002</td>\n",
       "      <td>2002</td>\n",
       "      <td>2005</td>\n",
       "      <td>2000</td>\n",
       "    </tr>\n",
       "  </tbody>\n",
       "</table>\n",
       "</div>"
      ],
      "text/plain": [
       "                                                                 0  \\\n",
       "person                                            Gerhard Schröder   \n",
       "titel            Rede des Bundeskanzlers zur Eröffnung der 52. ...   \n",
       "datum                                          2002-02-06 00:00:00   \n",
       "untertitel       Man kann diese Filmfestspiele nicht eröffnen, ...   \n",
       "url              http://archiv.bundesregierung.de/bpaexport/red...   \n",
       "anrede           Sehr geehrte Frau Nair, liebe Mitglieder der J...   \n",
       "rohtext          es ist angekündigt worden, man sollte im Beruf...   \n",
       "ort                                                           None   \n",
       "matched_sents                                                   []   \n",
       "nsents                                                          96   \n",
       "nrelevant_sents                                                  0   \n",
       "ratio                                                          0.0   \n",
       "year                                                          2002   \n",
       "\n",
       "                                                                 1  \\\n",
       "person                                         Julian Nida-Rümelin   \n",
       "titel            Redebeitrag von Staatsminister Nida-Rümelin in...   \n",
       "datum                                          2002-02-01 00:00:00   \n",
       "untertitel       \"Ich bin der Auffassung, wir müssen nicht nur ...   \n",
       "url              http://archiv.bundesregierung.de/bpaexport/red...   \n",
       "anrede                       Meine sehr geehrten Damen und Herren!   \n",
       "rohtext          Frau Präsidentin!  An Sie gerichtet, Herr Börn...   \n",
       "ort                                                           None   \n",
       "matched_sents                                                   []   \n",
       "nsents                                                          83   \n",
       "nrelevant_sents                                                  0   \n",
       "ratio                                                          0.0   \n",
       "year                                                          2002   \n",
       "\n",
       "                                                                 2  \\\n",
       "person                                            Gerhard Schröder   \n",
       "titel            Interview mit Bundeskanzler Schröder in 'Berli...   \n",
       "datum                                          2002-04-14 00:00:00   \n",
       "untertitel       In dem Interview äußert sich Bundeskanzler Sch...   \n",
       "url              http://archiv.bundesregierung.de/bpaexport/red...   \n",
       "anrede                                                         NaN   \n",
       "rohtext          Frage (Peter Hahne): Bevor wir uns über den Au...   \n",
       "ort                                                           None   \n",
       "matched_sents                                                   []   \n",
       "nsents                                                          77   \n",
       "nrelevant_sents                                                  0   \n",
       "ratio                                                          0.0   \n",
       "year                                                          2002   \n",
       "\n",
       "                                                                 3  \\\n",
       "person                                            Gerhard Schröder   \n",
       "titel            Rede von Bundeskanzler Gerhard Schröder bei de...   \n",
       "datum                                          2005-03-08 00:00:00   \n",
       "untertitel       Der Kampf gegen die Arbeitslosigkeit ist eine ...   \n",
       "url              http://archiv.bundesregierung.de/bpaexport/red...   \n",
       "anrede           Herr Ministerpräsident! Lieber Herr Dr. Bernot...   \n",
       "rohtext          Einen Satz von Ihnen, Herr Dr. Bernotat, habe ...   \n",
       "ort                                                           None   \n",
       "matched_sents                                                   []   \n",
       "nsents                                                         164   \n",
       "nrelevant_sents                                                  0   \n",
       "ratio                                                          0.0   \n",
       "year                                                          2005   \n",
       "\n",
       "                                                                 4  \n",
       "person                                            Gerhard Schröder  \n",
       "titel            Rede von Bundeskanzler Gerhard Schröder auf de...  \n",
       "datum                                          2000-05-04 00:00:00  \n",
       "untertitel                                                     NaN  \n",
       "url              http://archiv.bundesregierung.de/bpaexport/red...  \n",
       "anrede           Sehr geehrter Herr Professor Landfried,  sehr ...  \n",
       "rohtext          diese Jahresversammlung der Hochschulrektorenk...  \n",
       "ort                                                           None  \n",
       "matched_sents                                                   []  \n",
       "nsents                                                          61  \n",
       "nrelevant_sents                                                  0  \n",
       "ratio                                                          0.0  \n",
       "year                                                          2000  "
      ]
     },
     "execution_count": 35,
     "metadata": {},
     "output_type": "execute_result"
    }
   ],
   "source": [
    "df.head().T"
   ]
  },
  {
   "cell_type": "code",
   "execution_count": 38,
   "id": "3af40d34-7461-4631-8af9-0f745dc5a262",
   "metadata": {},
   "outputs": [],
   "source": [
    "df.to_csv('../data/ukraine-russland-saetze-processed.csv', encoding='UTF8', index=False)"
   ]
  }
 ],
 "metadata": {
  "kernelspec": {
   "display_name": "Python 3 (ipykernel)",
   "language": "python",
   "name": "python3"
  },
  "language_info": {
   "codemirror_mode": {
    "name": "ipython",
    "version": 3
   },
   "file_extension": ".py",
   "mimetype": "text/x-python",
   "name": "python",
   "nbconvert_exporter": "python",
   "pygments_lexer": "ipython3",
   "version": "3.8.12"
  }
 },
 "nbformat": 4,
 "nbformat_minor": 5
}
