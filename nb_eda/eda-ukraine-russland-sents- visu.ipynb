{
 "cells": [
  {
   "cell_type": "markdown",
   "id": "9ac0e931-85c2-47eb-a072-770a14f70fd1",
   "metadata": {},
   "source": [
    "# Visualisierung der Ukraine-Russland-Sätze"
   ]
  },
  {
   "cell_type": "code",
   "execution_count": 1,
   "id": "49e6044b-12c8-4b33-89a9-b12bd475ef42",
   "metadata": {},
   "outputs": [],
   "source": [
    "import pandas as pd\n",
    "import matplotlib.pyplot as plt\n",
    "\n",
    "%matplotlib inline"
   ]
  },
  {
   "cell_type": "code",
   "execution_count": 2,
   "id": "3ce23552-d434-46dd-b1ac-4ea068c72392",
   "metadata": {},
   "outputs": [],
   "source": [
    "df = pd.read_csv('../data/ukraine-russland-saetze-processed.csv', parse_dates=['datum'])"
   ]
  },
  {
   "cell_type": "code",
   "execution_count": 3,
   "id": "281823c4-282c-4ce8-ba1f-faa4d3972594",
   "metadata": {},
   "outputs": [
    {
     "name": "stdout",
     "output_type": "stream",
     "text": [
      "<class 'pandas.core.frame.DataFrame'>\n",
      "RangeIndex: 2983 entries, 0 to 2982\n",
      "Data columns (total 13 columns):\n",
      " #   Column           Non-Null Count  Dtype         \n",
      "---  ------           --------------  -----         \n",
      " 0   person           2983 non-null   object        \n",
      " 1   titel            2982 non-null   object        \n",
      " 2   datum            2983 non-null   datetime64[ns]\n",
      " 3   untertitel       2088 non-null   object        \n",
      " 4   url              2983 non-null   object        \n",
      " 5   anrede           1447 non-null   object        \n",
      " 6   rohtext          2983 non-null   object        \n",
      " 7   ort              690 non-null    object        \n",
      " 8   matched_sents    2983 non-null   object        \n",
      " 9   nsents           2983 non-null   int64         \n",
      " 10  nrelevant_sents  2983 non-null   int64         \n",
      " 11  ratio            2983 non-null   float64       \n",
      " 12  year             2983 non-null   int64         \n",
      "dtypes: datetime64[ns](1), float64(1), int64(3), object(8)\n",
      "memory usage: 303.1+ KB\n"
     ]
    }
   ],
   "source": [
    "df.info()"
   ]
  },
  {
   "cell_type": "code",
   "execution_count": 23,
   "id": "ca1664ec-5f51-4829-bd84-ebf2de307990",
   "metadata": {},
   "outputs": [],
   "source": [
    "df_grouped = df.loc[:, ['year', 'ratio']].groupby('year').mean()"
   ]
  },
  {
   "cell_type": "code",
   "execution_count": 21,
   "id": "4885c243-4d98-4602-8eaa-cce03e4063a7",
   "metadata": {},
   "outputs": [
    {
     "data": {
      "text/html": [
       "<div>\n",
       "<style scoped>\n",
       "    .dataframe tbody tr th:only-of-type {\n",
       "        vertical-align: middle;\n",
       "    }\n",
       "\n",
       "    .dataframe tbody tr th {\n",
       "        vertical-align: top;\n",
       "    }\n",
       "\n",
       "    .dataframe thead th {\n",
       "        text-align: right;\n",
       "    }\n",
       "</style>\n",
       "<table border=\"1\" class=\"dataframe\">\n",
       "  <thead>\n",
       "    <tr style=\"text-align: right;\">\n",
       "      <th></th>\n",
       "      <th>ratio</th>\n",
       "      <th>nrelevant_sents</th>\n",
       "    </tr>\n",
       "    <tr>\n",
       "      <th>year</th>\n",
       "      <th></th>\n",
       "      <th></th>\n",
       "    </tr>\n",
       "  </thead>\n",
       "  <tbody>\n",
       "    <tr>\n",
       "      <th>1982</th>\n",
       "      <td>0.0</td>\n",
       "      <td>0.0</td>\n",
       "    </tr>\n",
       "    <tr>\n",
       "      <th>1983</th>\n",
       "      <td>0.0</td>\n",
       "      <td>0.0</td>\n",
       "    </tr>\n",
       "    <tr>\n",
       "      <th>1984</th>\n",
       "      <td>0.0</td>\n",
       "      <td>0.0</td>\n",
       "    </tr>\n",
       "    <tr>\n",
       "      <th>1985</th>\n",
       "      <td>0.0</td>\n",
       "      <td>0.0</td>\n",
       "    </tr>\n",
       "    <tr>\n",
       "      <th>1986</th>\n",
       "      <td>0.0</td>\n",
       "      <td>0.0</td>\n",
       "    </tr>\n",
       "  </tbody>\n",
       "</table>\n",
       "</div>"
      ],
      "text/plain": [
       "      ratio  nrelevant_sents\n",
       "year                        \n",
       "1982    0.0              0.0\n",
       "1983    0.0              0.0\n",
       "1984    0.0              0.0\n",
       "1985    0.0              0.0\n",
       "1986    0.0              0.0"
      ]
     },
     "execution_count": 21,
     "metadata": {},
     "output_type": "execute_result"
    }
   ],
   "source": [
    "df_grouped.head()"
   ]
  },
  {
   "cell_type": "code",
   "execution_count": 27,
   "id": "111e0d88-0346-4872-8435-183578a9154c",
   "metadata": {},
   "outputs": [
    {
     "data": {
      "image/png": "[encoded data removed]",
      "text/plain": [
       "<Figure size 864x432 with 1 Axes>"
      ]
     },
     "metadata": {
      "needs_background": "light"
     },
     "output_type": "display_data"
    }
   ],
   "source": [
    "fig, ax = plt.subplots(figsize=(12,6))\n",
    "\n",
    "ax.bar(df_grouped.index, df_grouped.loc[:, 'ratio'])\n",
    "ax.set_title('Relative Häufigkeit nach Jahren');"
   ]
  },
  {
   "cell_type": "code",
   "execution_count": 24,
   "id": "c4726886-021d-46e6-83a7-f537f67e5723",
   "metadata": {},
   "outputs": [],
   "source": [
    "df_grouped_abs = df.loc[:, ['year', 'nrelevant_sents']].groupby('year').sum()"
   ]
  },
  {
   "cell_type": "code",
   "execution_count": 28,
   "id": "cafd93f9-5c09-49ea-936b-af9f5fbf3a08",
   "metadata": {},
   "outputs": [
    {
     "data": {
      "image/png": "[encoded data removed]",
      "text/plain": [
       "<Figure size 864x432 with 1 Axes>"
      ]
     },
     "metadata": {
      "needs_background": "light"
     },
     "output_type": "display_data"
    }
   ],
   "source": [
    "fig, ax = plt.subplots(figsize=(12,6))\n",
    "\n",
    "ax.bar(df_grouped_abs.index, df_grouped_abs.loc[:, 'nrelevant_sents'])\n",
    "ax.set_title('Absolute Häufigkeit nach Jahren');"
   ]
  }
 ],
 "metadata": {
  "kernelspec": {
   "display_name": "Python 3 (ipykernel)",
   "language": "python",
   "name": "python3"
  },
  "language_info": {
   "codemirror_mode": {
    "name": "ipython",
    "version": 3
   },
   "file_extension": ".py",
   "mimetype": "text/x-python",
   "name": "python",
   "nbconvert_exporter": "python",
   "pygments_lexer": "ipython3",
   "version": "3.8.12"
  }
 },
 "nbformat": 4,
 "nbformat_minor": 5
}
