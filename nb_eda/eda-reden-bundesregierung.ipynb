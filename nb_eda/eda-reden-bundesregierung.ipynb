{
 "cells": [
  {
   "cell_type": "markdown",
   "id": "9e734509-30d4-4ef3-8385-001498b6720b",
   "metadata": {},
   "source": [
    "# Explorative Datenanalyse Reden der Bundesregierung"
   ]
  },
  {
   "cell_type": "markdown",
   "id": "7efc9d7d-ca2f-4d0a-a1fa-a3985b611bab",
   "metadata": {},
   "source": [
    "## Imports"
   ]
  },
  {
   "cell_type": "code",
   "execution_count": 2,
   "id": "3bc83a4f-3a55-4b6e-9a5d-bb72fe06338c",
   "metadata": {},
   "outputs": [],
   "source": [
    "import pandas as pd\n",
    "import matplotlib.pyplot as plt\n",
    "import seaborn as sns\n",
    "\n",
    "%matplotlib inline"
   ]
  },
  {
   "cell_type": "markdown",
   "id": "ef1eaac9-12ba-401c-97ec-7e1e63bdc274",
   "metadata": {},
   "source": [
    "## Read Data"
   ]
  },
  {
   "cell_type": "code",
   "execution_count": 3,
   "id": "8591abb4-17f3-4fff-8a54-30c88747c41e",
   "metadata": {},
   "outputs": [],
   "source": [
    "df = pd.read_pickle('../data/reden-bundesregierung-preprocessed.p')"
   ]
  },
  {
   "cell_type": "code",
   "execution_count": 3,
   "id": "5969882c-9022-40d9-b1c4-e3e87e80a642",
   "metadata": {},
   "outputs": [
    {
     "data": {
      "text/html": [
       "<div>\n",
       "<style scoped>\n",
       "    .dataframe tbody tr th:only-of-type {\n",
       "        vertical-align: middle;\n",
       "    }\n",
       "\n",
       "    .dataframe tbody tr th {\n",
       "        vertical-align: top;\n",
       "    }\n",
       "\n",
       "    .dataframe thead th {\n",
       "        text-align: right;\n",
       "    }\n",
       "</style>\n",
       "<table border=\"1\" class=\"dataframe\">\n",
       "  <thead>\n",
       "    <tr style=\"text-align: right;\">\n",
       "      <th></th>\n",
       "      <th>0</th>\n",
       "      <th>1</th>\n",
       "      <th>2</th>\n",
       "    </tr>\n",
       "  </thead>\n",
       "  <tbody>\n",
       "    <tr>\n",
       "      <th>person</th>\n",
       "      <td>Gerhard Schröder</td>\n",
       "      <td>Julian Nida-Rümelin</td>\n",
       "      <td>Gerhard Schröder</td>\n",
       "    </tr>\n",
       "    <tr>\n",
       "      <th>titel</th>\n",
       "      <td>Rede des Bundeskanzlers zur Eröffnung der 52. ...</td>\n",
       "      <td>Redebeitrag von Staatsminister Nida-Rümelin in...</td>\n",
       "      <td>Interview mit Bundeskanzler Schröder in 'Berli...</td>\n",
       "    </tr>\n",
       "    <tr>\n",
       "      <th>datum</th>\n",
       "      <td>2002-02-06 00:00:00</td>\n",
       "      <td>2002-02-01 00:00:00</td>\n",
       "      <td>2002-04-14 00:00:00</td>\n",
       "    </tr>\n",
       "    <tr>\n",
       "      <th>untertitel</th>\n",
       "      <td>Man kann diese Filmfestspiele nicht eröffnen, ...</td>\n",
       "      <td>\"Ich bin der Auffassung, wir müssen nicht nur ...</td>\n",
       "      <td>In dem Interview äußert sich Bundeskanzler Sch...</td>\n",
       "    </tr>\n",
       "    <tr>\n",
       "      <th>url</th>\n",
       "      <td>http://archiv.bundesregierung.de/bpaexport/red...</td>\n",
       "      <td>http://archiv.bundesregierung.de/bpaexport/red...</td>\n",
       "      <td>http://archiv.bundesregierung.de/bpaexport/red...</td>\n",
       "    </tr>\n",
       "    <tr>\n",
       "      <th>anrede</th>\n",
       "      <td>Sehr geehrte Frau Nair, liebe Mitglieder der J...</td>\n",
       "      <td>Meine sehr geehrten Damen und Herren!</td>\n",
       "      <td>NaN</td>\n",
       "    </tr>\n",
       "    <tr>\n",
       "      <th>rohtext</th>\n",
       "      <td>es ist angekündigt worden, man sollte im Beruf...</td>\n",
       "      <td>Frau Präsidentin!  An Sie gerichtet, Herr Börn...</td>\n",
       "      <td>Frage (Peter Hahne): Bevor wir uns über den Au...</td>\n",
       "    </tr>\n",
       "    <tr>\n",
       "      <th>ort</th>\n",
       "      <td>None</td>\n",
       "      <td>None</td>\n",
       "      <td>None</td>\n",
       "    </tr>\n",
       "    <tr>\n",
       "      <th>tokens</th>\n",
       "      <td>[es, ist, angekündigt, worden, man, sollte, im...</td>\n",
       "      <td>[Frau, Präsidentin,  , An, Sie, gerichtet, Her...</td>\n",
       "      <td>[Frage, Peter, Hahne, Bevor, wir, uns, über, d...</td>\n",
       "    </tr>\n",
       "    <tr>\n",
       "      <th>ntokens</th>\n",
       "      <td>1911</td>\n",
       "      <td>1319</td>\n",
       "      <td>1512</td>\n",
       "    </tr>\n",
       "    <tr>\n",
       "      <th>lemmata</th>\n",
       "      <td>[ankündigen, beruf, schauspieler, politiker, w...</td>\n",
       "      <td>[frau, präsidentin, an, ich, richten, herr, bö...</td>\n",
       "      <td>[frage, peter, hahn, bevor, aufbau, ost, arbei...</td>\n",
       "    </tr>\n",
       "    <tr>\n",
       "      <th>PER</th>\n",
       "      <td>[Hildegard Knef, Hildchen\", Billy Wilder, Audr...</td>\n",
       "      <td>[Otto, Filmkonzept, Otto, Höcherl, Otto]</td>\n",
       "      <td>[Peter Hahne):, Saddam Hussein, Blair, Herrn F...</td>\n",
       "    </tr>\n",
       "    <tr>\n",
       "      <th>ORG</th>\n",
       "      <td>[Berlin, Brückenschlags, Berliner Kinos, Jurym...</td>\n",
       "      <td>[SPD-Fraktion, Bundestag, Goethe-Instituten, M...</td>\n",
       "      <td>[EU-Ebene, Bundeswehr, Vereinten Nationen, Ver...</td>\n",
       "    </tr>\n",
       "    <tr>\n",
       "      <th>LOC</th>\n",
       "      <td>[Amerika, Deutschland, Berlin, Deutschland, La...</td>\n",
       "      <td>[Deutschland, Pol, Bayern, Deutschland, Deutsc...</td>\n",
       "      <td>[Ferieninsel, Djerba, Deutschland, Israel, Deu...</td>\n",
       "    </tr>\n",
       "    <tr>\n",
       "      <th>MISC</th>\n",
       "      <td>[Planet Kino, deutschen, deutschen, Irma La Do...</td>\n",
       "      <td>[Erinnerung., Filmpolitik, deutsche, Filmfesti...</td>\n",
       "      <td>[tunesischen, Deutsche, deutsche, tunesischen,...</td>\n",
       "    </tr>\n",
       "    <tr>\n",
       "      <th>NOUN</th>\n",
       "      <td>[beruf, schauspieler, politiker, modell, bürge...</td>\n",
       "      <td>[frau, herr, kurzfassung, theorie, katharsis, ...</td>\n",
       "      <td>[frage, aufbau, ost, arbeitslosigkeit, konjunk...</td>\n",
       "    </tr>\n",
       "    <tr>\n",
       "      <th>VERB</th>\n",
       "      <td>[angekündigt, wechseln, weiß, reden, fand, nen...</td>\n",
       "      <td>[gerichtet, haben, geliefert, haben, denke, ha...</td>\n",
       "      <td>[unterhalten, bewegt, glaube, ausgehen, haben,...</td>\n",
       "    </tr>\n",
       "    <tr>\n",
       "      <th>ADJ</th>\n",
       "      <td>[regierende, wunderbaren, gute, letzte, deutsc...</td>\n",
       "      <td>[aristotelischen, kathartische, anspruchsvolle...</td>\n",
       "      <td>[schwere, tunesischen, deutsche, unendliches, ...</td>\n",
       "    </tr>\n",
       "  </tbody>\n",
       "</table>\n",
       "</div>"
      ],
      "text/plain": [
       "                                                            0  \\\n",
       "person                                       Gerhard Schröder   \n",
       "titel       Rede des Bundeskanzlers zur Eröffnung der 52. ...   \n",
       "datum                                     2002-02-06 00:00:00   \n",
       "untertitel  Man kann diese Filmfestspiele nicht eröffnen, ...   \n",
       "url         http://archiv.bundesregierung.de/bpaexport/red...   \n",
       "anrede      Sehr geehrte Frau Nair, liebe Mitglieder der J...   \n",
       "rohtext     es ist angekündigt worden, man sollte im Beruf...   \n",
       "ort                                                      None   \n",
       "tokens      [es, ist, angekündigt, worden, man, sollte, im...   \n",
       "ntokens                                                  1911   \n",
       "lemmata     [ankündigen, beruf, schauspieler, politiker, w...   \n",
       "PER         [Hildegard Knef, Hildchen\", Billy Wilder, Audr...   \n",
       "ORG         [Berlin, Brückenschlags, Berliner Kinos, Jurym...   \n",
       "LOC         [Amerika, Deutschland, Berlin, Deutschland, La...   \n",
       "MISC        [Planet Kino, deutschen, deutschen, Irma La Do...   \n",
       "NOUN        [beruf, schauspieler, politiker, modell, bürge...   \n",
       "VERB        [angekündigt, wechseln, weiß, reden, fand, nen...   \n",
       "ADJ         [regierende, wunderbaren, gute, letzte, deutsc...   \n",
       "\n",
       "                                                            1  \\\n",
       "person                                    Julian Nida-Rümelin   \n",
       "titel       Redebeitrag von Staatsminister Nida-Rümelin in...   \n",
       "datum                                     2002-02-01 00:00:00   \n",
       "untertitel  \"Ich bin der Auffassung, wir müssen nicht nur ...   \n",
       "url         http://archiv.bundesregierung.de/bpaexport/red...   \n",
       "anrede                  Meine sehr geehrten Damen und Herren!   \n",
       "rohtext     Frau Präsidentin!  An Sie gerichtet, Herr Börn...   \n",
       "ort                                                      None   \n",
       "tokens      [Frau, Präsidentin,  , An, Sie, gerichtet, Her...   \n",
       "ntokens                                                  1319   \n",
       "lemmata     [frau, präsidentin, an, ich, richten, herr, bö...   \n",
       "PER                  [Otto, Filmkonzept, Otto, Höcherl, Otto]   \n",
       "ORG         [SPD-Fraktion, Bundestag, Goethe-Instituten, M...   \n",
       "LOC         [Deutschland, Pol, Bayern, Deutschland, Deutsc...   \n",
       "MISC        [Erinnerung., Filmpolitik, deutsche, Filmfesti...   \n",
       "NOUN        [frau, herr, kurzfassung, theorie, katharsis, ...   \n",
       "VERB        [gerichtet, haben, geliefert, haben, denke, ha...   \n",
       "ADJ         [aristotelischen, kathartische, anspruchsvolle...   \n",
       "\n",
       "                                                            2  \n",
       "person                                       Gerhard Schröder  \n",
       "titel       Interview mit Bundeskanzler Schröder in 'Berli...  \n",
       "datum                                     2002-04-14 00:00:00  \n",
       "untertitel  In dem Interview äußert sich Bundeskanzler Sch...  \n",
       "url         http://archiv.bundesregierung.de/bpaexport/red...  \n",
       "anrede                                                    NaN  \n",
       "rohtext     Frage (Peter Hahne): Bevor wir uns über den Au...  \n",
       "ort                                                      None  \n",
       "tokens      [Frage, Peter, Hahne, Bevor, wir, uns, über, d...  \n",
       "ntokens                                                  1512  \n",
       "lemmata     [frage, peter, hahn, bevor, aufbau, ost, arbei...  \n",
       "PER         [Peter Hahne):, Saddam Hussein, Blair, Herrn F...  \n",
       "ORG         [EU-Ebene, Bundeswehr, Vereinten Nationen, Ver...  \n",
       "LOC         [Ferieninsel, Djerba, Deutschland, Israel, Deu...  \n",
       "MISC        [tunesischen, Deutsche, deutsche, tunesischen,...  \n",
       "NOUN        [frage, aufbau, ost, arbeitslosigkeit, konjunk...  \n",
       "VERB        [unterhalten, bewegt, glaube, ausgehen, haben,...  \n",
       "ADJ         [schwere, tunesischen, deutsche, unendliches, ...  "
      ]
     },
     "execution_count": 3,
     "metadata": {},
     "output_type": "execute_result"
    }
   ],
   "source": [
    "df.head(3).T"
   ]
  },
  {
   "cell_type": "code",
   "execution_count": 4,
   "id": "7f33f14c-5d37-4957-b669-66c293ed0933",
   "metadata": {},
   "outputs": [
    {
     "name": "stdout",
     "output_type": "stream",
     "text": [
      "<class 'pandas.core.frame.DataFrame'>\n",
      "RangeIndex: 2983 entries, 0 to 2982\n",
      "Data columns (total 18 columns):\n",
      " #   Column      Non-Null Count  Dtype         \n",
      "---  ------      --------------  -----         \n",
      " 0   person      2983 non-null   object        \n",
      " 1   titel       2982 non-null   object        \n",
      " 2   datum       2983 non-null   datetime64[ns]\n",
      " 3   untertitel  2088 non-null   object        \n",
      " 4   url         2983 non-null   object        \n",
      " 5   anrede      1447 non-null   object        \n",
      " 6   rohtext     2983 non-null   object        \n",
      " 7   ort         690 non-null    object        \n",
      " 8   tokens      2983 non-null   object        \n",
      " 9   ntokens     2983 non-null   int64         \n",
      " 10  lemmata     2983 non-null   object        \n",
      " 11  PER         2983 non-null   object        \n",
      " 12  ORG         2983 non-null   object        \n",
      " 13  LOC         2983 non-null   object        \n",
      " 14  MISC        2983 non-null   object        \n",
      " 15  NOUN        2983 non-null   object        \n",
      " 16  VERB        2983 non-null   object        \n",
      " 17  ADJ         2983 non-null   object        \n",
      "dtypes: datetime64[ns](1), int64(1), object(16)\n",
      "memory usage: 419.6+ KB\n"
     ]
    }
   ],
   "source": [
    "df.info()"
   ]
  },
  {
   "cell_type": "code",
   "execution_count": 5,
   "id": "4272faab-51d8-4438-a2d6-d12fc7cfae49",
   "metadata": {},
   "outputs": [
    {
     "data": {
      "text/plain": [
       "Index(['person', 'titel', 'datum', 'untertitel', 'url', 'anrede', 'rohtext',\n",
       "       'ort', 'tokens', 'ntokens', 'lemmata', 'PER', 'ORG', 'LOC', 'MISC',\n",
       "       'NOUN', 'VERB', 'ADJ'],\n",
       "      dtype='object')"
      ]
     },
     "execution_count": 5,
     "metadata": {},
     "output_type": "execute_result"
    }
   ],
   "source": [
    "df.columns"
   ]
  },
  {
   "cell_type": "markdown",
   "id": "6eaece08-28ac-4ac2-8143-c3a75ad46b1e",
   "metadata": {
    "slideshow": {
     "slide_type": "subslide"
    },
    "tags": []
   },
   "source": [
    "## Anzahl der Reden nach Jahren"
   ]
  },
  {
   "cell_type": "code",
   "execution_count": 7,
   "id": "7376a570-af5b-4f88-a06b-675eae3dbfa8",
   "metadata": {
    "tags": []
   },
   "outputs": [
    {
     "data": {
      "image/png": "[encoded data removed]",
      "text/plain": [
       "<Figure size 720x360 with 1 Axes>"
      ]
     },
     "metadata": {
      "needs_background": "light"
     },
     "output_type": "display_data"
    }
   ],
   "source": [
    "fig, ax = plt.subplots(figsize=(10,5))\n",
    "var = pd.crosstab(index=df.loc[:, 'datum'].dt.year, columns='count')\n",
    "var.plot(kind='bar', legend=False, ax=ax)\n",
    "ax.set_title(label='Anzahl der Reden nach Jahren',\n",
    "             weight='semibold', size=14)                \n",
    "ax.set_xlabel('Jahr', size=12)             \n",
    "ax.set_ylabel('Anzahl der Reden pro Jahr',size=12)             \n",
    "ax.set_xticklabels(labels=ax.get_xticklabels(), rotation=45) \n",
    "ax.spines['top'].set_visible(False)\n",
    "ax.spines['right'].set_visible(False)\n",
    "plt.savefig('../img/Anzahl-Rede-Jahr.png', dpi=300, bbox_inches='tight');"
   ]
  },
  {
   "cell_type": "markdown",
   "id": "81950e63-6d41-4daf-a179-9f8877617246",
   "metadata": {
    "slideshow": {
     "slide_type": "subslide"
    },
    "tags": []
   },
   "source": [
    "## Anzahl der Reden nach Monaten"
   ]
  },
  {
   "cell_type": "code",
   "execution_count": 12,
   "id": "031aacc4-6f5a-44fd-b93d-2b5bb07bb5f4",
   "metadata": {
    "tags": []
   },
   "outputs": [
    {
     "data": {
      "image/png": "[encoded data removed]",
      "text/plain": [
       "<Figure size 720x360 with 1 Axes>"
      ]
     },
     "metadata": {
      "needs_background": "light"
     },
     "output_type": "display_data"
    }
   ],
   "source": [
    "fig, ax = plt.subplots(figsize=(10,5))\n",
    "var_month = pd.crosstab(index=df.loc[:, 'datum'].dt.to_period('M'), columns='count')\n",
    "var_month.rolling(window=3).mean().plot(legend=False, ax=ax)\n",
    "ax.set_title(label='Anzahl der Reden nach Monaten im gleitenden Dreimonatsdurchschnitt',\n",
    "             weight='semibold', size=14)                \n",
    "ax.set_xlabel('Jahr', size=12)             \n",
    "ax.set_ylabel('Anzahl der Reden pro Monat',size=12)\n",
    "ax.spines['top'].set_visible(False)\n",
    "ax.spines['right'].set_visible(False)\n",
    "plt.savefig('../img/Anzahl-Reden-Monat.png', dpi=300, bbox_inches='tight');"
   ]
  },
  {
   "cell_type": "markdown",
   "id": "fb048542-2995-4506-af1a-6658f15ba700",
   "metadata": {},
   "source": [
    "## Verteilung der Länge der Reden"
   ]
  },
  {
   "cell_type": "code",
   "execution_count": 67,
   "id": "0f6f774d-a499-4ea8-94a1-617c835a805c",
   "metadata": {},
   "outputs": [
    {
     "data": {
      "text/plain": [
       "count     2983.000000\n",
       "mean      1939.533691\n",
       "std       1285.096751\n",
       "min          6.000000\n",
       "25%        963.500000\n",
       "50%       1599.000000\n",
       "75%       2605.000000\n",
       "95%       4425.600000\n",
       "max      10459.000000\n",
       "Name: ntokens, dtype: float64"
      ]
     },
     "execution_count": 67,
     "metadata": {},
     "output_type": "execute_result"
    }
   ],
   "source": [
    "df.loc[:, 'ntokens'].describe(percentiles=[0.25, 0.5, 0.75, 0.95])"
   ]
  },
  {
   "cell_type": "code",
   "execution_count": 24,
   "id": "a41223c8-ab2d-4329-aaf5-63641cc7f7f9",
   "metadata": {},
   "outputs": [
    {
     "data": {
      "image/png": "[encoded data removed]",
      "text/plain": [
       "<Figure size 864x288 with 1 Axes>"
      ]
     },
     "metadata": {
      "needs_background": "light"
     },
     "output_type": "display_data"
    }
   ],
   "source": [
    "fig, ax = plt.subplots(figsize=(12,4))\n",
    "\n",
    "sns.boxplot(x='ntokens', data=df, ax=ax)\n",
    "\n",
    "ax.set_title(label='Verteilung der Länge der Reden', weight='semibold', size=14)\n",
    "ax.set_xlabel('Länge der Rede in Token', size=12)\n",
    "             \n",
    "\n",
    "ax.spines['top'].set_visible(False)\n",
    "ax.spines['right'].set_visible(False)\n",
    "ax.spines['left'].set_visible(False);\n",
    "\n",
    "plt.savefig('../img/boxplot_redenlänge.png', dpi=300, bbox_inches='tight')"
   ]
  },
  {
   "cell_type": "code",
   "execution_count": 23,
   "id": "37b49431-6007-4414-b19c-ee648b05794a",
   "metadata": {},
   "outputs": [
    {
     "data": {
      "image/png": "[encoded data removed]",
      "text/plain": [
       "<Figure size 864x288 with 1 Axes>"
      ]
     },
     "metadata": {
      "needs_background": "light"
     },
     "output_type": "display_data"
    }
   ],
   "source": [
    "fig, ax = plt.subplots(figsize=(12,4))\n",
    "\n",
    "sns.violinplot(x='ntokens', data=df, ax=ax)\n",
    "\n",
    "ax.set_title(label='Verteilung der Länge der Reden', weight='semibold', size=14)\n",
    "ax.set_xlabel('Länge der Rede in Token', size=12)\n",
    "             \n",
    "\n",
    "ax.spines['top'].set_visible(False)\n",
    "ax.spines['right'].set_visible(False)\n",
    "ax.spines['left'].set_visible(False);\n",
    "\n",
    "plt.savefig('../img/violinplot_redenlänge.png', dpi=300, bbox_inches='tight')"
   ]
  },
  {
   "cell_type": "code",
   "execution_count": 25,
   "id": "e772f78f-d009-4b45-9c38-830ea8fda800",
   "metadata": {},
   "outputs": [
    {
     "data": {
      "image/png": "[encoded data removed]",
      "text/plain": [
       "<Figure size 864x288 with 1 Axes>"
      ]
     },
     "metadata": {
      "needs_background": "light"
     },
     "output_type": "display_data"
    }
   ],
   "source": [
    "fig, ax = plt.subplots(figsize=(12,4))\n",
    "\n",
    "df.loc[:, 'ntokens'].plot(kind='hist', bins=100, ax=ax)\n",
    "                                 \n",
    "ax.set_title(label='Verteilung der Länge der Reden (bins=100)',weight='semibold', size=14)\n",
    "ax.set_xlabel('Anzahl der Token', size=12)\n",
    "ax.set_ylabel('Anzahl der Reden', size=12)\n",
    "ax.spines['top'].set_visible(False)\n",
    "ax.spines['right'].set_visible(False)\n",
    "\n",
    "plt.savefig('../img/histogramm_redenlänge.png', dpi=300, bbox_inches='tight');"
   ]
  },
  {
   "cell_type": "markdown",
   "id": "58a73b14-d296-4866-b3c8-5290d23bcfc6",
   "metadata": {},
   "source": [
    "### Längste und kürzeste Reden"
   ]
  },
  {
   "cell_type": "code",
   "execution_count": 65,
   "id": "ca3e03fa-f04d-4959-9af4-875c780dac29",
   "metadata": {},
   "outputs": [
    {
     "data": {
      "text/plain": [
       "person                                                     Helmut Kohl\n",
       "titel                Rede vor dem Deutschen Bundestag anlässlich de...\n",
       "datum                                              1998-09-03 00:00:00\n",
       "untertitel                                                         NaN\n",
       "url                  https://www.helmut-kohl.de/index.php?menu_sel=...\n",
       "anrede                                                             NaN\n",
       "rohtext              Frau Präsidentin,\\nmeine Damen und Herren,\\nic...\n",
       "ort                                                                NaN\n",
       "tokens               [Frau, Präsidentin, \\n, meine, Damen, und, Her...\n",
       "ntokens                                                          10459\n",
       "lemmata              [frau, präsidentin, dame, herr, gestehen, redn...\n",
       "PER                  [Theo Waigel, Theo Waigel, Gerhard Schröder,, ...\n",
       "ORG                  [Koalition, CDU/CSU, PDS, CDU/CSU., Wähler!, S...\n",
       "LOC                  [Finanzminister, Rotgrün, Startbahn West, Koso...\n",
       "MISC                 [Herren,\\nich, Aufschwung., Bundestagswahl., B...\n",
       "NOUN                 [frau, damen, herren, rednern, parlamentarier,...\n",
       "VERB                 [gestehen, zuhört, dazulernen, sagt, wiedergew...\n",
       "ADJ                  [lange, anderen, große, größeren, normale, gle...\n",
       "lexical_diversity                                             0.242471\n",
       "Name: 2727, dtype: object"
      ]
     },
     "execution_count": 65,
     "metadata": {},
     "output_type": "execute_result"
    }
   ],
   "source": [
    "df.loc[df.loc[:, 'ntokens'].idxmax(),:]"
   ]
  },
  {
   "cell_type": "code",
   "execution_count": 66,
   "id": "84df27c6-90ca-40ae-9d23-9f788e2a3e1a",
   "metadata": {},
   "outputs": [
    {
     "data": {
      "text/plain": [
       "person                                                    Michael Glos\n",
       "titel                Anforderungen an ein zukunftsfähiges Energiepr...\n",
       "datum                                              2006-01-17 00:00:00\n",
       "untertitel           Michael Glos, Bundesminister für Wirtschaft un...\n",
       "url                  http://www.bundesregierung.de/nn_914560/Conten...\n",
       "anrede                                                             NaN\n",
       "rohtext                                        >> Die Rede im Wortlaut\n",
       "ort                                                               None\n",
       "tokens                                 [>, >, Die, Rede, im, Wortlaut]\n",
       "ntokens                                                              6\n",
       "lemmata                                          [der, rede, wortlaut]\n",
       "PER                                                                 []\n",
       "ORG                                                                 []\n",
       "LOC                                                                 []\n",
       "MISC                                                        [Die Rede]\n",
       "NOUN                                                  [rede, wortlaut]\n",
       "VERB                                                                []\n",
       "ADJ                                                                 []\n",
       "lexical_diversity                                             0.833333\n",
       "Name: 881, dtype: object"
      ]
     },
     "execution_count": 66,
     "metadata": {},
     "output_type": "execute_result"
    }
   ],
   "source": [
    "df.loc[df.loc[:, 'ntokens'].idxmin(),:]"
   ]
  },
  {
   "cell_type": "markdown",
   "id": "79861e06-0a96-4306-ae43-33ba9640d01a",
   "metadata": {},
   "source": [
    "## Aussagen zu den Redner:innen"
   ]
  },
  {
   "cell_type": "code",
   "execution_count": 29,
   "id": "0c786bdb-4ced-4910-8d97-0e29368ed5ef",
   "metadata": {},
   "outputs": [
    {
     "name": "stdout",
     "output_type": "stream",
     "text": [
      "Anzahl der Redner:innen\n",
      "46\n"
     ]
    }
   ],
   "source": [
    "# Anzahl der Personen\n",
    "\n",
    "print('Anzahl der Redner:innen')\n",
    "print(df.loc[:, 'person'].nunique())"
   ]
  },
  {
   "cell_type": "code",
   "execution_count": 30,
   "id": "de42fe04-96cc-4dd1-a71b-5850d90c7472",
   "metadata": {},
   "outputs": [
    {
     "data": {
      "text/plain": [
       "array(['Gerhard Schröder', 'Julian Nida-Rümelin', 'Christina Weiss',\n",
       "       'Frank-Walter Steinmeier', 'Michael Naumann', 'Hans Martin Bury',\n",
       "       'Otto Graf Lambsdorff', 'Peter Struck', 'Joschka Fischer',\n",
       "       'Rolf Schwanitz', 'Waldemar Ritter', 'Edelgard Bulmahn',\n",
       "       'Jürgen Trittin', 'k.A.', 'Friedrich Merz', 'Rudolf Scharping',\n",
       "       'Renate Schmidt', 'Brigitte Zypries', 'Christine Bergmann',\n",
       "       'Brigitte Sauzay', 'Heidemarie Wieczorek-Zeul',\n",
       "       'Matthias Platzeck', 'Béla Anda', 'Werner Müller',\n",
       "       'Herta Däubler-Gmelin', 'Angela Merkel', 'Bernd Neumann',\n",
       "       'Ursula von der Leyen', 'Thomas de Maizière', 'Peer Steinbrück',\n",
       "       'Michael Glos', 'Maria Böhmer', 'Franz Müntefering',\n",
       "       'Wolfgang Schäuble', 'Franz Josef Jung', 'Sigmar Gabriel',\n",
       "       'Hans Bernhard Beus', 'Hildegard Müller', 'Hermann Gröhe',\n",
       "       'Ronald Pofalla', 'Joachim Gauck', 'Roman Herzog', 'Ilse Aigner',\n",
       "       'Monika Grütters', 'Aydan Özoğuz', 'Helmut Kohl'], dtype=object)"
      ]
     },
     "execution_count": 30,
     "metadata": {},
     "output_type": "execute_result"
    }
   ],
   "source": [
    "# Namen der Redner:innen\n",
    "\n",
    "df.loc[:, 'person'].unique()"
   ]
  },
  {
   "cell_type": "code",
   "execution_count": 31,
   "id": "bc530a00-fdf2-4351-9e15-f1419b20c853",
   "metadata": {},
   "outputs": [],
   "source": [
    "person_counts = pd.crosstab(index=df.loc[:, 'person'], columns='count')"
   ]
  },
  {
   "cell_type": "code",
   "execution_count": 32,
   "id": "07ec30e9-c185-47ad-8bbf-8a4d786661ab",
   "metadata": {},
   "outputs": [
    {
     "data": {
      "text/html": [
       "<div>\n",
       "<style scoped>\n",
       "    .dataframe tbody tr th:only-of-type {\n",
       "        vertical-align: middle;\n",
       "    }\n",
       "\n",
       "    .dataframe tbody tr th {\n",
       "        vertical-align: top;\n",
       "    }\n",
       "\n",
       "    .dataframe thead th {\n",
       "        text-align: right;\n",
       "    }\n",
       "</style>\n",
       "<table border=\"1\" class=\"dataframe\">\n",
       "  <thead>\n",
       "    <tr style=\"text-align: right;\">\n",
       "      <th>col_0</th>\n",
       "      <th>count</th>\n",
       "    </tr>\n",
       "    <tr>\n",
       "      <th>person</th>\n",
       "      <th></th>\n",
       "    </tr>\n",
       "  </thead>\n",
       "  <tbody>\n",
       "    <tr>\n",
       "      <th>Angela Merkel</th>\n",
       "      <td>1128</td>\n",
       "    </tr>\n",
       "    <tr>\n",
       "      <th>Gerhard Schröder</th>\n",
       "      <td>417</td>\n",
       "    </tr>\n",
       "    <tr>\n",
       "      <th>Helmut Kohl</th>\n",
       "      <td>332</td>\n",
       "    </tr>\n",
       "    <tr>\n",
       "      <th>Bernd Neumann</th>\n",
       "      <td>323</td>\n",
       "    </tr>\n",
       "    <tr>\n",
       "      <th>Monika Grütters</th>\n",
       "      <td>246</td>\n",
       "    </tr>\n",
       "    <tr>\n",
       "      <th>Christina Weiss</th>\n",
       "      <td>204</td>\n",
       "    </tr>\n",
       "    <tr>\n",
       "      <th>Michael Naumann</th>\n",
       "      <td>64</td>\n",
       "    </tr>\n",
       "    <tr>\n",
       "      <th>Julian Nida-Rümelin</th>\n",
       "      <td>48</td>\n",
       "    </tr>\n",
       "    <tr>\n",
       "      <th>Thomas de Maizière</th>\n",
       "      <td>45</td>\n",
       "    </tr>\n",
       "    <tr>\n",
       "      <th>Hans Martin Bury</th>\n",
       "      <td>42</td>\n",
       "    </tr>\n",
       "  </tbody>\n",
       "</table>\n",
       "</div>"
      ],
      "text/plain": [
       "col_0                count\n",
       "person                    \n",
       "Angela Merkel         1128\n",
       "Gerhard Schröder       417\n",
       "Helmut Kohl            332\n",
       "Bernd Neumann          323\n",
       "Monika Grütters        246\n",
       "Christina Weiss        204\n",
       "Michael Naumann         64\n",
       "Julian Nida-Rümelin     48\n",
       "Thomas de Maizière      45\n",
       "Hans Martin Bury        42"
      ]
     },
     "execution_count": 32,
     "metadata": {},
     "output_type": "execute_result"
    }
   ],
   "source": [
    "person_counts.sort_values(by='count', ascending=False).head(10)"
   ]
  },
  {
   "cell_type": "code",
   "execution_count": 44,
   "id": "dfb358ef-6722-4b28-8592-638784eb477f",
   "metadata": {},
   "outputs": [
    {
     "data": {
      "image/png": "[encoded data removed]",
      "text/plain": [
       "<Figure size 1152x576 with 1 Axes>"
      ]
     },
     "metadata": {
      "needs_background": "light"
     },
     "output_type": "display_data"
    }
   ],
   "source": [
    "fig, ax = plt.subplots(figsize=(16,8))\n",
    "\n",
    "person_counts = person_counts.sort_values(by='count', ascending=False).head(10)\n",
    "person_counts.plot(kind='barh', ax=ax, legend=None)\n",
    "\n",
    "ax.invert_yaxis() \n",
    "\n",
    "ax.set_title(label='TOP 10 Redner:innen', weight='semibold', size=14)\n",
    "ax.set_xlabel('Anzahl der Reden', size=12)\n",
    "ax.set_ylabel('Name der Redner:in', size=12)\n",
    "\n",
    "for idx in range(len(person_counts.index)):\n",
    "        ax.text(s=f'{int(person_counts.iloc[idx])} Reden',\n",
    "                x=person_counts.iloc[idx] + 2,\n",
    "                y=idx, size=12,\n",
    "                color='black'\n",
    "               )\n",
    "ax.spines['top'].set_visible(False)\n",
    "ax.spines['right'].set_visible(False)\n",
    "\n",
    "plt.savefig('../img/TOP10-Redner.png', dpi=300, bbox_inches='tight');"
   ]
  },
  {
   "cell_type": "code",
   "execution_count": 33,
   "id": "990c9b50-531c-4db8-89e1-8041b9b1ba68",
   "metadata": {},
   "outputs": [
    {
     "data": {
      "text/html": [
       "<div>\n",
       "<style scoped>\n",
       "    .dataframe tbody tr th:only-of-type {\n",
       "        vertical-align: middle;\n",
       "    }\n",
       "\n",
       "    .dataframe tbody tr th {\n",
       "        vertical-align: top;\n",
       "    }\n",
       "\n",
       "    .dataframe thead th {\n",
       "        text-align: right;\n",
       "    }\n",
       "</style>\n",
       "<table border=\"1\" class=\"dataframe\">\n",
       "  <thead>\n",
       "    <tr style=\"text-align: right;\">\n",
       "      <th>col_0</th>\n",
       "      <th>count</th>\n",
       "    </tr>\n",
       "    <tr>\n",
       "      <th>person</th>\n",
       "      <th></th>\n",
       "    </tr>\n",
       "  </thead>\n",
       "  <tbody>\n",
       "    <tr>\n",
       "      <th>Aydan Özoğuz</th>\n",
       "      <td>1</td>\n",
       "    </tr>\n",
       "    <tr>\n",
       "      <th>Renate Schmidt</th>\n",
       "      <td>1</td>\n",
       "    </tr>\n",
       "    <tr>\n",
       "      <th>Peter Struck</th>\n",
       "      <td>1</td>\n",
       "    </tr>\n",
       "    <tr>\n",
       "      <th>Herta Däubler-Gmelin</th>\n",
       "      <td>1</td>\n",
       "    </tr>\n",
       "    <tr>\n",
       "      <th>Hans Bernhard Beus</th>\n",
       "      <td>1</td>\n",
       "    </tr>\n",
       "    <tr>\n",
       "      <th>Brigitte Zypries</th>\n",
       "      <td>1</td>\n",
       "    </tr>\n",
       "    <tr>\n",
       "      <th>Béla Anda</th>\n",
       "      <td>1</td>\n",
       "    </tr>\n",
       "    <tr>\n",
       "      <th>Friedrich Merz</th>\n",
       "      <td>1</td>\n",
       "    </tr>\n",
       "    <tr>\n",
       "      <th>Matthias Platzeck</th>\n",
       "      <td>1</td>\n",
       "    </tr>\n",
       "    <tr>\n",
       "      <th>Michael Glos</th>\n",
       "      <td>1</td>\n",
       "    </tr>\n",
       "  </tbody>\n",
       "</table>\n",
       "</div>"
      ],
      "text/plain": [
       "col_0                 count\n",
       "person                     \n",
       "Aydan Özoğuz              1\n",
       "Renate Schmidt            1\n",
       "Peter Struck              1\n",
       "Herta Däubler-Gmelin      1\n",
       "Hans Bernhard Beus        1\n",
       "Brigitte Zypries          1\n",
       "Béla Anda                 1\n",
       "Friedrich Merz            1\n",
       "Matthias Platzeck         1\n",
       "Michael Glos              1"
      ]
     },
     "execution_count": 33,
     "metadata": {},
     "output_type": "execute_result"
    }
   ],
   "source": [
    "person_counts.sort_values(by='count', ascending=False).tail(10)"
   ]
  },
  {
   "cell_type": "markdown",
   "id": "8743a569-c9ac-4328-a6cc-042d49ccb5f0",
   "metadata": {},
   "source": [
    "## Auswertung der TOP-Rednerin"
   ]
  },
  {
   "cell_type": "code",
   "execution_count": 45,
   "id": "405dae6e-d8e0-42a9-8455-8cf01c63e76a",
   "metadata": {},
   "outputs": [],
   "source": [
    "df_merkel = df[df.loc[:, 'person'] == 'Angela Merkel']"
   ]
  },
  {
   "cell_type": "code",
   "execution_count": 46,
   "id": "db483a0b-0a65-4d4f-b8aa-c91f27cbe87b",
   "metadata": {},
   "outputs": [
    {
     "data": {
      "text/plain": [
       "(1128, 18)"
      ]
     },
     "execution_count": 46,
     "metadata": {},
     "output_type": "execute_result"
    }
   ],
   "source": [
    "df_merkel.shape"
   ]
  },
  {
   "cell_type": "code",
   "execution_count": 47,
   "id": "aab5b6f3-706b-499c-b031-94cd43a9af82",
   "metadata": {},
   "outputs": [],
   "source": [
    "df_merkel_years = pd.crosstab(index=df_merkel.loc[:, 'datum'].dt.year, columns='count')"
   ]
  },
  {
   "cell_type": "code",
   "execution_count": 48,
   "id": "991840fc-ad15-42db-95b5-ef92469bd8fa",
   "metadata": {},
   "outputs": [
    {
     "data": {
      "text/html": [
       "<div>\n",
       "<style scoped>\n",
       "    .dataframe tbody tr th:only-of-type {\n",
       "        vertical-align: middle;\n",
       "    }\n",
       "\n",
       "    .dataframe tbody tr th {\n",
       "        vertical-align: top;\n",
       "    }\n",
       "\n",
       "    .dataframe thead th {\n",
       "        text-align: right;\n",
       "    }\n",
       "</style>\n",
       "<table border=\"1\" class=\"dataframe\">\n",
       "  <thead>\n",
       "    <tr style=\"text-align: right;\">\n",
       "      <th>col_0</th>\n",
       "      <th>count</th>\n",
       "    </tr>\n",
       "    <tr>\n",
       "      <th>datum</th>\n",
       "      <th></th>\n",
       "    </tr>\n",
       "  </thead>\n",
       "  <tbody>\n",
       "    <tr>\n",
       "      <th>2005</th>\n",
       "      <td>4</td>\n",
       "    </tr>\n",
       "    <tr>\n",
       "      <th>2006</th>\n",
       "      <td>100</td>\n",
       "    </tr>\n",
       "    <tr>\n",
       "      <th>2007</th>\n",
       "      <td>122</td>\n",
       "    </tr>\n",
       "    <tr>\n",
       "      <th>2008</th>\n",
       "      <td>101</td>\n",
       "    </tr>\n",
       "    <tr>\n",
       "      <th>2009</th>\n",
       "      <td>97</td>\n",
       "    </tr>\n",
       "    <tr>\n",
       "      <th>2010</th>\n",
       "      <td>90</td>\n",
       "    </tr>\n",
       "    <tr>\n",
       "      <th>2011</th>\n",
       "      <td>96</td>\n",
       "    </tr>\n",
       "    <tr>\n",
       "      <th>2012</th>\n",
       "      <td>82</td>\n",
       "    </tr>\n",
       "    <tr>\n",
       "      <th>2013</th>\n",
       "      <td>82</td>\n",
       "    </tr>\n",
       "    <tr>\n",
       "      <th>2014</th>\n",
       "      <td>86</td>\n",
       "    </tr>\n",
       "    <tr>\n",
       "      <th>2015</th>\n",
       "      <td>102</td>\n",
       "    </tr>\n",
       "    <tr>\n",
       "      <th>2016</th>\n",
       "      <td>82</td>\n",
       "    </tr>\n",
       "    <tr>\n",
       "      <th>2017</th>\n",
       "      <td>84</td>\n",
       "    </tr>\n",
       "  </tbody>\n",
       "</table>\n",
       "</div>"
      ],
      "text/plain": [
       "col_0  count\n",
       "datum       \n",
       "2005       4\n",
       "2006     100\n",
       "2007     122\n",
       "2008     101\n",
       "2009      97\n",
       "2010      90\n",
       "2011      96\n",
       "2012      82\n",
       "2013      82\n",
       "2014      86\n",
       "2015     102\n",
       "2016      82\n",
       "2017      84"
      ]
     },
     "execution_count": 48,
     "metadata": {},
     "output_type": "execute_result"
    }
   ],
   "source": [
    "df_merkel_years"
   ]
  },
  {
   "cell_type": "code",
   "execution_count": 57,
   "id": "f8e638da-01b8-45ff-b808-be34413fc998",
   "metadata": {},
   "outputs": [
    {
     "data": {
      "image/png": "[encoded data removed]",
      "text/plain": [
       "<Figure size 432x288 with 1 Axes>"
      ]
     },
     "metadata": {
      "needs_background": "light"
     },
     "output_type": "display_data"
    }
   ],
   "source": [
    "df_merkel_years.plot(legend=False);"
   ]
  },
  {
   "cell_type": "markdown",
   "id": "40102bd0-6f2a-4c11-94f7-a88fae0af837",
   "metadata": {},
   "source": [
    "### Verwendung von 'digital' in den Reden von Angela Merkel"
   ]
  },
  {
   "cell_type": "code",
   "execution_count": 50,
   "id": "362867cf-1fea-4d09-8f71-42e1996aa5c6",
   "metadata": {},
   "outputs": [],
   "source": [
    "df_merkel_digital = df_merkel[df_merkel.loc[:,'rohtext'].str.contains('[D]igital')]"
   ]
  },
  {
   "cell_type": "code",
   "execution_count": 51,
   "id": "e2411ee7-a245-4a99-9e2d-558336eb8fcd",
   "metadata": {},
   "outputs": [],
   "source": [
    "df_merkel_digital_years = pd.crosstab(index=df_merkel_digital.loc[:, 'datum'].dt.year, columns='count')"
   ]
  },
  {
   "cell_type": "code",
   "execution_count": 52,
   "id": "18d0544f-383a-4f0f-9e5c-8994445fea2e",
   "metadata": {},
   "outputs": [
    {
     "data": {
      "text/html": [
       "<div>\n",
       "<style scoped>\n",
       "    .dataframe tbody tr th:only-of-type {\n",
       "        vertical-align: middle;\n",
       "    }\n",
       "\n",
       "    .dataframe tbody tr th {\n",
       "        vertical-align: top;\n",
       "    }\n",
       "\n",
       "    .dataframe thead th {\n",
       "        text-align: right;\n",
       "    }\n",
       "</style>\n",
       "<table border=\"1\" class=\"dataframe\">\n",
       "  <thead>\n",
       "    <tr style=\"text-align: right;\">\n",
       "      <th>col_0</th>\n",
       "      <th>count</th>\n",
       "    </tr>\n",
       "    <tr>\n",
       "      <th>datum</th>\n",
       "      <th></th>\n",
       "    </tr>\n",
       "  </thead>\n",
       "  <tbody>\n",
       "    <tr>\n",
       "      <th>2006</th>\n",
       "      <td>2</td>\n",
       "    </tr>\n",
       "    <tr>\n",
       "      <th>2007</th>\n",
       "      <td>5</td>\n",
       "    </tr>\n",
       "    <tr>\n",
       "      <th>2008</th>\n",
       "      <td>3</td>\n",
       "    </tr>\n",
       "    <tr>\n",
       "      <th>2009</th>\n",
       "      <td>3</td>\n",
       "    </tr>\n",
       "    <tr>\n",
       "      <th>2010</th>\n",
       "      <td>4</td>\n",
       "    </tr>\n",
       "    <tr>\n",
       "      <th>2011</th>\n",
       "      <td>3</td>\n",
       "    </tr>\n",
       "    <tr>\n",
       "      <th>2012</th>\n",
       "      <td>1</td>\n",
       "    </tr>\n",
       "    <tr>\n",
       "      <th>2013</th>\n",
       "      <td>8</td>\n",
       "    </tr>\n",
       "    <tr>\n",
       "      <th>2014</th>\n",
       "      <td>28</td>\n",
       "    </tr>\n",
       "    <tr>\n",
       "      <th>2015</th>\n",
       "      <td>28</td>\n",
       "    </tr>\n",
       "    <tr>\n",
       "      <th>2016</th>\n",
       "      <td>34</td>\n",
       "    </tr>\n",
       "    <tr>\n",
       "      <th>2017</th>\n",
       "      <td>55</td>\n",
       "    </tr>\n",
       "  </tbody>\n",
       "</table>\n",
       "</div>"
      ],
      "text/plain": [
       "col_0  count\n",
       "datum       \n",
       "2006       2\n",
       "2007       5\n",
       "2008       3\n",
       "2009       3\n",
       "2010       4\n",
       "2011       3\n",
       "2012       1\n",
       "2013       8\n",
       "2014      28\n",
       "2015      28\n",
       "2016      34\n",
       "2017      55"
      ]
     },
     "execution_count": 52,
     "metadata": {},
     "output_type": "execute_result"
    }
   ],
   "source": [
    "df_merkel_digital_years "
   ]
  },
  {
   "cell_type": "code",
   "execution_count": 53,
   "id": "484dbaa9-2450-4ec5-9f35-db6cb241295c",
   "metadata": {},
   "outputs": [
    {
     "data": {
      "image/png": "[encoded data removed]",
      "text/plain": [
       "<Figure size 720x360 with 1 Axes>"
      ]
     },
     "metadata": {
      "needs_background": "light"
     },
     "output_type": "display_data"
    }
   ],
   "source": [
    "fig, ax = plt.subplots(figsize=(10,5))\n",
    "\n",
    "df_merkel_digital_years.plot(kind='bar', legend=False, ax=ax)\n",
    "\n",
    "ax.set_title(label='Absolute Anzahl der Erwähnung von \"digital\" von Angela Merkel nach Jahren',\n",
    "             weight='semibold', size=14)                \n",
    "ax.set_xlabel('Jahr', size=12)             \n",
    "ax.set_ylabel('absolute Häufigkeit der Erwähnungen',size=12)             \n",
    "ax.set_xticklabels(labels=ax.get_xticklabels(), rotation=45) \n",
    "ax.spines['top'].set_visible(False)\n",
    "ax.spines['right'].set_visible(False)\n",
    "plt.savefig('../img/Anzahl-Erwähnungen-digital-Jahr.png', dpi=300, bbox_inches='tight');"
   ]
  },
  {
   "cell_type": "code",
   "execution_count": 54,
   "id": "d3cd404b-06b3-4e40-98b1-e1a4d721e6c1",
   "metadata": {},
   "outputs": [],
   "source": [
    "df_merkel_digital_month = pd.crosstab(index=df_merkel_digital.loc[:, 'datum'].dt.to_period('M'), columns='count')"
   ]
  },
  {
   "cell_type": "code",
   "execution_count": 55,
   "id": "990ff4a6-ad15-40e6-9641-e6b7dc513e82",
   "metadata": {},
   "outputs": [
    {
     "data": {
      "image/png": "[encoded data removed]",
      "text/plain": [
       "<Figure size 720x360 with 1 Axes>"
      ]
     },
     "metadata": {
      "needs_background": "light"
     },
     "output_type": "display_data"
    }
   ],
   "source": [
    "fig, ax = plt.subplots(figsize=(10,5))\n",
    "\n",
    "df_merkel_rolling = df_merkel_digital_month.rolling(window=5).mean().plot(kind='line', legend=False, ax=ax)\n",
    "\n",
    "ax.set_title(label='Absolute Anzahl \"digital\" in Merkel-Reden gleitender Fünfmonatsdurchschnitt',\n",
    "             weight='semibold', size=14)                \n",
    "ax.set_xlabel('Monat', size=12)             \n",
    "ax.set_ylabel('absolute Häufigkeit der Erwähnungen',size=12)             \n",
    "# ax.set_xticklabels(labels=ax.get_xticklabels(), rotation=45) \n",
    "ax.spines['top'].set_visible(False)\n",
    "ax.spines['right'].set_visible(False)\n",
    "plt.savefig('../img/Anzahl-Erwähnungen-digital-Monat-Rolling.png', dpi=300, bbox_inches='tight');"
   ]
  },
  {
   "cell_type": "markdown",
   "id": "8764be03-aa83-48ef-98b6-75446fb252c7",
   "metadata": {},
   "source": [
    "## Lexical Diversity"
   ]
  },
  {
   "cell_type": "code",
   "execution_count": 59,
   "id": "c48a15d2-f072-414c-950d-474f51dc1803",
   "metadata": {},
   "outputs": [],
   "source": [
    "def lexical_diversity(tokens):\n",
    "    '''Functions calculates lexical diversity'''\n",
    "   \n",
    "    return len(set(tokens)) / len(tokens)"
   ]
  },
  {
   "cell_type": "code",
   "execution_count": 60,
   "id": "4eef0bdd-f459-4846-98e0-2e0da0e7c27b",
   "metadata": {},
   "outputs": [],
   "source": [
    "df.loc[:, 'lexical_diversity'] = df.loc[:,'tokens'].apply(lambda tokens: lexical_diversity(tokens))"
   ]
  },
  {
   "cell_type": "code",
   "execution_count": 61,
   "id": "5e5586d2-96db-4513-896b-1912e4c2a877",
   "metadata": {},
   "outputs": [
    {
     "data": {
      "text/plain": [
       "count    2983.000000\n",
       "mean        0.452796\n",
       "std         0.087142\n",
       "min         0.229778\n",
       "25%         0.384442\n",
       "50%         0.452082\n",
       "75%         0.518497\n",
       "max         0.833333\n",
       "Name: lexical_diversity, dtype: float64"
      ]
     },
     "execution_count": 61,
     "metadata": {},
     "output_type": "execute_result"
    }
   ],
   "source": [
    "df.loc[:, 'lexical_diversity'].describe()"
   ]
  },
  {
   "cell_type": "code",
   "execution_count": 62,
   "id": "ff3a8e5c-1cd5-4deb-9f7a-875daeae7d35",
   "metadata": {},
   "outputs": [],
   "source": [
    "df_ld = df.groupby('person')['lexical_diversity'].mean()"
   ]
  },
  {
   "cell_type": "code",
   "execution_count": 64,
   "id": "3ce23f4f-df1f-4dfa-aab8-97a4183c34a5",
   "metadata": {},
   "outputs": [
    {
     "data": {
      "text/plain": [
       "person\n",
       "Michael Glos                 0.833333\n",
       "Waldemar Ritter              0.549517\n",
       "Christina Weiss              0.538910\n",
       "Bernd Neumann                0.532752\n",
       "Monika Grütters              0.512733\n",
       "Rolf Schwanitz               0.508521\n",
       "Hans Martin Bury             0.506063\n",
       "Sigmar Gabriel               0.497537\n",
       "Renate Schmidt               0.490708\n",
       "Hildegard Müller             0.487794\n",
       "Ronald Pofalla               0.484907\n",
       "Michael Naumann              0.483612\n",
       "k.A.                         0.481195\n",
       "Otto Graf Lambsdorff         0.480898\n",
       "Frank-Walter Steinmeier      0.476316\n",
       "Thomas de Maizière           0.475534\n",
       "Christine Bergmann           0.473221\n",
       "Peter Struck                 0.472837\n",
       "Joschka Fischer              0.471557\n",
       "Julian Nida-Rümelin          0.470823\n",
       "Ursula von der Leyen         0.466951\n",
       "Brigitte Zypries             0.463893\n",
       "Franz Josef Jung             0.462174\n",
       "Joachim Gauck                0.460709\n",
       "Jürgen Trittin               0.459713\n",
       "Rudolf Scharping             0.458715\n",
       "Matthias Platzeck            0.455131\n",
       "Werner Müller                0.453939\n",
       "Herta Däubler-Gmelin         0.453812\n",
       "Wolfgang Schäuble            0.447455\n",
       "Aydan Özoğuz                 0.447115\n",
       "Heidemarie Wieczorek-Zeul    0.444651\n",
       "Brigitte Sauzay              0.440901\n",
       "Maria Böhmer                 0.438080\n",
       "Hans Bernhard Beus           0.435455\n",
       "Gerhard Schröder             0.430544\n",
       "Béla Anda                    0.429838\n",
       "Hermann Gröhe                0.428685\n",
       "Edelgard Bulmahn             0.425782\n",
       "Helmut Kohl                  0.424484\n",
       "Friedrich Merz               0.413087\n",
       "Angela Merkel                0.410379\n",
       "Roman Herzog                 0.394700\n",
       "Ilse Aigner                  0.380328\n",
       "Peer Steinbrück              0.379579\n",
       "Franz Müntefering            0.355397\n",
       "Name: lexical_diversity, dtype: float64"
      ]
     },
     "execution_count": 64,
     "metadata": {},
     "output_type": "execute_result"
    }
   ],
   "source": [
    "df_ld.sort_values(ascending=False)"
   ]
  },
  {
   "cell_type": "code",
   "execution_count": null,
   "id": "073717a2-2e77-414c-9776-99ebbebbdb9b",
   "metadata": {},
   "outputs": [],
   "source": []
  }
 ],
 "metadata": {
  "kernelspec": {
   "display_name": "Python 3 (ipykernel)",
   "language": "python",
   "name": "python3"
  },
  "language_info": {
   "codemirror_mode": {
    "name": "ipython",
    "version": 3
   },
   "file_extension": ".py",
   "mimetype": "text/x-python",
   "name": "python",
   "nbconvert_exporter": "python",
   "pygments_lexer": "ipython3",
   "version": "3.8.12"
  }
 },
 "nbformat": 4,
 "nbformat_minor": 5
}
