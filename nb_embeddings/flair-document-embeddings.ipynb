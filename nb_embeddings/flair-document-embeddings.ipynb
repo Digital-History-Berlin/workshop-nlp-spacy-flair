{
 "cells": [
  {
   "cell_type": "markdown",
   "id": "2c10da73-579c-46b5-88a4-c4b0fa84a8ac",
   "metadata": {},
   "source": [
    "# Flair Document Embeddings\n",
    "\n",
    "### Dokumentation\n",
    "\n",
    "https://github.com/flairNLP/flair/blob/master/resources/docs/TUTORIAL_5_DOCUMENT_EMBEDDINGS.md"
   ]
  },
  {
   "cell_type": "markdown",
   "id": "fdeac8e2-21b7-46c0-ac14-34ae95474dcb",
   "metadata": {},
   "source": [
    "# Import"
   ]
  },
  {
   "cell_type": "code",
   "execution_count": null,
   "id": "78aeb3a1-ec24-4656-be90-6918204cf8cb",
   "metadata": {},
   "outputs": [],
   "source": [
    "from flair.embeddings import WordEmbeddings, DocumentPoolEmbeddings\n",
    "from flair.data import Sentence\n",
    "from umap import UMAP\n",
    "\n",
    "import pandas as pd\n",
    "import plotly.express as px\n",
    "\n"
   ]
  },
  {
   "cell_type": "markdown",
   "id": "86a808dd-6d13-4f5d-9c06-c67d90c1cae3",
   "metadata": {},
   "source": [
    "## Beispiel für ein Document Embedding"
   ]
  },
  {
   "cell_type": "code",
   "execution_count": null,
   "id": "06208e42-c968-44dd-afda-43af9838bd3f",
   "metadata": {},
   "outputs": [],
   "source": [
    "text = '''Biden befürchtet Einmarsch \"in den nächsten Tagen\"\n",
    "            Stand: 18.02.2022 06:01 Uhr\n",
    "            Die Gefahr eines russischen Einmarsches in die Ukraine schätzt US-Präsident Biden als \"sehr hoch\" ein - schon in den kommenden Tagen könne es dazu kommen. Die russische Regierung wies den Vize-US-Botschafter in Moskau aus.\n",
    "            US-Präsident Joe Biden befürchtet trotz aller Beteuerungen aus Moskau einen russischen Einmarsch in die Ukraine in den kommenden Tagen. Biden sagte, die Gefahr einer Invasion sei \"sehr hoch\". Nach seiner Einschätzung könne es \"in den nächsten paar Tagen\" dazu kommen. Es gebe keine Pläne dafür, dass er mit dem russischen Präsidenten Wladimir Putin telefonieren werde, fügte er hinzu.\n",
    "            Der Kreml erklärte laut der russischen Agentur RIA, Bidens Warnung verstärke die Spannungen noch. Der stellvertretende Außenminister Sergej Werschinin wies vor dem UN-Sicherheitsrat die Befürchtungen des Westens vor einem bevorstehenden Einmarsch erneut zurück. \"Ich denke, wir haben genug darüber spekuliert\", sagte er. Eine Invasion sei entgegen der Warnungen ausgeblieben. In Richtung der USA und ihrer westlichen Verbündeten sagte Werschinin: \"Mein Rat an Sie ist, sich nicht in eine unangenehme Situation zu begeben.\"\n",
    "            Biden will am heutigen Freitag mit Verbündeten über das weitere Vorgehen beraten. Themen der Telefonschalte am Nachmittag (Ortszeit) sollten unter anderem die Aufstockung der russischen Truppen an der Grenze zur Ukraine und weitere diplomatische Bemühungen sein, hieß es aus dem Weißen Haus. Neben Kanadas Premierminister Justin Trudeau sollen führende Politiker aus Deutschland, Frankreich, Großbritannien, Italien, Polen und Rumänien an dem Gespräch teilnehmen, teilte Trudeaus Büro am Donnerstagabend (Ortszeit) mit. Auch die Europäische Union und die NATO seien vertreten.\n",
    "            US-Außenminister Antony Blinken will sich nächste Woche mit seinem russischen Kollegen Sergej Lawrow treffen - solange Russland nicht in der Ukraine einmarschiert. Blinken habe vorgeschlagen, sich mit Lawrow \"nächste Woche in Europa zu treffen. Die Russen haben mit Terminvorschlägen für Ende nächster Woche geantwortet, was wir unter der Bedingung akzeptiert haben, dass es keine russische Invasion der Ukraine gibt\", erklärte der Sprecher des Außenministeriums, Ned Price, am Abend.\n",
    "            Zuvor hatte Blinken vor dem UN-Sicherheitsrat ebenfalls gewarnt, Russland bereite sich auf einen Angriff in den kommenden Tagen vor. Russlands Plan sei, dafür einen Vorwand zu schaffen. \"Dies könnte ein gewaltsames Ereignis sein, das Russland gegen die Ukraine vorbringen wird, oder eine unerhörte Anschuldigung, die Russland gegen die ukrainische Regierung erheben wird\", sagte er. Möglich wären ihm zufolge ein vermeintlicher Terroranschlag in Russland, die \"erfundene Entdeckung eines Massengrabes\" und Vorwürfe eines Völkermordes, ein inszenierter Drohnenangriff auf Zivilisten oder ein vorgetäuschter oder echter Angriff mit Chemiewaffen.\n",
    "            Russische Medien würden bereits \"falsche Alarme\" verbreiten, so Blinken. Ein russischer Angriff könne auch die ukrainische Hauptstadt Kiew einbeziehen. Der US-Außenminister betonte, Diplomatie sei weiter der wichtigste Weg zur Lösung der Krise. Er habe daher seinem russischen Amtskollegen Sergej Lawrow ein persönliches Treffen in der kommenden Woche vorgeschlagen. \n",
    "            '''"
   ]
  },
  {
   "cell_type": "code",
   "execution_count": null,
   "id": "66b709e3-6e70-4a44-ad3e-586c81caf30e",
   "metadata": {},
   "outputs": [],
   "source": [
    "# Erstellen eines Beispielsatzes\n",
    "sentence = Sentence(text)"
   ]
  },
  {
   "cell_type": "code",
   "execution_count": null,
   "id": "f8d164df-76d1-498f-bebc-3ab3d5a22042",
   "metadata": {},
   "outputs": [],
   "source": [
    "# Initialisieren der Word Embeddings\n",
    "embedding = WordEmbeddings('de')\n",
    "\n",
    "# Initialisieren der Document Embeddings, mode = mean\n",
    "document_embeddings = DocumentPoolEmbeddings([embedding])"
   ]
  },
  {
   "cell_type": "code",
   "execution_count": null,
   "id": "202d9a55-1800-4b8b-9c8b-a0f0bf9bbfb8",
   "metadata": {
    "tags": []
   },
   "outputs": [],
   "source": [
    "# Das Sentence-Objekt in das Documente Embedding einbetten\n",
    "document_embeddings.embed(sentence)\n",
    "\n",
    "# Check\n",
    "print(sentence.embedding)\n",
    "print(sentence.embedding.cpu().detach().numpy()) # als numpy array konvertiert"
   ]
  },
  {
   "cell_type": "markdown",
   "id": "77dd0c96-7324-4080-a2e1-c32d5b2beb53",
   "metadata": {},
   "source": [
    "## Document Embeddings für die Bundestagsreden"
   ]
  },
  {
   "cell_type": "code",
   "execution_count": null,
   "id": "6c31c8fa-a8a9-430a-9313-6f6baffc3ccd",
   "metadata": {},
   "outputs": [],
   "source": [
    "df = pd.read_xml('../data/bundesregierung.xml')"
   ]
  },
  {
   "cell_type": "code",
   "execution_count": null,
   "id": "7f2ee8ac-e0b6-4c95-99a2-20bc54b00c6d",
   "metadata": {},
   "outputs": [],
   "source": [
    "# change dtype to datetime\n",
    "df.loc[:, 'datum'] = pd.to_datetime(df.loc[:, 'datum'])"
   ]
  },
  {
   "cell_type": "code",
   "execution_count": null,
   "id": "cbfc2034-f803-45c5-a056-537b87d092ec",
   "metadata": {},
   "outputs": [],
   "source": [
    "# df = df.head(10)"
   ]
  },
  {
   "cell_type": "code",
   "execution_count": null,
   "id": "386586f0-19ac-4e59-abc0-82beb4a04401",
   "metadata": {},
   "outputs": [],
   "source": [
    "df.info()"
   ]
  },
  {
   "cell_type": "code",
   "execution_count": null,
   "id": "ab4f482c-bb33-4be2-b3fc-40948c8aec13",
   "metadata": {},
   "outputs": [],
   "source": [
    "def create_numpy_array(text, document_embeddings):\n",
    "    '''\n",
    "    '''\n",
    "    \n",
    "    sentence = Sentence(text)\n",
    "    document_embeddings.embed(sentence)\n",
    "    \n",
    "    return sentence.embedding.cpu().detach().numpy()  "
   ]
  },
  {
   "cell_type": "code",
   "execution_count": null,
   "id": "5d1db009-4839-4963-9b91-04d3083e120a",
   "metadata": {},
   "outputs": [],
   "source": [
    "%%time\n",
    "\n",
    "df.loc[:, 'doc_embedding'] = df.loc[:, 'rohtext'].apply(lambda text: create_numpy_array(text, document_embeddings))"
   ]
  },
  {
   "cell_type": "code",
   "execution_count": null,
   "id": "8ad116a8-4923-423b-958a-d3124ff3d7eb",
   "metadata": {},
   "outputs": [],
   "source": [
    "df.head()"
   ]
  },
  {
   "cell_type": "code",
   "execution_count": null,
   "id": "f9554442-773b-4e5b-b7c0-b76d56a3c759",
   "metadata": {},
   "outputs": [],
   "source": [
    "df.to_json('../data/reden-bundestag-doc-embeddings.json')"
   ]
  },
  {
   "cell_type": "markdown",
   "id": "794d5f5a-b12d-4f4d-aa95-a0765c009b48",
   "metadata": {},
   "source": [
    "## Dimensionsreduktion"
   ]
  },
  {
   "cell_type": "code",
   "execution_count": null,
   "id": "0d1cf8a5-3fb7-4b51-ae42-d031886081e6",
   "metadata": {},
   "outputs": [],
   "source": [
    "reducer_3d = UMAP(n_components=3, metric='cosine', n_neighbors=15, min_dist=0.1)"
   ]
  },
  {
   "cell_type": "code",
   "execution_count": null,
   "id": "864abf67-458f-4b0d-8d88-5d6491b7192a",
   "metadata": {},
   "outputs": [],
   "source": [
    "reduced_matrix_3d = reducer_3d.fit_transform(df.loc[:, 'doc_embedding'].to_list())"
   ]
  },
  {
   "cell_type": "code",
   "execution_count": null,
   "id": "207bde99-282e-4966-b131-3fdadc692eca",
   "metadata": {},
   "outputs": [],
   "source": [
    "reduced_matrix_3d.shape"
   ]
  },
  {
   "cell_type": "code",
   "execution_count": null,
   "id": "bd4c488d-2c5f-4268-a3cb-8bf8f0001ede",
   "metadata": {},
   "outputs": [],
   "source": [
    "reduced_matrix_3d"
   ]
  },
  {
   "cell_type": "code",
   "execution_count": null,
   "id": "e0629b71-d39c-406a-b50c-fead058f66e8",
   "metadata": {},
   "outputs": [],
   "source": [
    "df_3d = pd.DataFrame.from_records(reduced_matrix_3d, columns=['x', 'y', 'z'])"
   ]
  },
  {
   "cell_type": "code",
   "execution_count": null,
   "id": "651609d5-861a-4710-8ed3-168e06b76a9f",
   "metadata": {},
   "outputs": [],
   "source": [
    "df_3d.head()"
   ]
  },
  {
   "cell_type": "code",
   "execution_count": null,
   "id": "a7ea0910-24b4-49dc-8d37-5e5ddbbff4d8",
   "metadata": {},
   "outputs": [],
   "source": [
    "df_all = df.join(df_3d)"
   ]
  },
  {
   "cell_type": "code",
   "execution_count": null,
   "id": "620dc79b-b32a-4cce-9a3e-98db743675fb",
   "metadata": {},
   "outputs": [],
   "source": [
    "df_all.head()"
   ]
  },
  {
   "cell_type": "markdown",
   "id": "020f84ee-e9ca-418c-82c5-03407683389c",
   "metadata": {},
   "source": [
    "## Visualisieren der Document Embeddings"
   ]
  },
  {
   "cell_type": "code",
   "execution_count": null,
   "id": "295ea731-79a9-4484-a84b-483452aba43e",
   "metadata": {},
   "outputs": [],
   "source": [
    "df_all.loc[:, 'Redner:innen'] = ''"
   ]
  },
  {
   "cell_type": "code",
   "execution_count": null,
   "id": "54062b66-8da1-4d8e-80c2-7b48f362ce31",
   "metadata": {},
   "outputs": [],
   "source": [
    "search_terms = [ 'Angela Merkel', 'Gerhard Schröder', 'Helmut Kohl', 'Bernd Neumann', 'Michael Naumann']\n",
    "\n",
    "for search_term in search_terms:\n",
    "    \n",
    "    subframe = df_all.query(f\"person == '{search_term}'\")\n",
    "    df_all.loc[subframe.index, 'Redner:innen'] = search_term"
   ]
  },
  {
   "cell_type": "code",
   "execution_count": null,
   "id": "f14a8241-2470-43b8-8a72-4c3e64d81bd5",
   "metadata": {},
   "outputs": [],
   "source": [
    "params = {'hover_data': {c: False for c in df_all.columns},\n",
    "          'hover_name': 'person'}"
   ]
  },
  {
   "cell_type": "code",
   "execution_count": null,
   "id": "cdc369b6-6374-481e-8922-4930b0bd01e9",
   "metadata": {},
   "outputs": [],
   "source": [
    "fig = px.scatter_3d(df_all, x='x', y='y', z='z',\n",
    "                    color='Redner:innen',\n",
    "                    opacity=0.7, \n",
    "                    size_max=3, \n",
    "                    width=800, \n",
    "                    height=800, \n",
    "                    **params)\n",
    "fig.show()\n",
    "fig.write_html('../img/alle-reden-3d-doc-embeddings.html')"
   ]
  },
  {
   "cell_type": "markdown",
   "id": "c97a4b76-b085-494e-b0db-f9affcd403af",
   "metadata": {},
   "source": [
    "## Visualisieren der Reden der TOP 3 Redner"
   ]
  },
  {
   "cell_type": "code",
   "execution_count": null,
   "id": "404cb518-fbae-47c1-a566-a01463502a76",
   "metadata": {},
   "outputs": [],
   "source": [
    "df_top3 = df_all[(df_all.loc[:, 'person'] == 'Angela Merkel') | \\\n",
    "                 (df_all.loc[:, 'person'] == 'Gerhard Schröder') |\\\n",
    "                 (df_all.loc[:, 'person'] == 'Helmut Kohl')]"
   ]
  },
  {
   "cell_type": "code",
   "execution_count": null,
   "id": "9e7f42d5-3e1b-4ebb-bcc1-b16fd6d10983",
   "metadata": {},
   "outputs": [],
   "source": [
    "params = {'hover_data': {c: False for c in df_top3.columns},\n",
    "          'hover_name': 'person'}"
   ]
  },
  {
   "cell_type": "code",
   "execution_count": null,
   "id": "f5a133cf-8002-48c6-9daf-b80fea7ff96d",
   "metadata": {},
   "outputs": [],
   "source": [
    "fig = px.scatter_3d(df_top3, x='x', y='y', z='z',\n",
    "                    color='person',\n",
    "                    opacity=0.7, \n",
    "                    size_max=3, \n",
    "                    width=800, \n",
    "                    height=800, \n",
    "                    **params)\n",
    "fig.show()\n",
    "fig.write_html('../img/top3-redner-3d-doc-embeddings.html')"
   ]
  },
  {
   "cell_type": "markdown",
   "id": "8537d6b2-7cbb-4d6a-91f5-f82d2a92d597",
   "metadata": {},
   "source": [
    "## weitere Optionen\n",
    "\n",
    "* Labeln nach Parteien und dann visualisieren\n",
    "* vernünftiges Hover-Template bei Plotly erstellen\n",
    "* Umsetzung mit Bokeh testen\n",
    "* Anderer Algorithmus zur Dimensionsreduzierung: t-SNE, PCA\n",
    "* Reden visualisieren im zeitlichen Verlauf mit Hilfe der Datums-Spalte: \n",
    "    * Range-Slider für Zeitraum bei Bokeh ist möglich\n",
    "    * Was ist bei Plotly dazu möglich"
   ]
  },
  {
   "cell_type": "code",
   "execution_count": null,
   "id": "02572d78-d6f6-4b18-9459-6f151e6159e5",
   "metadata": {},
   "outputs": [],
   "source": []
  }
 ],
 "metadata": {
  "kernelspec": {
   "display_name": "Python 3 (ipykernel)",
   "language": "python",
   "name": "python3"
  },
  "language_info": {
   "codemirror_mode": {
    "name": "ipython",
    "version": 3
   },
   "file_extension": ".py",
   "mimetype": "text/x-python",
   "name": "python",
   "nbconvert_exporter": "python",
   "pygments_lexer": "ipython3",
   "version": "3.8.12"
  }
 },
 "nbformat": 4,
 "nbformat_minor": 5
}
