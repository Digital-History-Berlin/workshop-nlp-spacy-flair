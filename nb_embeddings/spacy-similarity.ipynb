{
 "cells": [
  {
   "cell_type": "markdown",
   "id": "a1b5716e-ead0-45f3-80a2-9feedf8d2ca7",
   "metadata": {},
   "source": [
    "# Prüfen von Similarities mit Spacy"
   ]
  },
  {
   "cell_type": "code",
   "execution_count": null,
   "id": "b48ded51-6406-4e00-9159-f32867a783bd",
   "metadata": {},
   "outputs": [],
   "source": [
    "import spacy"
   ]
  },
  {
   "cell_type": "markdown",
   "id": "7d805c70-fe5f-4e67-9391-512c6a3ccd4a",
   "metadata": {},
   "source": [
    "## Similarity prüfen von Sätzen zu einem Suchwort"
   ]
  },
  {
   "cell_type": "code",
   "execution_count": null,
   "id": "772844eb-55d7-4504-8a49-809bbe7146ce",
   "metadata": {},
   "outputs": [],
   "source": [
    "text_1 = '''Biden befürchtet Einmarsch \"in den nächsten Tagen\"\n",
    "            Stand: 18.02.2022 06:01 Uhr\n",
    "            Die Gefahr eines russischen Einmarsches in die Ukraine schätzt US-Präsident Biden als \"sehr hoch\" ein - schon in den kommenden Tagen könne es dazu kommen. Die russische Regierung wies den Vize-US-Botschafter in Moskau aus.\n",
    "            US-Präsident Joe Biden befürchtet trotz aller Beteuerungen aus Moskau einen russischen Einmarsch in die Ukraine in den kommenden Tagen. Biden sagte, die Gefahr einer Invasion sei \"sehr hoch\". Nach seiner Einschätzung könne es \"in den nächsten paar Tagen\" dazu kommen. Es gebe keine Pläne dafür, dass er mit dem russischen Präsidenten Wladimir Putin telefonieren werde, fügte er hinzu.\n",
    "            Der Kreml erklärte laut der russischen Agentur RIA, Bidens Warnung verstärke die Spannungen noch. Der stellvertretende Außenminister Sergej Werschinin wies vor dem UN-Sicherheitsrat die Befürchtungen des Westens vor einem bevorstehenden Einmarsch erneut zurück. \"Ich denke, wir haben genug darüber spekuliert\", sagte er. Eine Invasion sei entgegen der Warnungen ausgeblieben. In Richtung der USA und ihrer westlichen Verbündeten sagte Werschinin: \"Mein Rat an Sie ist, sich nicht in eine unangenehme Situation zu begeben.\"\n",
    "            Biden will am heutigen Freitag mit Verbündeten über das weitere Vorgehen beraten. Themen der Telefonschalte am Nachmittag (Ortszeit) sollten unter anderem die Aufstockung der russischen Truppen an der Grenze zur Ukraine und weitere diplomatische Bemühungen sein, hieß es aus dem Weißen Haus. Neben Kanadas Premierminister Justin Trudeau sollen führende Politiker aus Deutschland, Frankreich, Großbritannien, Italien, Polen und Rumänien an dem Gespräch teilnehmen, teilte Trudeaus Büro am Donnerstagabend (Ortszeit) mit. Auch die Europäische Union und die NATO seien vertreten.\n",
    "            US-Außenminister Antony Blinken will sich nächste Woche mit seinem russischen Kollegen Sergej Lawrow treffen - solange Russland nicht in der Ukraine einmarschiert. Blinken habe vorgeschlagen, sich mit Lawrow \"nächste Woche in Europa zu treffen. Die Russen haben mit Terminvorschlägen für Ende nächster Woche geantwortet, was wir unter der Bedingung akzeptiert haben, dass es keine russische Invasion der Ukraine gibt\", erklärte der Sprecher des Außenministeriums, Ned Price, am Abend.\n",
    "            Zuvor hatte Blinken vor dem UN-Sicherheitsrat ebenfalls gewarnt, Russland bereite sich auf einen Angriff in den kommenden Tagen vor. Russlands Plan sei, dafür einen Vorwand zu schaffen. \"Dies könnte ein gewaltsames Ereignis sein, das Russland gegen die Ukraine vorbringen wird, oder eine unerhörte Anschuldigung, die Russland gegen die ukrainische Regierung erheben wird\", sagte er. Möglich wären ihm zufolge ein vermeintlicher Terroranschlag in Russland, die \"erfundene Entdeckung eines Massengrabes\" und Vorwürfe eines Völkermordes, ein inszenierter Drohnenangriff auf Zivilisten oder ein vorgetäuschter oder echter Angriff mit Chemiewaffen.\n",
    "            Russische Medien würden bereits \"falsche Alarme\" verbreiten, so Blinken. Ein russischer Angriff könne auch die ukrainische Hauptstadt Kiew einbeziehen. Der US-Außenminister betonte, Diplomatie sei weiter der wichtigste Weg zur Lösung der Krise. Er habe daher seinem russischen Amtskollegen Sergej Lawrow ein persönliches Treffen in der kommenden Woche vorgeschlagen.'''"
   ]
  },
  {
   "cell_type": "code",
   "execution_count": null,
   "id": "c631080a-0b2f-49b0-bb10-0c85f7ffc7fb",
   "metadata": {},
   "outputs": [],
   "source": [
    "nlp = spacy.load('de_core_news_md') "
   ]
  },
  {
   "cell_type": "code",
   "execution_count": null,
   "id": "ff934e62-4246-4ca9-88b9-99a6f465cec5",
   "metadata": {},
   "outputs": [],
   "source": [
    "doc = nlp(text_1)"
   ]
  },
  {
   "cell_type": "code",
   "execution_count": null,
   "id": "cc8a288d-2ea3-4fda-aa39-1d3c0fb8f034",
   "metadata": {},
   "outputs": [],
   "source": [
    "token = nlp('Krieg')"
   ]
  },
  {
   "cell_type": "code",
   "execution_count": null,
   "id": "f9a62682-930b-40e5-9c82-3cb4132c29df",
   "metadata": {},
   "outputs": [],
   "source": [
    "token.tensor"
   ]
  },
  {
   "cell_type": "code",
   "execution_count": null,
   "id": "be93405d-4e76-4f24-b70e-70b02648b3f1",
   "metadata": {
    "tags": []
   },
   "outputs": [],
   "source": [
    "for sent in doc.sents:\n",
    "    print(sent)\n",
    "    print(f'Similarity zu {token.text} ist {token.similarity(sent)}.\\n')"
   ]
  },
  {
   "cell_type": "markdown",
   "id": "b6e7fbb6-dbdb-4371-965a-eb75403e23ba",
   "metadata": {},
   "source": [
    "## Prüfen der Similarity zwischen den Texten"
   ]
  },
  {
   "cell_type": "code",
   "execution_count": null,
   "id": "f78e7e7d-b6dd-4cf1-8224-247e6676870b",
   "metadata": {
    "tags": []
   },
   "outputs": [],
   "source": [
    "text_2 = '''Moskau beziffert erstmals Verluste\n",
    "Stand: 02.03.2022 21:24 Uhr\n",
    "Russland hat zum ersten Mal seit Beginn der Invasion in der Ukraine Opferzahlen genannt: Demnach sind bisher 498 russische Soldaten getötet worden. Die Ukraine spricht hingegen von knapp 7000 getöteten Russen.\n",
    "Im Krieg in der Ukraine sind nach Angaben des Verteidigungsministeriums in Moskau bisher 498 russische Soldaten getötet worden. Zudem seien 1597 Soldaten verletzt worden, teilte das Ministerium mit. Es sind die ersten offiziellen Zahlen dazu aus Russland seit Kriegsbeginn am Donnerstag voriger Woche.\n",
    "Angaben zu Kriegsverlauf, Beschuss und Opfern durch offizielle Stellen der russischen und der ukrainischen Konfliktparteien können in der aktuellen Lage nicht unmittelbar von unabhängiger Stelle überprüft werden.\n",
    "Die Ukraine sprach zuletzt von rund 7000 getöteten russischen Soldaten. Diese Angaben seien falsch, sagte der Sprecher des russischen Verteidigungsministeriums, Igor Konaschenkow. Er versicherte, die Angehörigen der Toten erhielten jede notwendige Unterstützung. Er erklärte außerdem, dass weder Wehrpflichtige noch Kadetten an der Operation in der Ukraine beteiligt seien und wies damit entsprechende Medienberichte zurück.\n",
    "Auf ukrainischer Seite habe es bislang 2870 getötete \"Soldaten und Nationalisten\" sowie etwa 3700 verletzte Menschen gegeben, so Konaschenkow.\n",
    "Die Ukraine hat zu Verlusten in den eigenen Reihen keine aktuellen Angaben gemacht.\n",
    "Nach Angaben des ukrainischen Rettungsdienstes wurden durch die russische Invasion bislang mehr als 2000 Zivilisten getötet. Hunderte Gebäude seien zerstört worden, darunter Krankenhäuser, Kindergärten und Wohngebäude, heißt es in einer Erklärung. \"Jede Stunde verlieren Kinder, Frauen und Verteidigungskräfte ihr Leben.\"\n",
    "Nach Einschätzung der Weltgesundheitsorganisation droht in der Ukraine zudem ein unmittelbarer Mangel an Krebsmedikamenten und Insulin. Am Donnerstag sollen erste Lieferungen von Hilfsgütern für ukrainische Flüchtlinge in Polen eintreffen, erklärt die WHO. Dazu gehörten sechs Tonnen Hilfsgüter für die Traumabehandlung und Notfallchirugie.'''"
   ]
  },
  {
   "cell_type": "code",
   "execution_count": null,
   "id": "cfc8b407-8630-4322-bccb-66337a700308",
   "metadata": {},
   "outputs": [],
   "source": [
    "doc_2 = nlp(text_2)"
   ]
  },
  {
   "cell_type": "code",
   "execution_count": null,
   "id": "25394fae-bea7-412a-9f49-d11387612273",
   "metadata": {},
   "outputs": [],
   "source": [
    "doc.similarity(doc_2)"
   ]
  },
  {
   "cell_type": "code",
   "execution_count": null,
   "id": "e73fd499-9381-4bc5-ada8-af734eddb762",
   "metadata": {},
   "outputs": [],
   "source": [
    "text_3 = '''Die Corona-Lage im Überblick\n",
    "Stand: 03.03.2022 10:54 Uhr\n",
    "Welche Landkreise sind momentan besonders betroffen? Wie istSeit Beginn der Pandemie veröffentlicht das Robert Koch-Institut für Deutschland Zahlen zu den bestätigten Infektionen mit dem neuartigen Coronavirus. Später kamen Angaben zu Todesfällen und tägliche Schätzungen zur Zahl genesener Patienten hinzu. Aus der Kombination dieser drei Werte ergibt sich die Zahl der aktuell Infizierten. Diese Berechnung aktiver Infektionsfälle baut auf den labortechnisch bestätigten Fällen auf und berücksichtigt nicht die Dunkelziffer unerkannter Infektionen, die sich nur schätzen lässt.\n",
    "    Die Omikron-Variante hat die Ausbreitung des Coronavirus beschleunigt und zu Höchstwerten bei der 7-Tage-Inzidenz geführt. Um dieses dynamische Infektionsgeschehen mit sehr hohen Inzidenzwerten abbilden zu können, wurde die Kartendarstellung erstmals seit Beginn der Pandemie grundlegend angepasst. Im Gegensatz zu früheren Änderungen handelt sich nicht ausschließlich um eine Erweiterung der bestehenden Skala, sondern teilweise um eine Neueinteilung der Wertebereiche und der dafür verwendeten Farben. Unverändert blieben die Intervalle und Farben für alle Inzidenzwerte von 0 bis 100. Der folgende Wertebereich reicht nun bis 250, behielt aber seine bisherige Farbe. Danach geht es zunächst in 250er-Schritten weiter und ab einem Inzidenzwert von 1000 in 500er-Schritten. Die Farbwahl orientiert sich dabei am Heatmap-Prinzip. Im Bereich hoher Inzidenzwerte kommen sowohl neue Farbtöne zum Einsatz als auch mehrere bisher verwendete Farben in einer geänderten Abfolge.\n",
    "    Vereinzelt werden Fälle von Neuinfektionen ohne Angabe der Altersgruppe der betroffenen Personen an das RKI gemeldet. In seltenen Fällen ist zu beobachten, dass für eine größere Zahl der Neuinfektionen in einem Kreis oder einer Stadt keine Angaben zur Altersgruppe vorliegen. Die Folge kann dann sein, dass die 7-Tage-Inzidenz für die Gesamtbevölkerung höher liegt als die angegebenen Werte in allen einzelnen Altersgruppen.'''"
   ]
  },
  {
   "cell_type": "code",
   "execution_count": null,
   "id": "f8410c59-b423-4530-b3fd-15d57d86604f",
   "metadata": {},
   "outputs": [],
   "source": [
    "doc_3 = nlp(text_3)"
   ]
  },
  {
   "cell_type": "code",
   "execution_count": null,
   "id": "83172bea-6a19-497a-b8c2-88f78fab92cb",
   "metadata": {},
   "outputs": [],
   "source": [
    "doc.similarity(doc_3)"
   ]
  },
  {
   "cell_type": "markdown",
   "id": "bc03a69b-0b40-4349-9daf-9c04d6fdc7a8",
   "metadata": {},
   "source": [
    "## Similarity der Texte ohne Stoppwörter und Zeichensetzung"
   ]
  },
  {
   "cell_type": "code",
   "execution_count": null,
   "id": "b6d513a8-513e-4842-8849-ba236fbb9e77",
   "metadata": {},
   "outputs": [],
   "source": [
    "import string\n",
    "\n",
    "with open('../data/stopwords.txt', 'r', encoding='utf8') as f:\n",
    "    stopwords = f.read().splitlines()\n",
    "\n",
    "text_list = []\n",
    "for text in [ text_1, text_2, text_3 ]:  \n",
    "    text = nlp(text)\n",
    "    text = [ token.text for token in text if token.text not in stopwords and  token.text not in string.punctuation ] \n",
    "    text = ' '.join(text)\n",
    "    text_list.append(text)"
   ]
  },
  {
   "cell_type": "code",
   "execution_count": null,
   "id": "bc9bd5e4-a0db-49f1-b01b-a49ec47a6c68",
   "metadata": {},
   "outputs": [],
   "source": [
    "type(text_list[0])"
   ]
  },
  {
   "cell_type": "code",
   "execution_count": null,
   "id": "23accd01-09c4-4a43-b1a3-fe0f01fc17b5",
   "metadata": {},
   "outputs": [],
   "source": [
    "text_list[1]"
   ]
  },
  {
   "cell_type": "code",
   "execution_count": null,
   "id": "202e00ed-8d95-4d3a-8ce6-393fea6b04d9",
   "metadata": {},
   "outputs": [],
   "source": [
    "docs = [ nlp(text) for text in text_list ]"
   ]
  },
  {
   "cell_type": "code",
   "execution_count": null,
   "id": "40740b58-946f-4654-af35-dafd71fc953c",
   "metadata": {},
   "outputs": [],
   "source": [
    "type(docs[0])"
   ]
  },
  {
   "cell_type": "code",
   "execution_count": null,
   "id": "b6312fe9-5ed2-4401-b44e-7906b89414f9",
   "metadata": {},
   "outputs": [],
   "source": [
    "# Einmarsch und Verluste\n",
    "docs[0].similarity(docs[1])"
   ]
  },
  {
   "cell_type": "code",
   "execution_count": null,
   "id": "d9bc26e6-ac4a-47c8-9be5-2d4955ea842a",
   "metadata": {},
   "outputs": [],
   "source": [
    "# Einmarsch und Corona\n",
    "docs[0].similarity(docs[2])"
   ]
  },
  {
   "cell_type": "code",
   "execution_count": null,
   "id": "28c75f71-10be-48ba-9513-67143784d0df",
   "metadata": {},
   "outputs": [],
   "source": [
    "# Verluste und Corona\n",
    "docs[1].similarity(docs[2])"
   ]
  },
  {
   "cell_type": "markdown",
   "id": "690723ba-4afd-47c0-9b3f-22053f667eb9",
   "metadata": {},
   "source": [
    "## Similarity der Texte nur mit Nomen"
   ]
  },
  {
   "cell_type": "code",
   "execution_count": null,
   "id": "73867c19-6a81-499d-a665-48a064ea02ad",
   "metadata": {},
   "outputs": [],
   "source": [
    "noun_texts = []\n",
    "for doc in docs:\n",
    "    text = [ token.text for token in doc if token.pos_ == 'NOUN']\n",
    "    text = ' '.join(text)\n",
    "    noun_texts.append(text)"
   ]
  },
  {
   "cell_type": "code",
   "execution_count": null,
   "id": "d4928333-6ba6-41ec-a542-73bf9329de31",
   "metadata": {},
   "outputs": [],
   "source": [
    "noun_docs = [ nlp(text) for text in noun_texts ]"
   ]
  },
  {
   "cell_type": "code",
   "execution_count": null,
   "id": "d6b89469-b4fb-47e2-bef2-5fdd33e087e9",
   "metadata": {
    "tags": []
   },
   "outputs": [],
   "source": [
    "# Einmarsch und Verluste\n",
    "noun_docs[0].similarity(noun_docs[1])"
   ]
  },
  {
   "cell_type": "code",
   "execution_count": null,
   "id": "a015dcac-04bd-45a1-81b2-4fe3c66a8794",
   "metadata": {
    "tags": []
   },
   "outputs": [],
   "source": [
    "# Einmarsch und Corona\n",
    "noun_docs[0].similarity(noun_docs[2])"
   ]
  },
  {
   "cell_type": "code",
   "execution_count": null,
   "id": "e83c7757-2177-4a64-ac6f-96fb891f185a",
   "metadata": {
    "tags": []
   },
   "outputs": [],
   "source": [
    "# Verluste und Corona\n",
    "noun_docs[1].similarity(noun_docs[2])"
   ]
  },
  {
   "cell_type": "markdown",
   "id": "879abd4d-734b-4c10-8525-9bd68c058b50",
   "metadata": {},
   "source": [
    "## Similarity der Texte über die Named Entities"
   ]
  },
  {
   "cell_type": "code",
   "execution_count": null,
   "id": "67692db9-900b-462c-b965-9567a824ee7d",
   "metadata": {},
   "outputs": [],
   "source": [
    "ne_docs = []\n",
    "for text in [ text_1, text_2, text_3 ]:  \n",
    "    doc = nlp(text)\n",
    "    ne_docs.append(doc)"
   ]
  },
  {
   "cell_type": "code",
   "execution_count": null,
   "id": "7f8414e7-f5f2-4bc7-bcc5-e0921e808c15",
   "metadata": {},
   "outputs": [],
   "source": [
    "spans = {}\n",
    "\n",
    "for x, doc in enumerate(ne_docs):\n",
    "    named_entity_span = [ doc[i].text for i in range(len(doc)) if doc[i].ent_type != 0 ]\n",
    "    named_entity_span = [ token for token in named_entity_span if token not in string.punctuation ]\n",
    "    print(named_entity_span)\n",
    "    named_entity_span = ' '.join(named_entity_span)\n",
    "    named_entity_span = nlp(named_entity_span)\n",
    "    spans.update({x:named_entity_span})\n",
    "  "
   ]
  },
  {
   "cell_type": "code",
   "execution_count": null,
   "id": "c5471279-27ef-4222-a46e-e33e29973194",
   "metadata": {
    "tags": []
   },
   "outputs": [],
   "source": [
    "# Einmarsch und Verluste\n",
    "spans[0].similarity(spans[1])"
   ]
  },
  {
   "cell_type": "code",
   "execution_count": null,
   "id": "046adf82-672a-448e-b9a3-ec06cde12873",
   "metadata": {
    "tags": []
   },
   "outputs": [],
   "source": [
    "# Einmarsch und Corona\n",
    "spans[0].similarity(spans[2])"
   ]
  },
  {
   "cell_type": "code",
   "execution_count": null,
   "id": "f097cc84-5308-4a3b-85fc-8a2928531883",
   "metadata": {
    "tags": []
   },
   "outputs": [],
   "source": [
    "# Verluste und Corona\n",
    "spans[1].similarity(spans[2])"
   ]
  },
  {
   "cell_type": "code",
   "execution_count": null,
   "id": "e1aff5e9-146a-483e-8162-ea779029e0ac",
   "metadata": {},
   "outputs": [],
   "source": []
  }
 ],
 "metadata": {
  "kernelspec": {
   "display_name": "Python 3 (ipykernel)",
   "language": "python",
   "name": "python3"
  },
  "language_info": {
   "codemirror_mode": {
    "name": "ipython",
    "version": 3
   },
   "file_extension": ".py",
   "mimetype": "text/x-python",
   "name": "python",
   "nbconvert_exporter": "python",
   "pygments_lexer": "ipython3",
   "version": "3.8.12"
  }
 },
 "nbformat": 4,
 "nbformat_minor": 5
}
