{
 "cells": [
  {
   "cell_type": "markdown",
   "id": "0fec75f5-fb0e-472a-b0f0-a42888459683",
   "metadata": {},
   "source": [
    "# Flair Embeddings Basics\n",
    "\n",
    "## Flair Embeddings Tutorial\n",
    "\n",
    "https://github.com/flairNLP/flair/blob/master/resources/docs/TUTORIAL_3_WORD_EMBEDDING.md\n",
    "\n",
    "## Was sind Word Embeddings?\n",
    "\n",
    "### Video\n",
    "\n",
    "Information Service Engineering 2021,\n",
    "Prof. Dr. Harald Sack,\n",
    "Karlsruhe Institute of Technology\n",
    "\n",
    "https://www.youtube.com/watch?v=EG4x0SKb4h0&list=PLNXdQl4kBgzsi4WsCeCKOGSQdH-gWgt7R&index=6\n",
    "\n",
    "https://www.youtube.com/watch?v=LSMtLYWAfw0&list=PLNXdQl4kBgztwKrKv69LPAqqX1vgHENSi&index=6\n",
    "\n",
    "\n",
    "## >>> gute Visualisierung in Büchern suchen"
   ]
  },
  {
   "cell_type": "markdown",
   "id": "d2cd7b0c-2b94-4854-a390-672e89a1a6f5",
   "metadata": {},
   "source": [
    "## Imports"
   ]
  },
  {
   "cell_type": "code",
   "execution_count": 1,
   "id": "5773fee2-722c-4e7b-bcdf-66d7f860250c",
   "metadata": {},
   "outputs": [],
   "source": [
    "from flair.embeddings import WordEmbeddings, FlairEmbeddings, StackedEmbeddings\n",
    "from flair.data import Sentence"
   ]
  },
  {
   "cell_type": "code",
   "execution_count": 46,
   "id": "d3a4a4c0-b863-43c7-b96d-bd586d541f17",
   "metadata": {},
   "outputs": [],
   "source": [
    "text = '''Biden befürchtet Einmarsch \"in den nächsten Tagen\"\n",
    "            Stand: 18.02.2022 06:01 Uhr\n",
    "            Die Gefahr eines russischen Einmarsches in die Ukraine schätzt US-Präsident Biden als \"sehr hoch\" ein - schon in den kommenden Tagen könne es dazu kommen. Die russische Regierung wies den Vize-US-Botschafter in Moskau aus.\n",
    "            US-Präsident Joe Biden befürchtet trotz aller Beteuerungen aus Moskau einen russischen Einmarsch in die Ukraine in den kommenden Tagen. Biden sagte, die Gefahr einer Invasion sei \"sehr hoch\". Nach seiner Einschätzung könne es \"in den nächsten paar Tagen\" dazu kommen. Es gebe keine Pläne dafür, dass er mit dem russischen Präsidenten Wladimir Putin telefonieren werde, fügte er hinzu.\n",
    "            Der Kreml erklärte laut der russischen Agentur RIA, Bidens Warnung verstärke die Spannungen noch. Der stellvertretende Außenminister Sergej Werschinin wies vor dem UN-Sicherheitsrat die Befürchtungen des Westens vor einem bevorstehenden Einmarsch erneut zurück. \"Ich denke, wir haben genug darüber spekuliert\", sagte er. Eine Invasion sei entgegen der Warnungen ausgeblieben. In Richtung der USA und ihrer westlichen Verbündeten sagte Werschinin: \"Mein Rat an Sie ist, sich nicht in eine unangenehme Situation zu begeben.\"\n",
    "            Biden will am heutigen Freitag mit Verbündeten über das weitere Vorgehen beraten. Themen der Telefonschalte am Nachmittag (Ortszeit) sollten unter anderem die Aufstockung der russischen Truppen an der Grenze zur Ukraine und weitere diplomatische Bemühungen sein, hieß es aus dem Weißen Haus. Neben Kanadas Premierminister Justin Trudeau sollen führende Politiker aus Deutschland, Frankreich, Großbritannien, Italien, Polen und Rumänien an dem Gespräch teilnehmen, teilte Trudeaus Büro am Donnerstagabend (Ortszeit) mit. Auch die Europäische Union und die NATO seien vertreten.\n",
    "            US-Außenminister Antony Blinken will sich nächste Woche mit seinem russischen Kollegen Sergej Lawrow treffen - solange Russland nicht in der Ukraine einmarschiert. Blinken habe vorgeschlagen, sich mit Lawrow \"nächste Woche in Europa zu treffen. Die Russen haben mit Terminvorschlägen für Ende nächster Woche geantwortet, was wir unter der Bedingung akzeptiert haben, dass es keine russische Invasion der Ukraine gibt\", erklärte der Sprecher des Außenministeriums, Ned Price, am Abend.\n",
    "            Zuvor hatte Blinken vor dem UN-Sicherheitsrat ebenfalls gewarnt, Russland bereite sich auf einen Angriff in den kommenden Tagen vor. Russlands Plan sei, dafür einen Vorwand zu schaffen. \"Dies könnte ein gewaltsames Ereignis sein, das Russland gegen die Ukraine vorbringen wird, oder eine unerhörte Anschuldigung, die Russland gegen die ukrainische Regierung erheben wird\", sagte er. Möglich wären ihm zufolge ein vermeintlicher Terroranschlag in Russland, die \"erfundene Entdeckung eines Massengrabes\" und Vorwürfe eines Völkermordes, ein inszenierter Drohnenangriff auf Zivilisten oder ein vorgetäuschter oder echter Angriff mit Chemiewaffen.\n",
    "            Russische Medien würden bereits \"falsche Alarme\" verbreiten, so Blinken. Ein russischer Angriff könne auch die ukrainische Hauptstadt Kiew einbeziehen. Der US-Außenminister betonte, Diplomatie sei weiter der wichtigste Weg zur Lösung der Krise. Er habe daher seinem russischen Amtskollegen Sergej Lawrow ein persönliches Treffen in der kommenden Woche vorgeschlagen. \n",
    "            '''"
   ]
  },
  {
   "cell_type": "markdown",
   "id": "cd3edbf0-c070-42d7-bb30-fbb1076c4ed4",
   "metadata": {},
   "source": [
    "## Word Embeddings\n",
    "\n",
    "Liste der klassichen Word Embeddings:\n",
    "\n",
    "https://github.com/flairNLP/flair/blob/master/resources/docs/embeddings/CLASSIC_WORD_EMBEDDINGS.md"
   ]
  },
  {
   "cell_type": "code",
   "execution_count": 47,
   "id": "28a47003-3d0a-442b-ab5d-927e755aece7",
   "metadata": {},
   "outputs": [],
   "source": [
    "embedding = WordEmbeddings('de')"
   ]
  },
  {
   "cell_type": "code",
   "execution_count": 48,
   "id": "d6e627d2-5171-4ec5-b0bb-97d5d5ea801c",
   "metadata": {},
   "outputs": [
    {
     "name": "stdout",
     "output_type": "stream",
     "text": [
      "Wall time: 21.2 ms\n"
     ]
    }
   ],
   "source": [
    "%%time\n",
    "\n",
    "# Erstellen des Sentence-Objekts\n",
    "text = Sentence(text)"
   ]
  },
  {
   "cell_type": "code",
   "execution_count": 49,
   "id": "9966f805-04c2-43fb-95b2-4a6e78457d69",
   "metadata": {},
   "outputs": [
    {
     "name": "stdout",
     "output_type": "stream",
     "text": [
      "Wall time: 31.6 ms\n"
     ]
    },
    {
     "data": {
      "text/plain": [
       "[Sentence: \"Biden befürchtet Einmarsch \" in den nächsten Tagen \" Stand : 18.02.2022 06:01 Uhr Die Gefahr eines russischen Einmarsches in die Ukraine schätzt US-Präsident Biden als \" sehr hoch \" ein - schon in den kommenden Tagen könne es dazu kommen . Die russische Regierung wies den Vize-US-Botschafter in Moskau aus . US-Präsident Joe Biden befürchtet trotz aller Beteuerungen aus Moskau einen russischen Einmarsch in die Ukraine in den kommenden Tagen . Biden sagte , die Gefahr einer Invasion sei \" sehr hoch \" . Nach seiner Einschätzung könne es \" in den nächsten paar Tagen \" dazu kommen . Es gebe keine Pläne dafür , dass er mit dem russischen Präsidenten Wladimir Putin telefonieren werde , fügte er hinzu . Der Kreml erklärte laut der russischen Agentur RIA , Bidens Warnung verstärke die Spannungen noch . Der stellvertretende Außenminister Sergej Werschinin wies vor dem UN-Sicherheitsrat die Befürchtungen des Westens vor einem bevorstehenden Einmarsch erneut zurück . \" Ich denke , wir haben genug darüber spekuliert \" , sagte er . Eine Invasion sei entgegen der Warnungen ausgeblieben . In Richtung der USA und ihrer westlichen Verbündeten sagte Werschinin : \" Mein Rat an Sie ist , sich nicht in eine unangenehme Situation zu begeben . \" Biden will am heutigen Freitag mit Verbündeten über das weitere Vorgehen beraten . Themen der Telefonschalte am Nachmittag ( Ortszeit ) sollten unter anderem die Aufstockung der russischen Truppen an der Grenze zur Ukraine und weitere diplomatische Bemühungen sein , hieß es aus dem Weißen Haus . Neben Kanadas Premierminister Justin Trudeau sollen führende Politiker aus Deutschland , Frankreich , Großbritannien , Italien , Polen und Rumänien an dem Gespräch teilnehmen , teilte Trudeaus Büro am Donnerstagabend ( Ortszeit ) mit . Auch die Europäische Union und die NATO seien vertreten . US-Außenminister Antony Blinken will sich nächste Woche mit seinem russischen Kollegen Sergej Lawrow treffen - solange Russland nicht in der Ukraine einmarschiert . Blinken habe vorgeschlagen , sich mit Lawrow \" nächste Woche in Europa zu treffen . Die Russen haben mit Terminvorschlägen für Ende nächster Woche geantwortet , was wir unter der Bedingung akzeptiert haben , dass es keine russische Invasion der Ukraine gibt \" , erklärte der Sprecher des Außenministeriums , Ned Price , am Abend . Zuvor hatte Blinken vor dem UN-Sicherheitsrat ebenfalls gewarnt , Russland bereite sich auf einen Angriff in den kommenden Tagen vor . Russlands Plan sei , dafür einen Vorwand zu schaffen . \" Dies könnte ein gewaltsames Ereignis sein , das Russland gegen die Ukraine vorbringen wird , oder eine unerhörte Anschuldigung , die Russland gegen die ukrainische Regierung erheben wird \" , sagte er . Möglich wären ihm zufolge ein vermeintlicher Terroranschlag in Russland , die \" erfundene Entdeckung eines Massengrabes \" und Vorwürfe eines Völkermordes , ein inszenierter Drohnenangriff auf Zivilisten oder ein vorgetäuschter oder echter Angriff mit Chemiewaffen . Russische Medien würden bereits \" falsche Alarme \" verbreiten , so Blinken . Ein russischer Angriff könne auch die ukrainische Hauptstadt Kiew einbeziehen . Der US-Außenminister betonte , Diplomatie sei weiter der wichtigste Weg zur Lösung der Krise . Er habe daher seinem russischen Amtskollegen Sergej Lawrow ein persönliches Treffen in der kommenden Woche vorgeschlagen .\"   [− Tokens: 535]]"
      ]
     },
     "execution_count": 49,
     "metadata": {},
     "output_type": "execute_result"
    }
   ],
   "source": [
    "%%time\n",
    "\n",
    "# Erstellen der Word Embeddings\n",
    "embedding.embed(text)"
   ]
  },
  {
   "cell_type": "code",
   "execution_count": 53,
   "id": "2899e847-d6c0-4ca0-a4e4-f18a6f978de2",
   "metadata": {
    "collapsed": true,
    "jupyter": {
     "outputs_hidden": true
    },
    "tags": []
   },
   "outputs": [
    {
     "name": "stdout",
     "output_type": "stream",
     "text": [
      "Token: 1 Biden\n",
      "tensor([-7.8923e-02,  2.4628e-01, -3.8108e-01, -6.2871e-01,  3.8367e-01,\n",
      "         5.3533e-01,  2.8005e-02,  4.0969e-01,  2.8747e-01,  4.1506e-01,\n",
      "         8.4334e-03, -6.4162e-03,  3.5484e-01, -2.1080e-01, -1.5462e-01,\n",
      "        -4.5055e-01, -2.4137e-01,  1.0655e-01, -9.0998e-01,  2.1993e-01,\n",
      "         1.2067e-01, -2.4979e-01, -7.2511e-02, -8.5835e-02, -1.9839e-01,\n",
      "        -1.3344e-01, -5.7131e-01, -1.8463e-01, -3.1098e-01, -4.1582e-01,\n",
      "         1.7205e-01,  2.8265e-02, -4.4262e-01,  7.4274e-03,  8.6720e-02,\n",
      "        -2.7014e-01,  3.1015e-01, -5.3546e-01, -4.1678e-01, -1.2758e-01,\n",
      "        -2.3226e-01, -3.6083e-01,  5.9496e-02, -7.8684e-03, -1.2107e-01,\n",
      "        -1.7956e-01, -5.6662e-01, -4.5334e-02,  2.5439e-02, -2.0734e-01,\n",
      "         5.1500e-02,  2.9675e-01, -1.5524e-01, -1.4948e-02, -3.4001e-02,\n",
      "        -2.3703e-01,  3.1869e-01, -2.3203e-01,  1.2610e-01,  3.2230e-01,\n",
      "        -4.8734e-02, -1.4125e-01,  4.3318e-01,  3.4058e-01, -6.4771e-01,\n",
      "         1.1643e-01, -2.7466e-01,  4.5505e-01,  4.9772e-02, -4.4488e-01,\n",
      "        -7.7614e-01,  1.7502e-01, -4.6127e-01,  6.2339e-01, -1.3707e-01,\n",
      "         2.8509e-02,  1.4592e-02, -1.9716e-01,  2.9662e-02, -8.2808e-02,\n",
      "        -7.2529e-01, -9.1476e-02,  3.1616e-01, -1.5262e-01, -2.4772e-01,\n",
      "        -3.3743e-01,  3.7369e-02, -8.2920e-02, -2.9164e-01,  1.5160e-01,\n",
      "        -3.0138e-03, -3.0886e-02, -5.0568e-02,  2.0986e-02,  3.8270e-01,\n",
      "         4.2979e-01,  3.5307e-01,  4.2251e-01, -2.7093e-01, -2.6218e-01,\n",
      "        -4.0442e-01,  1.1885e-01, -1.9641e-01,  1.5134e-01,  6.9600e-02,\n",
      "        -9.8132e-02, -2.2101e-02,  2.0864e-01,  2.0802e-01, -1.2333e-01,\n",
      "        -4.7897e-01, -3.6395e-01, -2.1527e-02,  9.2037e-02, -1.1764e-01,\n",
      "         6.5368e-02,  5.5804e-04, -9.5387e-02, -2.0334e-01, -8.5828e-02,\n",
      "         1.2128e-01,  2.6691e-01, -3.7367e-01, -1.5252e-01,  2.9167e-01,\n",
      "        -1.2672e-01,  4.2786e-01, -1.3544e-01,  6.7009e-01,  2.2205e-02,\n",
      "         4.1928e-01,  1.3213e-01,  4.4325e-01, -2.8464e-01,  3.4287e-01,\n",
      "        -7.0572e-02,  1.6312e-01,  8.9784e-02, -1.1580e-01, -3.1798e-02,\n",
      "        -2.0036e-01, -2.5703e-01,  2.9562e-01,  5.4063e-02,  1.7341e-01,\n",
      "        -5.3659e-01, -1.2237e-02, -1.2629e-01, -4.0177e-01,  4.0497e-01,\n",
      "         5.8630e-01, -4.4371e-02,  3.6664e-02,  3.2297e-01,  2.2432e-01,\n",
      "        -1.1698e-01, -2.4449e-02,  5.5282e-01,  3.6338e-01,  5.0216e-01,\n",
      "        -1.6018e-01,  2.4742e-01, -5.8403e-01,  2.8488e-01, -5.9139e-01,\n",
      "         1.3566e-01, -2.7935e-01,  2.6097e-02, -1.4411e-01, -5.6931e-01,\n",
      "        -3.8201e-02,  1.9125e-01,  8.5658e-01,  1.3390e-01,  3.2001e-01,\n",
      "         4.8280e-01, -4.7253e-02, -5.1682e-01,  1.7409e-01, -2.6538e-01,\n",
      "        -6.2928e-02,  6.2906e-01, -2.9667e-02,  1.6095e-01,  1.2548e-01,\n",
      "         4.0335e-01, -4.8989e-01, -1.2011e-01, -4.6025e-02,  3.6576e-01,\n",
      "         4.1188e-02, -4.3760e-01,  4.9057e-02,  9.4092e-02,  4.7172e-02,\n",
      "        -2.7193e-01, -2.4984e-01,  1.6596e-01,  2.1063e-01, -5.1792e-01,\n",
      "         4.1935e-02, -3.3703e-02,  1.2247e-01,  2.4935e-01,  1.1959e-01,\n",
      "         4.3510e-01, -2.3279e-01, -2.5057e-01, -6.7787e-02,  1.2782e-01,\n",
      "         2.4881e-01,  1.6279e-01,  2.6130e-01, -4.2877e-01, -2.5862e-01,\n",
      "         1.2958e-01,  2.4592e-01,  2.1882e-01,  1.9219e-01,  2.3304e-01,\n",
      "        -4.4386e-01,  1.8954e-01,  1.3524e-01,  3.2488e-01, -1.3190e-01,\n",
      "         3.7964e-01,  4.0170e-01, -4.6670e-01, -8.6786e-02,  5.4081e-01,\n",
      "        -6.9273e-02,  1.5606e-01, -6.1868e-02, -4.1780e-01, -3.3826e-01,\n",
      "        -7.8298e-02,  3.0406e-02, -8.2515e-02, -1.1818e-01,  8.1778e-02,\n",
      "         1.4355e-01,  3.9061e-01, -2.4447e-01,  1.5526e-01,  1.5804e-01,\n",
      "         2.7853e-01,  3.4749e-01, -1.2658e-01, -1.6390e-01, -2.2285e-01,\n",
      "        -7.7005e-03, -1.0234e-01, -2.6286e-01,  7.0710e-02, -1.0894e-02,\n",
      "        -9.8325e-03,  5.7079e-01, -2.1040e-01, -2.0192e-01, -1.1986e-01,\n",
      "        -3.3467e-01, -3.6832e-01,  1.1655e-01,  1.3348e-02,  1.5481e-01,\n",
      "        -7.3536e-02, -1.1151e-02,  7.5563e-02,  2.0739e-01,  1.0299e-01,\n",
      "         3.7131e-01, -1.6814e-01,  4.2167e-01, -4.8491e-01,  2.1404e-01,\n",
      "        -1.2217e-01, -8.2909e-02,  3.2501e-01, -1.4962e-01,  3.7902e-01,\n",
      "         2.4819e-01,  1.0834e-03,  4.4635e-01,  1.2654e-01, -5.6586e-01,\n",
      "        -2.3156e-01, -2.4775e-02, -4.0913e-01, -3.7202e-02,  8.5795e-02,\n",
      "        -1.6800e-01, -5.1209e-02, -1.5292e-01, -4.7932e-02, -3.3838e-01,\n",
      "        -1.3548e-01,  1.8987e-01,  3.0203e-01,  1.6694e-02,  3.3079e-01])\n",
      "Token: 2 befürchtet\n",
      "tensor([-3.0098e-01, -4.5191e-01, -2.4102e-01, -5.9474e-01,  9.4078e-02,\n",
      "         2.1969e-01, -2.6114e-01, -2.1321e-01,  2.7646e-02,  1.7498e-01,\n",
      "         3.5484e-01,  4.9224e-01,  2.7001e-01, -3.2954e-01, -4.0646e-02,\n",
      "        -3.3488e-01,  3.7171e-01,  1.4681e-02, -3.3185e-01, -6.3312e-02,\n",
      "         3.1769e-01, -5.0652e-02, -8.0125e-02,  4.4513e-03, -2.4906e-01,\n",
      "        -3.7548e-01, -8.1001e-02,  2.4829e-01,  9.1759e-02, -7.4184e-02,\n",
      "         1.7934e-01,  1.4571e-01,  3.5965e-01, -2.8826e-01,  1.2744e-01,\n",
      "         3.5398e-01, -5.7050e-02,  4.0022e-02, -1.9293e-01, -8.6151e-02,\n",
      "         9.4105e-02,  1.1615e-01,  2.8323e-03,  2.0251e-01,  1.2385e-01,\n",
      "         1.2141e-01, -4.8141e-02,  3.8025e-02,  1.9815e-02,  1.1564e-01,\n",
      "        -5.2938e-02,  1.5874e-01,  1.9611e-01,  2.0455e-01,  6.5409e-02,\n",
      "        -8.0571e-03,  1.4437e-01, -7.1524e-02, -1.5137e-01, -1.3753e-01,\n",
      "        -7.6590e-02,  2.6631e-01,  3.5861e-01,  1.3219e-01, -1.3339e-01,\n",
      "        -8.7849e-02,  7.7783e-02, -1.0045e-01,  1.8666e-02,  8.1781e-02,\n",
      "        -1.0463e-02,  5.8016e-02, -1.6529e-01,  3.2371e-01, -2.7212e-01,\n",
      "         5.3974e-02,  9.5411e-02, -1.3636e-02, -1.4574e-01,  2.4747e-01,\n",
      "        -3.5391e-01, -2.1869e-01, -1.6867e-01,  1.0540e-01,  1.6337e-02,\n",
      "        -4.5286e-03,  3.8249e-02, -7.4169e-02, -3.3709e-01, -8.7586e-02,\n",
      "         9.0646e-02,  3.1822e-01,  3.6708e-02, -1.4928e-02,  1.8980e-01,\n",
      "        -3.4247e-02, -1.3873e-01,  3.7671e-01, -4.0297e-01,  5.1261e-01,\n",
      "        -1.1246e-01,  5.8761e-02, -1.1842e-01, -8.5275e-02, -2.2236e-01,\n",
      "         1.4519e-01,  1.1814e-01, -1.4538e-01, -2.5261e-02,  1.2838e-03,\n",
      "         6.0033e-02,  6.4754e-02, -3.9136e-02, -5.6221e-02, -8.2698e-03,\n",
      "        -2.6888e-01, -2.8886e-01, -2.0729e-01, -1.1236e-01, -1.4147e-01,\n",
      "         1.2339e-01, -2.1947e-01,  1.8213e-01,  1.3040e-01,  1.0821e-01,\n",
      "         2.7906e-01,  2.6952e-01,  1.3374e-01,  1.8732e-02,  1.4961e-01,\n",
      "         1.7201e-01,  1.5811e-01, -3.6859e-02,  2.9025e-01, -1.9917e-01,\n",
      "         2.2511e-02,  1.3141e-03, -2.2774e-01,  1.5216e-01,  1.0160e-01,\n",
      "        -4.7323e-02,  1.8924e-02, -3.2808e-01,  2.6855e-01, -2.3092e-01,\n",
      "        -2.0880e-01,  1.5671e-01, -1.7867e-01, -4.7716e-02,  2.8649e-01,\n",
      "         3.8452e-01, -4.0291e-01, -3.4972e-01,  4.6333e-01, -9.9824e-02,\n",
      "         1.0456e-04, -3.5038e-01,  4.3247e-02, -3.9772e-02,  2.2093e-01,\n",
      "        -3.3745e-01,  3.8775e-01, -4.6786e-01, -1.1811e-01, -1.4262e-01,\n",
      "        -4.2606e-02,  8.3416e-02, -2.1125e-01,  5.0398e-03,  6.5041e-02,\n",
      "        -8.1220e-02,  7.2341e-02, -1.6950e-01,  3.1152e-01,  8.2320e-02,\n",
      "         1.8011e-01, -5.6662e-02, -1.0775e-01, -1.3472e-01, -5.2322e-02,\n",
      "        -2.2451e-01,  3.4881e-02, -1.9174e-02,  5.3281e-02,  1.5042e-01,\n",
      "         1.2348e-01, -2.6747e-02, -2.2606e-01,  7.1113e-02,  1.0803e-01,\n",
      "         4.5375e-01, -1.3487e-01, -1.3718e-01,  4.8507e-01, -9.5608e-02,\n",
      "        -3.0203e-01,  3.1148e-02,  2.3083e-01, -3.8032e-01,  8.9016e-02,\n",
      "        -2.9128e-01,  2.6772e-01, -2.3353e-01, -2.2857e-02, -1.7012e-03,\n",
      "         3.7932e-01, -7.1525e-02, -2.4307e-01, -3.0421e-01,  2.1645e-01,\n",
      "         2.4134e-01, -1.5200e-01, -3.2958e-02, -8.6883e-02, -3.5375e-01,\n",
      "        -2.0069e-01, -2.9900e-01,  2.5622e-01,  3.0462e-01,  8.8905e-02,\n",
      "         1.2995e-02, -3.9514e-01, -4.4278e-01,  2.8933e-02,  1.5985e-01,\n",
      "         2.1968e-01, -4.5487e-02, -1.9560e-01,  1.3927e-02,  2.8493e-01,\n",
      "        -2.3922e-01,  1.8973e-01, -5.0565e-01, -1.7808e-01,  3.2311e-01,\n",
      "         4.7183e-03, -3.3677e-01, -3.4260e-02, -7.8427e-02, -7.8851e-02,\n",
      "         1.0988e-01, -1.2402e-02, -7.3618e-02, -1.0534e-01, -1.4368e-01,\n",
      "        -1.1073e-01,  4.7259e-01, -3.3552e-01, -6.4852e-02,  4.1888e-01,\n",
      "        -5.0393e-01,  3.1901e-01, -2.7945e-01,  1.3248e-01,  4.6309e-01,\n",
      "        -4.6022e-01,  5.7136e-02, -2.3112e-01, -3.2036e-01, -9.0730e-03,\n",
      "        -1.4265e-01, -3.9802e-01, -9.4165e-02, -1.6304e-01,  5.3510e-02,\n",
      "        -1.5332e-01,  1.8137e-01, -7.1661e-02,  1.5619e-01, -1.1721e-01,\n",
      "         2.2498e-01, -4.6269e-02, -1.4501e-01, -2.1819e-01,  1.2734e-01,\n",
      "        -1.8380e-01,  7.5141e-02, -2.0142e-01, -4.5896e-01,  6.6254e-02,\n",
      "        -1.4627e-01,  3.1875e-01,  1.9643e-01, -1.2025e-02, -5.8139e-03,\n",
      "        -2.4177e-01, -1.8888e-01,  1.1832e-01, -2.6709e-01,  9.2997e-02,\n",
      "         1.8859e-01,  2.1434e-01,  3.5916e-02,  9.3640e-02,  1.9317e-02,\n",
      "        -5.1343e-01,  1.5534e-01,  3.1815e-01,  1.7326e-01, -1.0917e-01])\n",
      "Token: 3 Einmarsch\n",
      "tensor([-0.0711,  0.1360, -0.5346, -0.5931,  0.6775,  0.1750, -0.2179, -0.2407,\n",
      "        -0.2823, -0.0413,  0.1363, -0.0341, -0.5968, -0.2094,  0.1134,  0.1969,\n",
      "        -0.1384,  0.7146,  0.0463, -0.2535,  0.1940,  0.4121, -0.2027, -0.0832,\n",
      "         0.5383, -0.3724, -0.2175, -0.0047, -0.2236,  0.1464,  0.0691,  0.6176,\n",
      "         0.0563, -0.0513, -0.5307,  0.0913,  0.0103, -0.0140, -0.4991,  0.0719,\n",
      "        -0.0927, -0.3957, -0.2691,  0.6590,  0.0803, -0.3728, -0.0102,  0.1409,\n",
      "         0.1143, -0.2655,  0.1335,  0.1182,  0.2540,  0.3212,  0.0604, -0.1062,\n",
      "        -0.4394,  0.0271,  0.1947,  0.0798, -0.1496, -0.2238,  0.3008,  0.1087,\n",
      "        -0.2567, -0.2263, -0.2016, -0.3778, -0.1424,  0.3437,  0.1118, -0.0600,\n",
      "        -0.2474, -0.0538, -0.5298,  0.1220,  0.0950,  0.1497, -0.0154,  0.2344,\n",
      "        -0.0905,  0.1747, -0.0164,  0.3536,  0.1590, -0.4350,  0.0942, -0.1733,\n",
      "        -0.0260,  0.0454, -0.1541,  0.0420,  0.2319,  0.0126, -0.0416, -0.2240,\n",
      "         0.2840,  0.1065,  0.1534, -0.1950, -0.0746,  0.1489,  0.1619,  0.2550,\n",
      "        -0.5069, -0.1990, -0.2901,  0.3415, -0.0430,  0.1112,  0.1783,  0.0907,\n",
      "        -0.3492,  0.1865,  0.1579,  0.1457,  0.2493,  0.0338, -0.2594, -0.1181,\n",
      "        -0.1919, -0.0661, -0.0066,  0.4523,  0.0608, -0.0370, -0.0881,  0.5117,\n",
      "        -0.1286, -0.0593, -0.3897,  0.2291,  0.0561,  0.1560, -0.1322,  0.0464,\n",
      "        -0.0596, -0.4027,  0.0739, -0.3286, -0.3448,  0.3833, -0.2462,  0.3893,\n",
      "        -0.2322, -0.6770,  0.2773, -0.0685, -0.2865, -0.0453,  0.6698, -0.6297,\n",
      "        -0.2373,  0.0864, -0.1529,  0.3621, -0.1209,  0.1975,  0.4203, -0.0406,\n",
      "        -0.2248,  0.1528, -0.5684, -0.0469,  0.3449, -0.2012, -0.1076, -0.3033,\n",
      "        -0.0707,  0.2935, -0.0818, -0.1808,  0.1542,  0.6484,  0.2637,  0.1900,\n",
      "         0.1966,  0.1497, -0.2131,  0.5889,  0.1363,  0.0264,  0.3102,  0.1623,\n",
      "        -0.0239, -0.0698, -0.0570, -0.3763,  0.1740,  0.2439,  0.0400, -0.1425,\n",
      "        -0.3781, -0.0701,  0.0286, -0.0067,  0.0993,  0.2204,  0.0465, -0.0570,\n",
      "        -0.2860,  0.0564,  0.3425,  0.1685,  0.1247,  0.0876,  0.1873,  0.1885,\n",
      "        -0.1506,  0.1073,  0.4746, -0.1278,  0.2755,  0.0390, -0.3992, -0.0154,\n",
      "        -0.1924,  0.1690,  0.0963, -0.3472, -0.1344,  0.1938,  0.0468, -0.2187,\n",
      "         0.1036,  0.1090, -0.0206, -0.7334,  0.2104, -0.1375, -0.1148, -0.5459,\n",
      "         0.1754, -0.2460,  0.3873, -0.2376,  0.2083, -0.6038, -0.2386, -0.0752,\n",
      "         0.1022,  0.2514,  0.0888,  0.1476, -0.1621, -0.3159,  0.0771,  0.1271,\n",
      "        -0.0828,  0.0660, -0.1926, -0.1733,  0.5053,  0.2952,  0.3490, -0.1999,\n",
      "         0.2168, -0.2675, -0.0258, -0.0431,  0.2922,  0.0193, -0.1269,  0.4053,\n",
      "        -0.6546, -0.1044,  0.4976,  0.1707,  0.6166,  0.4044,  0.0768, -0.1137,\n",
      "         0.3033, -0.0577, -0.0681, -0.3701,  0.2939, -0.2716, -0.2671,  0.2566,\n",
      "        -0.1007,  0.1824,  0.2347,  0.3383, -0.0781, -0.1408, -0.5578,  0.3175,\n",
      "        -0.3381,  0.1820, -0.1465,  0.2810, -0.1500,  0.3001,  0.2110, -0.0390,\n",
      "        -0.0189, -0.0273,  0.0801,  0.5887])\n",
      "Token: 4 \"\n",
      "tensor([ 0.0428,  0.1169, -0.0084, -0.0940,  0.0432,  0.1128,  0.1194, -0.3113,\n",
      "        -0.2364, -0.3227,  0.2135, -0.0509, -0.1083,  0.0297,  0.1535,  0.3928,\n",
      "        -0.2598, -0.0832, -0.0733, -0.0080,  0.1804,  0.2785,  0.3097, -0.3756,\n",
      "        -0.0804, -0.0722, -0.2727,  0.2726, -0.4024, -0.0470, -0.0649, -0.1757,\n",
      "        -0.0043, -0.2999, -0.2730, -0.2773, -0.0529, -0.1889, -0.1016,  0.3108,\n",
      "         0.0987, -0.0942,  0.1025,  0.0280, -0.1321, -0.1002, -0.0593, -0.0053,\n",
      "        -0.1254, -0.0387,  0.2583,  0.0047, -0.3164,  0.0291, -0.0322, -0.0807,\n",
      "         0.4000,  0.0980, -0.1368,  0.0206,  0.3614,  0.1473,  0.0531, -0.0602,\n",
      "         0.1723, -0.3016,  0.3093, -0.1305,  0.1274,  0.1173, -0.5400, -0.0623,\n",
      "        -0.0414, -0.0226, -0.1962,  0.2548,  0.2289,  0.2562, -0.0729, -0.2016,\n",
      "        -0.2388, -0.0532,  0.0199, -0.0613,  0.1603, -0.2149, -0.1364, -0.2857,\n",
      "         0.0812, -0.4562, -0.0685, -0.0810,  0.1870, -0.0394,  0.1743, -0.0425,\n",
      "         0.3632,  0.2337, -0.1594, -0.1843,  0.2986,  0.1227,  0.1683, -0.3012,\n",
      "        -0.2404,  0.3413, -0.1663,  0.0184, -0.2431,  0.0415,  0.1431,  0.2765,\n",
      "        -0.0624,  0.1378,  0.3257,  0.0662,  0.1745, -0.1435, -0.2054, -0.0922,\n",
      "        -0.1102,  0.0923, -0.1215, -0.2535, -0.0036,  0.1719, -0.1241,  0.2904,\n",
      "        -0.1109,  0.0568, -0.2220, -0.1406,  0.1481, -0.0598,  0.3172, -0.0079,\n",
      "        -0.0183,  0.1448, -0.0690,  0.1389, -0.0114, -0.0402,  0.0810,  0.6402,\n",
      "         0.0786,  0.1873,  0.4589,  0.0766, -0.0231, -0.0313,  0.4433, -0.1899,\n",
      "        -0.3971,  0.0299, -0.1421,  0.1892, -0.2004,  0.0790,  0.0378,  0.2796,\n",
      "        -0.0505,  0.1691, -0.0008, -0.0615, -0.0588, -0.0748,  0.0442,  0.1237,\n",
      "        -0.2562,  0.1248,  0.0956, -0.3555,  0.0920, -0.0886,  0.1802,  0.1193,\n",
      "        -0.1939,  0.0977,  0.1801, -0.3403, -0.1033,  0.0422,  0.1003,  0.1915,\n",
      "         0.0638, -0.1527,  0.1918,  0.1204,  0.0346,  0.1951,  0.0320,  0.1145,\n",
      "         0.2552,  0.1373, -0.2265, -0.1441, -0.1542,  0.1954, -0.1920, -0.0582,\n",
      "         0.1496,  0.4931,  0.0856,  0.2789,  0.1155,  0.4430,  0.1088, -0.0083,\n",
      "         0.3673, -0.1426,  0.3378,  0.0233,  0.0993, -0.0044, -0.5032,  0.0864,\n",
      "         0.1659, -0.0621,  0.1931,  0.2014,  0.1708, -0.1416, -0.1833, -0.1732,\n",
      "        -0.2811, -0.0573, -0.0610, -0.4403,  0.0635,  0.0950,  0.0417, -0.1577,\n",
      "        -0.0937,  0.1085, -0.0126,  0.2157, -0.0805, -0.1559, -0.0717, -0.3323,\n",
      "         0.0305,  0.1350, -0.0104,  0.0401, -0.0799, -0.1300,  0.1383, -0.0396,\n",
      "        -0.0718, -0.0775,  0.0639,  0.2882, -0.2551,  0.1620, -0.0085, -0.0069,\n",
      "         0.1523, -0.2150, -0.1583,  0.0808, -0.2177,  0.0923,  0.1026,  0.0548,\n",
      "        -0.1376, -0.2022, -0.3011,  0.1227,  0.0591, -0.2098,  0.1930,  0.1416,\n",
      "         0.1111, -0.0684,  0.3563, -0.1429,  0.1332, -0.0510,  0.2664,  0.4154,\n",
      "         0.4456, -0.1167, -0.0442, -0.2044,  0.3129, -0.1612,  0.1192, -0.1797,\n",
      "        -0.4751,  0.0408, -0.1742,  0.0368, -0.1640,  0.3046,  0.0482, -0.2290,\n",
      "        -0.2704,  0.0474,  0.1809,  0.0214])\n",
      "Token: 5 in\n",
      "tensor([-1.6362e-01,  1.0080e-01, -8.2755e-02, -3.2682e-01, -1.3695e-01,\n",
      "         2.7540e-01,  1.3498e-01, -7.3273e-02, -1.1699e-01,  2.4676e-01,\n",
      "        -1.7540e-01,  2.5660e-02,  8.4885e-02,  1.4359e-01, -1.0060e-01,\n",
      "         5.1090e-02,  2.4621e-02, -5.7174e-02, -4.3379e-02, -4.5274e-02,\n",
      "         1.3687e-01, -4.4028e-02,  3.8727e-02, -1.9829e-01,  1.3473e-01,\n",
      "        -6.3856e-02,  9.4739e-02,  1.0715e-01, -1.8733e-01, -2.6250e-01,\n",
      "         6.3571e-03, -6.1939e-02, -1.4445e-01, -9.9158e-02, -4.1753e-02,\n",
      "         6.5838e-03,  9.8767e-02,  1.8559e-01,  1.5833e-01,  9.9587e-03,\n",
      "        -1.6127e-01, -1.5104e-01, -8.1189e-02,  2.1506e-01,  4.6405e-02,\n",
      "        -3.2927e-01,  8.8728e-02, -1.1512e-01,  1.9713e-02, -9.2691e-02,\n",
      "         1.0772e-01, -1.2682e-01, -3.7134e-02,  9.9725e-02, -4.8086e-02,\n",
      "        -8.0683e-03,  2.3888e-02,  8.2373e-02, -2.0815e-02, -6.7380e-02,\n",
      "        -1.9672e-01,  4.5329e-03,  1.0458e-02,  2.2793e-01, -3.9680e-01,\n",
      "        -2.2045e-01,  5.9817e-02,  1.3755e-02, -4.7393e-02,  4.1791e-02,\n",
      "        -1.6968e-01, -1.1686e-01, -1.8100e-01, -1.5744e-01, -1.6339e-01,\n",
      "         6.5290e-02,  2.0833e-02, -1.4872e-01,  4.4350e-02, -8.0393e-02,\n",
      "        -1.8083e-01,  1.2762e-02,  9.1551e-02,  5.1955e-02,  3.4564e-01,\n",
      "        -7.1614e-02,  9.5073e-03, -2.5187e-02, -3.4651e-02, -5.1784e-02,\n",
      "        -7.6448e-02, -1.0140e-01, -1.6321e-01,  5.4816e-02, -1.1441e-01,\n",
      "        -1.0052e-01, -9.0575e-02,  2.4262e-01, -1.1475e-03, -2.5189e-02,\n",
      "         6.4868e-02,  3.9125e-01, -1.2811e-01, -2.2254e-03,  1.5494e-01,\n",
      "         7.2876e-02, -1.7593e-01,  7.1045e-02,  3.6560e-03, -1.1372e-01,\n",
      "         6.7255e-02,  3.1388e-01, -2.0686e-02, -3.6286e-02,  3.0793e-02,\n",
      "         8.7341e-02,  3.1199e-01,  1.7203e-01, -1.4682e-01,  1.8143e-01,\n",
      "         2.3475e-04,  8.2487e-02,  3.1164e-01, -1.1098e-01,  8.7213e-02,\n",
      "         6.4097e-02,  5.8351e-02,  6.5596e-02,  1.6216e-01,  9.3980e-02,\n",
      "        -5.9634e-02, -4.2412e-02, -7.3889e-02,  6.9974e-02,  4.4030e-02,\n",
      "         9.1267e-02, -8.0057e-02,  1.7347e-01,  8.7288e-02, -1.5079e-01,\n",
      "        -2.9174e-01,  3.3317e-01,  1.6049e-01,  2.8287e-01,  1.4456e-01,\n",
      "        -1.4023e-01,  1.1355e-01,  6.3058e-02,  3.6837e-02, -1.1285e-01,\n",
      "         2.1559e-01, -2.5755e-01, -2.2087e-01,  1.3880e-02, -1.2884e-01,\n",
      "        -8.0784e-02, -1.2887e-01,  2.7605e-01,  1.9396e-01,  1.2943e-02,\n",
      "         8.4313e-02,  5.7508e-02, -1.1227e-01,  2.5638e-01, -4.9488e-02,\n",
      "        -5.2747e-02,  3.8683e-03, -3.5168e-02, -1.9329e-01,  1.3876e-01,\n",
      "         7.9289e-02,  1.3874e-02,  1.0317e-01,  1.4031e-01,  5.3414e-02,\n",
      "        -1.0761e-01,  3.3084e-02, -2.5298e-01,  1.2096e-01,  5.0919e-02,\n",
      "         1.0366e-02,  2.6810e-02, -4.2371e-02,  1.4674e-01, -6.9332e-02,\n",
      "        -7.0909e-02,  9.3861e-02, -1.9363e-01, -1.0291e-01, -1.1445e-02,\n",
      "        -2.9907e-02,  2.4942e-01,  3.7507e-01,  1.7414e-01, -4.1729e-03,\n",
      "        -8.1738e-02,  3.9058e-02,  9.3562e-02, -1.3709e-01, -4.8895e-02,\n",
      "         9.3226e-03,  1.1509e-01,  4.2879e-02,  1.4628e-01, -5.9874e-02,\n",
      "        -1.6142e-03, -8.0691e-03, -9.9777e-02,  5.8336e-02, -3.9917e-02,\n",
      "         7.6533e-02,  4.4830e-02,  5.0406e-02,  6.1996e-02, -1.3728e-01,\n",
      "        -2.5531e-02, -4.0278e-02, -4.4880e-02,  1.2276e-01, -1.6203e-01,\n",
      "         9.8505e-02, -1.5057e-01,  6.9621e-02,  1.2923e-01, -1.0158e-01,\n",
      "         1.9422e-02,  1.6935e-01, -2.0015e-01, -1.5473e-01,  1.2954e-01,\n",
      "         2.2115e-02, -1.3298e-01, -4.4099e-03,  7.5846e-02, -1.3687e-01,\n",
      "        -1.9407e-01, -5.3991e-02, -1.2868e-01, -1.8858e-01, -1.1562e-01,\n",
      "        -1.8147e-01,  5.9013e-02, -2.0547e-01,  1.1216e-01, -5.8435e-03,\n",
      "        -1.6364e-01, -3.3892e-01,  9.9668e-02, -4.3398e-03,  1.6025e-01,\n",
      "        -8.0372e-02, -3.4487e-02,  2.5436e-03, -2.8755e-02,  6.0940e-02,\n",
      "        -1.5160e-01, -2.1202e-01, -8.4774e-02, -1.0064e-01, -3.2729e-02,\n",
      "         1.1584e-01, -9.8324e-02, -2.4760e-01,  5.9631e-02, -1.1004e-01,\n",
      "        -7.3343e-02,  1.3289e-01,  1.3408e-01,  8.3969e-02, -2.5317e-01,\n",
      "        -2.0968e-01,  9.2059e-02, -1.5255e-03, -1.6558e-01,  1.3521e-01,\n",
      "        -9.3152e-02,  7.7932e-02, -1.1001e-01, -7.9857e-02,  2.5896e-01,\n",
      "         1.4986e-01,  1.5529e-01,  1.3264e-01,  1.6613e-01, -1.7059e-01,\n",
      "         1.3694e-01, -1.1578e-01, -8.1250e-02, -2.3130e-02,  6.0857e-02,\n",
      "         8.6573e-03,  1.8368e-01,  4.3479e-02,  2.5325e-01, -2.6852e-01,\n",
      "        -2.5255e-02, -1.9864e-01,  9.3630e-02, -1.0434e-01,  1.1621e-01])\n"
     ]
    }
   ],
   "source": [
    "for token in text[:5]:\n",
    "    print(token)\n",
    "    print(token.embedding)"
   ]
  },
  {
   "cell_type": "markdown",
   "id": "459d8a12-435d-4dc0-9bf9-2a349d7a3566",
   "metadata": {},
   "source": [
    "## Flair Embeddings\n",
    "\n",
    "Liste von vortrainierten Flair Embeddings:\n",
    "\n",
    "https://github.com/flairNLP/flair/blob/master/resources/docs/embeddings/FLAIR_EMBEDDINGS.md"
   ]
  },
  {
   "cell_type": "code",
   "execution_count": 10,
   "id": "577a2d90-924c-414e-9aa7-ea74d6986f5d",
   "metadata": {},
   "outputs": [
    {
     "name": "stdout",
     "output_type": "stream",
     "text": [
      "2022-02-24 16:33:38,217 https://flair.informatik.hu-berlin.de/resources/embeddings/flair/lm-mix-german-forward-v0.2rc.pt not found in cache, downloading to C:\\Users\\nitra\\AppData\\Local\\Temp\\tmpafgfgstv\n"
     ]
    },
    {
     "name": "stderr",
     "output_type": "stream",
     "text": [
      "100%|██████████| 72818995/72818995 [00:12<00:00, 5666109.16B/s]"
     ]
    },
    {
     "name": "stdout",
     "output_type": "stream",
     "text": [
      "2022-02-24 16:33:51,218 copying C:\\Users\\nitra\\AppData\\Local\\Temp\\tmpafgfgstv to cache at C:\\Users\\nitra\\.flair\\embeddings\\lm-mix-german-forward-v0.2rc.pt\n"
     ]
    },
    {
     "name": "stderr",
     "output_type": "stream",
     "text": [
      "\n"
     ]
    },
    {
     "name": "stdout",
     "output_type": "stream",
     "text": [
      "2022-02-24 16:33:51,264 removing temp file C:\\Users\\nitra\\AppData\\Local\\Temp\\tmpafgfgstv\n",
      "2022-02-24 16:33:51,616 https://flair.informatik.hu-berlin.de/resources/embeddings/flair/lm-mix-german-backward-v0.2rc.pt not found in cache, downloading to C:\\Users\\nitra\\AppData\\Local\\Temp\\tmpl7aknp5t\n"
     ]
    },
    {
     "name": "stderr",
     "output_type": "stream",
     "text": [
      "100%|██████████| 72818995/72818995 [00:11<00:00, 6157732.09B/s]"
     ]
    },
    {
     "name": "stdout",
     "output_type": "stream",
     "text": [
      "2022-02-24 16:34:03,600 copying C:\\Users\\nitra\\AppData\\Local\\Temp\\tmpl7aknp5t to cache at C:\\Users\\nitra\\.flair\\embeddings\\lm-mix-german-backward-v0.2rc.pt\n",
      "2022-02-24 16:34:03,642 removing temp file C:\\Users\\nitra\\AppData\\Local\\Temp\\tmpl7aknp5t\n"
     ]
    },
    {
     "name": "stderr",
     "output_type": "stream",
     "text": [
      "\n"
     ]
    }
   ],
   "source": [
    "flair_embedding_forward = FlairEmbeddings('de-forward')\n",
    "flair_embedding_backward = FlairEmbeddings('de-backward')"
   ]
  },
  {
   "cell_type": "code",
   "execution_count": 54,
   "id": "dbcf55f4-c743-4660-a6ca-2bb7ec1b58f0",
   "metadata": {
    "collapsed": true,
    "jupyter": {
     "outputs_hidden": true
    },
    "tags": []
   },
   "outputs": [
    {
     "name": "stdout",
     "output_type": "stream",
     "text": [
      "Wall time: 5.56 s\n"
     ]
    },
    {
     "data": {
      "text/plain": [
       "[Sentence: \"Biden befürchtet Einmarsch \" in den nächsten Tagen \" Stand : 18.02.2022 06:01 Uhr Die Gefahr eines russischen Einmarsches in die Ukraine schätzt US-Präsident Biden als \" sehr hoch \" ein - schon in den kommenden Tagen könne es dazu kommen . Die russische Regierung wies den Vize-US-Botschafter in Moskau aus . US-Präsident Joe Biden befürchtet trotz aller Beteuerungen aus Moskau einen russischen Einmarsch in die Ukraine in den kommenden Tagen . Biden sagte , die Gefahr einer Invasion sei \" sehr hoch \" . Nach seiner Einschätzung könne es \" in den nächsten paar Tagen \" dazu kommen . Es gebe keine Pläne dafür , dass er mit dem russischen Präsidenten Wladimir Putin telefonieren werde , fügte er hinzu . Der Kreml erklärte laut der russischen Agentur RIA , Bidens Warnung verstärke die Spannungen noch . Der stellvertretende Außenminister Sergej Werschinin wies vor dem UN-Sicherheitsrat die Befürchtungen des Westens vor einem bevorstehenden Einmarsch erneut zurück . \" Ich denke , wir haben genug darüber spekuliert \" , sagte er . Eine Invasion sei entgegen der Warnungen ausgeblieben . In Richtung der USA und ihrer westlichen Verbündeten sagte Werschinin : \" Mein Rat an Sie ist , sich nicht in eine unangenehme Situation zu begeben . \" Biden will am heutigen Freitag mit Verbündeten über das weitere Vorgehen beraten . Themen der Telefonschalte am Nachmittag ( Ortszeit ) sollten unter anderem die Aufstockung der russischen Truppen an der Grenze zur Ukraine und weitere diplomatische Bemühungen sein , hieß es aus dem Weißen Haus . Neben Kanadas Premierminister Justin Trudeau sollen führende Politiker aus Deutschland , Frankreich , Großbritannien , Italien , Polen und Rumänien an dem Gespräch teilnehmen , teilte Trudeaus Büro am Donnerstagabend ( Ortszeit ) mit . Auch die Europäische Union und die NATO seien vertreten . US-Außenminister Antony Blinken will sich nächste Woche mit seinem russischen Kollegen Sergej Lawrow treffen - solange Russland nicht in der Ukraine einmarschiert . Blinken habe vorgeschlagen , sich mit Lawrow \" nächste Woche in Europa zu treffen . Die Russen haben mit Terminvorschlägen für Ende nächster Woche geantwortet , was wir unter der Bedingung akzeptiert haben , dass es keine russische Invasion der Ukraine gibt \" , erklärte der Sprecher des Außenministeriums , Ned Price , am Abend . Zuvor hatte Blinken vor dem UN-Sicherheitsrat ebenfalls gewarnt , Russland bereite sich auf einen Angriff in den kommenden Tagen vor . Russlands Plan sei , dafür einen Vorwand zu schaffen . \" Dies könnte ein gewaltsames Ereignis sein , das Russland gegen die Ukraine vorbringen wird , oder eine unerhörte Anschuldigung , die Russland gegen die ukrainische Regierung erheben wird \" , sagte er . Möglich wären ihm zufolge ein vermeintlicher Terroranschlag in Russland , die \" erfundene Entdeckung eines Massengrabes \" und Vorwürfe eines Völkermordes , ein inszenierter Drohnenangriff auf Zivilisten oder ein vorgetäuschter oder echter Angriff mit Chemiewaffen . Russische Medien würden bereits \" falsche Alarme \" verbreiten , so Blinken . Ein russischer Angriff könne auch die ukrainische Hauptstadt Kiew einbeziehen . Der US-Außenminister betonte , Diplomatie sei weiter der wichtigste Weg zur Lösung der Krise . Er habe daher seinem russischen Amtskollegen Sergej Lawrow ein persönliches Treffen in der kommenden Woche vorgeschlagen .\"   [− Tokens: 535]]"
      ]
     },
     "execution_count": 54,
     "metadata": {},
     "output_type": "execute_result"
    }
   ],
   "source": [
    "%%time\n",
    "flair_embedding_forward.embed(text)"
   ]
  },
  {
   "cell_type": "code",
   "execution_count": 55,
   "id": "3f8a9e7d-6b6f-40bc-af93-cd0e437994e7",
   "metadata": {},
   "outputs": [
    {
     "name": "stdout",
     "output_type": "stream",
     "text": [
      "Token: 1 Biden\n",
      "tensor([9.4392e-06, 2.0923e-02, 2.5609e-02,  ..., 3.0203e-01, 1.6694e-02,\n",
      "        3.3079e-01])\n",
      "Token: 2 befürchtet\n",
      "tensor([ 9.1861e-06, -5.8712e-02,  3.0785e-03,  ...,  3.1815e-01,\n",
      "         1.7326e-01, -1.0917e-01])\n",
      "Token: 3 Einmarsch\n",
      "tensor([ 8.5281e-06, -1.9479e-02,  1.4128e-02,  ..., -2.7326e-02,\n",
      "         8.0130e-02,  5.8866e-01])\n",
      "Token: 4 \"\n",
      "tensor([ 1.3426e-05, -3.8168e-02,  1.2664e-03,  ...,  4.7371e-02,\n",
      "         1.8086e-01,  2.1398e-02])\n",
      "Token: 5 in\n",
      "tensor([ 4.8289e-06, -4.7096e-02,  1.9098e-03,  ...,  9.3630e-02,\n",
      "        -1.0434e-01,  1.1621e-01])\n",
      "Token: 6 den\n",
      "tensor([ 4.7265e-06, -4.5689e-02,  1.7801e-04,  ...,  1.2994e-01,\n",
      "         1.2650e-02, -4.0145e-02])\n",
      "Token: 7 nächsten\n",
      "tensor([ 2.5844e-06, -1.5880e-02,  4.4804e-05,  ...,  3.9676e-01,\n",
      "         1.5711e-01,  1.9868e-02])\n",
      "Token: 8 Tagen\n",
      "tensor([ 5.9548e-06, -1.5614e-02,  3.6668e-03,  ...,  4.5252e-01,\n",
      "         1.4140e-01,  1.4613e-01])\n",
      "Token: 9 \"\n",
      "tensor([ 3.4456e-05, -1.4919e-02,  6.5583e-04,  ...,  4.7371e-02,\n",
      "         1.8086e-01,  2.1398e-02])\n",
      "Token: 10 Stand\n",
      "tensor([ 4.4305e-06, -1.8942e-02,  6.6043e-03,  ...,  1.1367e-01,\n",
      "         1.4842e-01,  3.9804e-01])\n"
     ]
    }
   ],
   "source": [
    "for token in text[:10]:\n",
    "    print(token)\n",
    "    print(token.embedding)"
   ]
  },
  {
   "cell_type": "markdown",
   "id": "228ac6cc-6b02-40e4-9afb-5f389810525e",
   "metadata": {},
   "source": [
    "## Stacked Embeddings"
   ]
  },
  {
   "cell_type": "code",
   "execution_count": 56,
   "id": "db905c8c-d5b6-4b0d-997d-b19a867f6cbc",
   "metadata": {},
   "outputs": [],
   "source": [
    "stacked_embeddings = StackedEmbeddings([\n",
    "                                        embedding,\n",
    "                                        flair_embedding_forward,\n",
    "                                        flair_embedding_backward,\n",
    "                                       ])"
   ]
  },
  {
   "cell_type": "code",
   "execution_count": 57,
   "id": "43baa47d-46c8-4327-b959-0a609d933f03",
   "metadata": {},
   "outputs": [
    {
     "name": "stdout",
     "output_type": "stream",
     "text": [
      "Wall time: 11.1 s\n"
     ]
    }
   ],
   "source": [
    "%%time\n",
    "stacked_embeddings.embed(text)"
   ]
  },
  {
   "cell_type": "code",
   "execution_count": 77,
   "id": "fd0d5038-19f4-4ba7-b47a-bf13e332da9f",
   "metadata": {},
   "outputs": [
    {
     "name": "stdout",
     "output_type": "stream",
     "text": [
      "Token: 1 Biden\n",
      "<class 'torch.Tensor'>\n",
      "tensor([-0.0789,  0.2463, -0.3811,  ...,  0.3020,  0.0167,  0.3308])\n",
      "Token: 2 befürchtet\n",
      "<class 'torch.Tensor'>\n",
      "tensor([-0.3010, -0.4519, -0.2410,  ...,  0.3182,  0.1733, -0.1092])\n",
      "Token: 3 Einmarsch\n",
      "<class 'torch.Tensor'>\n",
      "tensor([-0.0711,  0.1360, -0.5346,  ..., -0.0273,  0.0801,  0.5887])\n",
      "Token: 4 \"\n",
      "<class 'torch.Tensor'>\n",
      "tensor([ 0.0428,  0.1169, -0.0084,  ...,  0.0474,  0.1809,  0.0214])\n",
      "Token: 5 in\n",
      "<class 'torch.Tensor'>\n",
      "tensor([-0.1636,  0.1008, -0.0828,  ...,  0.0936, -0.1043,  0.1162])\n",
      "Token: 6 den\n",
      "<class 'torch.Tensor'>\n",
      "tensor([-0.3198, -0.0855, -0.3333,  ...,  0.1299,  0.0126, -0.0401])\n",
      "Token: 7 nächsten\n",
      "<class 'torch.Tensor'>\n",
      "tensor([-0.3537,  0.1262, -0.4875,  ...,  0.3968,  0.1571,  0.0199])\n",
      "Token: 8 Tagen\n",
      "<class 'torch.Tensor'>\n",
      "tensor([-0.1788,  0.3280, -0.2208,  ...,  0.4525,  0.1414,  0.1461])\n",
      "Token: 9 \"\n",
      "<class 'torch.Tensor'>\n",
      "tensor([ 0.0428,  0.1169, -0.0084,  ...,  0.0474,  0.1809,  0.0214])\n",
      "Token: 10 Stand\n",
      "<class 'torch.Tensor'>\n",
      "tensor([-0.3658,  0.1855, -0.2860,  ...,  0.1137,  0.1484,  0.3980])\n"
     ]
    }
   ],
   "source": [
    "for token in text[:10]:\n",
    "    print(token)\n",
    "    print(type(token.embedding))\n",
    "    print(token.embedding)    \n",
    "    "
   ]
  },
  {
   "cell_type": "code",
   "execution_count": 78,
   "id": "e3c0cd32-7586-4e6e-baa4-cfbeb6fdc2d6",
   "metadata": {},
   "outputs": [
    {
     "name": "stdout",
     "output_type": "stream",
     "text": [
      "Biden tensor([-0.0789,  0.2463, -0.3811,  ...,  0.3020,  0.0167,  0.3308])\n",
      "befürchtet tensor([-0.3010, -0.4519, -0.2410,  ...,  0.3182,  0.1733, -0.1092])\n",
      "Einmarsch tensor([-0.0711,  0.1360, -0.5346,  ..., -0.0273,  0.0801,  0.5887])\n",
      "\" tensor([ 0.0428,  0.1169, -0.0084,  ...,  0.0474,  0.1809,  0.0214])\n",
      "in tensor([-0.1636,  0.1008, -0.0828,  ...,  0.0936, -0.1043,  0.1162])\n",
      "den tensor([-0.3198, -0.0855, -0.3333,  ...,  0.1299,  0.0126, -0.0401])\n",
      "nächsten tensor([-0.3537,  0.1262, -0.4875,  ...,  0.3968,  0.1571,  0.0199])\n",
      "Tagen tensor([-0.1788,  0.3280, -0.2208,  ...,  0.4525,  0.1414,  0.1461])\n",
      "\" tensor([ 0.0428,  0.1169, -0.0084,  ...,  0.0474,  0.1809,  0.0214])\n",
      "Stand tensor([-0.3658,  0.1855, -0.2860,  ...,  0.1137,  0.1484,  0.3980])\n"
     ]
    }
   ],
   "source": [
    "for token in text[:10]:\n",
    "    print(token.text, token.embedding)"
   ]
  },
  {
   "cell_type": "code",
   "execution_count": null,
   "id": "7e526f05-ee52-4339-abed-22f8f9b061e3",
   "metadata": {},
   "outputs": [],
   "source": []
  },
  {
   "cell_type": "code",
   "execution_count": 74,
   "id": "0aca8bad-872b-40c0-9009-d28af7c184a9",
   "metadata": {},
   "outputs": [
    {
     "data": {
      "text/plain": [
       "torch.Tensor"
      ]
     },
     "execution_count": 74,
     "metadata": {},
     "output_type": "execute_result"
    }
   ],
   "source": [
    "type(token.embedding)"
   ]
  },
  {
   "cell_type": "code",
   "execution_count": 73,
   "id": "f08e9810-3658-47f5-ac2c-64e34e4e350c",
   "metadata": {},
   "outputs": [],
   "source": [
    "from umap import UMAP\n"
   ]
  },
  {
   "cell_type": "code",
   "execution_count": 75,
   "id": "4f39b640-d963-4386-9d73-b0314931e21b",
   "metadata": {},
   "outputs": [],
   "source": [
    "# convert from torch.Tensor to numpy array\n",
    "\n",
    "# token.embedding.cpu().detach().numpy()"
   ]
  },
  {
   "cell_type": "code",
   "execution_count": 69,
   "id": "7a9afc39-3a7b-4d93-8963-6db1fe24cf84",
   "metadata": {},
   "outputs": [],
   "source": [
    "matrix = list()\n",
    "for sentence in text:\n",
    "   # word_embeddings.embed(sentence)\n",
    "    embedding = sentence.get_embedding().cpu().detach().numpy()\n",
    "    matrix.append(embedding)"
   ]
  },
  {
   "cell_type": "code",
   "execution_count": 70,
   "id": "8310d5a0-4688-47b6-a480-d75cc4bf272f",
   "metadata": {},
   "outputs": [],
   "source": [
    "reducer = UMAP(n_components=2, metric='cosine', n_neighbors=15, min_dist=0.1)"
   ]
  },
  {
   "cell_type": "code",
   "execution_count": 71,
   "id": "d6ac2b2f-9f27-4055-8b10-67e3c3f4e84c",
   "metadata": {},
   "outputs": [],
   "source": [
    "reduced_matrix = reducer.fit_transform(matrix)"
   ]
  },
  {
   "cell_type": "code",
   "execution_count": 72,
   "id": "99138a23-0ae7-4e10-8249-e58bf4c9f358",
   "metadata": {},
   "outputs": [
    {
     "data": {
      "text/plain": [
       "(535, 2)"
      ]
     },
     "execution_count": 72,
     "metadata": {},
     "output_type": "execute_result"
    }
   ],
   "source": [
    "reduced_matrix.shape"
   ]
  },
  {
   "cell_type": "code",
   "execution_count": null,
   "id": "e8ce8ef8-cf33-46f4-94a5-77f24d8c7733",
   "metadata": {},
   "outputs": [],
   "source": []
  }
 ],
 "metadata": {
  "kernelspec": {
   "display_name": "Python 3 (ipykernel)",
   "language": "python",
   "name": "python3"
  },
  "language_info": {
   "codemirror_mode": {
    "name": "ipython",
    "version": 3
   },
   "file_extension": ".py",
   "mimetype": "text/x-python",
   "name": "python",
   "nbconvert_exporter": "python",
   "pygments_lexer": "ipython3",
   "version": "3.8.12"
  }
 },
 "nbformat": 4,
 "nbformat_minor": 5
}
